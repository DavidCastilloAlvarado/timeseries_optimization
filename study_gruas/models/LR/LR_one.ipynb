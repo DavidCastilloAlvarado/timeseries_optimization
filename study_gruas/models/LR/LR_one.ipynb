{
 "cells": [
  {
   "cell_type": "markdown",
   "metadata": {},
   "source": [
    "# Optimización de Parámetros - Regresión Lineal (uno)"
   ]
  },
  {
   "cell_type": "code",
   "execution_count": 1,
   "metadata": {},
   "outputs": [],
   "source": [
    "## Get current work directory to load all the custom modules\n",
    "from pathlib import Path\n",
    "import os\n",
    "import sys\n",
    "BASE_DIR = Path().absolute().resolve(strict=True).parent.parent.parent\n",
    "if str(BASE_DIR) not in sys.path:\n",
    "    sys.path.append(str(BASE_DIR))"
   ]
  },
  {
   "cell_type": "code",
   "execution_count": 2,
   "metadata": {},
   "outputs": [
    {
     "name": "stdout",
     "output_type": "stream",
     "text": [
      "/workspace/Externos/TimeSeries/BenchMark/data/gruas\n"
     ]
    }
   ],
   "source": [
    "DATA_PATH = os.path.join(BASE_DIR, 'data', 'gruas')\n",
    "print(DATA_PATH)"
   ]
  },
  {
   "cell_type": "code",
   "execution_count": 3,
   "metadata": {},
   "outputs": [],
   "source": [
    "import pandas as pd\n"
   ]
  },
  {
   "cell_type": "code",
   "execution_count": 4,
   "metadata": {},
   "outputs": [],
   "source": [
    "import optuna\n",
    "import datetime"
   ]
  },
  {
   "cell_type": "code",
   "execution_count": 5,
   "metadata": {},
   "outputs": [],
   "source": [
    "from modulos.arima.gruas.general import format_timeseries, show_results_r2, arima_forecasting, total_forecasting, show_optimizer_results\n",
    "from sklearn.model_selection import train_test_split\n",
    "from sklearn.linear_model import LinearRegression\n",
    "from sklearn.metrics import mean_squared_error\n",
    "from matplotlib import pyplot as plt\n",
    "\n",
    "from modulos.LR.gruas.generals import make_lags"
   ]
  },
  {
   "cell_type": "code",
   "execution_count": 6,
   "metadata": {},
   "outputs": [
    {
     "data": {
      "text/html": [
       "<div>\n",
       "<style scoped>\n",
       "    .dataframe tbody tr th:only-of-type {\n",
       "        vertical-align: middle;\n",
       "    }\n",
       "\n",
       "    .dataframe tbody tr th {\n",
       "        vertical-align: top;\n",
       "    }\n",
       "\n",
       "    .dataframe thead th {\n",
       "        text-align: right;\n",
       "    }\n",
       "</style>\n",
       "<table border=\"1\" class=\"dataframe\">\n",
       "  <thead>\n",
       "    <tr style=\"text-align: right;\">\n",
       "      <th></th>\n",
       "      <th>idArticulo</th>\n",
       "      <th>ventas</th>\n",
       "      <th>DescProducto</th>\n",
       "      <th>Periodo</th>\n",
       "    </tr>\n",
       "  </thead>\n",
       "  <tbody>\n",
       "    <tr>\n",
       "      <th>0</th>\n",
       "      <td>tuerc</td>\n",
       "      <td>7</td>\n",
       "      <td>TUERCA</td>\n",
       "      <td>2021-05-01</td>\n",
       "    </tr>\n",
       "    <tr>\n",
       "      <th>1</th>\n",
       "      <td>tuerc</td>\n",
       "      <td>5</td>\n",
       "      <td>TUERCA</td>\n",
       "      <td>2020-12-01</td>\n",
       "    </tr>\n",
       "    <tr>\n",
       "      <th>2</th>\n",
       "      <td>tuerc</td>\n",
       "      <td>1</td>\n",
       "      <td>TUERCA</td>\n",
       "      <td>2020-11-01</td>\n",
       "    </tr>\n",
       "    <tr>\n",
       "      <th>3</th>\n",
       "      <td>tuerc</td>\n",
       "      <td>11</td>\n",
       "      <td>TUERCA</td>\n",
       "      <td>2020-09-01</td>\n",
       "    </tr>\n",
       "    <tr>\n",
       "      <th>4</th>\n",
       "      <td>tuerc</td>\n",
       "      <td>4</td>\n",
       "      <td>TUERCA</td>\n",
       "      <td>2020-06-01</td>\n",
       "    </tr>\n",
       "  </tbody>\n",
       "</table>\n",
       "</div>"
      ],
      "text/plain": [
       "  idArticulo  ventas DescProducto    Periodo\n",
       "0      tuerc       7       TUERCA 2021-05-01\n",
       "1      tuerc       5       TUERCA 2020-12-01\n",
       "2      tuerc       1       TUERCA 2020-11-01\n",
       "3      tuerc      11       TUERCA 2020-09-01\n",
       "4      tuerc       4       TUERCA 2020-06-01"
      ]
     },
     "execution_count": 6,
     "metadata": {},
     "output_type": "execute_result"
    }
   ],
   "source": [
    "data = pd.read_csv(os.path.join(DATA_PATH, 'producto.csv'), parse_dates=['Periodo'])\n",
    "data.head()"
   ]
  },
  {
   "cell_type": "code",
   "execution_count": 7,
   "metadata": {},
   "outputs": [
    {
     "data": {
      "text/html": [
       "<div>\n",
       "<style scoped>\n",
       "    .dataframe tbody tr th:only-of-type {\n",
       "        vertical-align: middle;\n",
       "    }\n",
       "\n",
       "    .dataframe tbody tr th {\n",
       "        vertical-align: top;\n",
       "    }\n",
       "\n",
       "    .dataframe thead th {\n",
       "        text-align: right;\n",
       "    }\n",
       "</style>\n",
       "<table border=\"1\" class=\"dataframe\">\n",
       "  <thead>\n",
       "    <tr style=\"text-align: right;\">\n",
       "      <th>idArticulo</th>\n",
       "      <th>arandel</th>\n",
       "      <th>bateriascanrec</th>\n",
       "      <th>filtrodeair</th>\n",
       "      <th>filtrodepresio</th>\n",
       "      <th>filtroderetorn</th>\n",
       "      <th>pern</th>\n",
       "      <th>soport</th>\n",
       "      <th>tuerc</th>\n",
       "    </tr>\n",
       "    <tr>\n",
       "      <th>Periodo</th>\n",
       "      <th></th>\n",
       "      <th></th>\n",
       "      <th></th>\n",
       "      <th></th>\n",
       "      <th></th>\n",
       "      <th></th>\n",
       "      <th></th>\n",
       "      <th></th>\n",
       "    </tr>\n",
       "  </thead>\n",
       "  <tbody>\n",
       "    <tr>\n",
       "      <th>2021-06-01</th>\n",
       "      <td>0.0</td>\n",
       "      <td>0.0</td>\n",
       "      <td>2.0</td>\n",
       "      <td>2.0</td>\n",
       "      <td>4.0</td>\n",
       "      <td>0.0</td>\n",
       "      <td>0.0</td>\n",
       "      <td>0.0</td>\n",
       "    </tr>\n",
       "    <tr>\n",
       "      <th>2021-07-01</th>\n",
       "      <td>0.0</td>\n",
       "      <td>1.0</td>\n",
       "      <td>2.0</td>\n",
       "      <td>2.0</td>\n",
       "      <td>2.0</td>\n",
       "      <td>0.0</td>\n",
       "      <td>1.0</td>\n",
       "      <td>0.0</td>\n",
       "    </tr>\n",
       "    <tr>\n",
       "      <th>2021-08-01</th>\n",
       "      <td>0.0</td>\n",
       "      <td>0.0</td>\n",
       "      <td>0.0</td>\n",
       "      <td>1.0</td>\n",
       "      <td>1.0</td>\n",
       "      <td>0.0</td>\n",
       "      <td>0.0</td>\n",
       "      <td>0.0</td>\n",
       "    </tr>\n",
       "    <tr>\n",
       "      <th>2021-09-01</th>\n",
       "      <td>0.0</td>\n",
       "      <td>0.0</td>\n",
       "      <td>1.0</td>\n",
       "      <td>1.0</td>\n",
       "      <td>1.0</td>\n",
       "      <td>0.0</td>\n",
       "      <td>0.0</td>\n",
       "      <td>0.0</td>\n",
       "    </tr>\n",
       "    <tr>\n",
       "      <th>2021-10-01</th>\n",
       "      <td>0.0</td>\n",
       "      <td>1.0</td>\n",
       "      <td>2.0</td>\n",
       "      <td>2.0</td>\n",
       "      <td>1.0</td>\n",
       "      <td>0.0</td>\n",
       "      <td>0.0</td>\n",
       "      <td>0.0</td>\n",
       "    </tr>\n",
       "  </tbody>\n",
       "</table>\n",
       "</div>"
      ],
      "text/plain": [
       "idArticulo  arandel  bateriascanrec  filtrodeair  filtrodepresio  \\\n",
       "Periodo                                                            \n",
       "2021-06-01      0.0             0.0          2.0             2.0   \n",
       "2021-07-01      0.0             1.0          2.0             2.0   \n",
       "2021-08-01      0.0             0.0          0.0             1.0   \n",
       "2021-09-01      0.0             0.0          1.0             1.0   \n",
       "2021-10-01      0.0             1.0          2.0             2.0   \n",
       "\n",
       "idArticulo  filtroderetorn  pern  soport  tuerc  \n",
       "Periodo                                          \n",
       "2021-06-01             4.0   0.0     0.0    0.0  \n",
       "2021-07-01             2.0   0.0     1.0    0.0  \n",
       "2021-08-01             1.0   0.0     0.0    0.0  \n",
       "2021-09-01             1.0   0.0     0.0    0.0  \n",
       "2021-10-01             1.0   0.0     0.0    0.0  "
      ]
     },
     "execution_count": 7,
     "metadata": {},
     "output_type": "execute_result"
    }
   ],
   "source": [
    "# Pivotando las tablas y llenando de ceros las ventas que no existen.\n",
    "df_time = format_timeseries(data)\n",
    "df_time.tail()"
   ]
  },
  {
   "cell_type": "markdown",
   "metadata": {},
   "source": [
    "## Baseline LR"
   ]
  },
  {
   "cell_type": "code",
   "execution_count": 8,
   "metadata": {},
   "outputs": [
    {
     "data": {
      "text/html": [
       "<style type=\"text/css\">\n",
       "#T_35d5f_row0_col0, #T_35d5f_row1_col0, #T_35d5f_row2_col0, #T_35d5f_row3_col0, #T_35d5f_row4_col0, #T_35d5f_row5_col0, #T_35d5f_row6_col0, #T_35d5f_row7_col0, #T_35d5f_row8_col0, #T_35d5f_row9_col0 {\n",
       "  background-color: green;\n",
       "}\n",
       "#T_35d5f_row0_col1, #T_35d5f_row0_col2, #T_35d5f_row0_col3, #T_35d5f_row1_col1, #T_35d5f_row1_col2, #T_35d5f_row1_col3, #T_35d5f_row2_col1, #T_35d5f_row2_col2, #T_35d5f_row2_col3, #T_35d5f_row3_col1, #T_35d5f_row3_col2, #T_35d5f_row3_col3, #T_35d5f_row4_col1, #T_35d5f_row4_col2, #T_35d5f_row4_col3, #T_35d5f_row5_col1, #T_35d5f_row5_col2, #T_35d5f_row5_col3, #T_35d5f_row6_col1, #T_35d5f_row6_col2, #T_35d5f_row6_col3, #T_35d5f_row7_col1, #T_35d5f_row7_col2, #T_35d5f_row7_col3, #T_35d5f_row8_col1, #T_35d5f_row8_col2, #T_35d5f_row8_col3, #T_35d5f_row9_col1, #T_35d5f_row9_col2, #T_35d5f_row9_col3 {\n",
       "  background-color: magenta;\n",
       "}\n",
       "</style>\n",
       "<table id=\"T_35d5f_\">\n",
       "  <thead>\n",
       "    <tr>\n",
       "      <th class=\"blank level0\" >&nbsp;</th>\n",
       "      <th class=\"col_heading level0 col0\" >Targets</th>\n",
       "      <th class=\"col_heading level0 col1\" colspan=\"3\">Features</th>\n",
       "    </tr>\n",
       "    <tr>\n",
       "      <th class=\"blank level1\" >&nbsp;</th>\n",
       "      <th class=\"col_heading level1 col0\" >y</th>\n",
       "      <th class=\"col_heading level1 col1\" >y_lag_1</th>\n",
       "      <th class=\"col_heading level1 col2\" >y_lag_2</th>\n",
       "      <th class=\"col_heading level1 col3\" >y_lag_3</th>\n",
       "    </tr>\n",
       "    <tr>\n",
       "      <th class=\"index_name level0\" >Periodo</th>\n",
       "      <th class=\"blank col0\" >&nbsp;</th>\n",
       "      <th class=\"blank col1\" >&nbsp;</th>\n",
       "      <th class=\"blank col2\" >&nbsp;</th>\n",
       "      <th class=\"blank col3\" >&nbsp;</th>\n",
       "    </tr>\n",
       "  </thead>\n",
       "  <tbody>\n",
       "    <tr>\n",
       "      <th id=\"T_35d5f_level0_row0\" class=\"row_heading level0 row0\" >2020-12-01 00:00:00</th>\n",
       "      <td id=\"T_35d5f_row0_col0\" class=\"data row0 col0\" >3.000000</td>\n",
       "      <td id=\"T_35d5f_row0_col1\" class=\"data row0 col1\" >1.000000</td>\n",
       "      <td id=\"T_35d5f_row0_col2\" class=\"data row0 col2\" >3.000000</td>\n",
       "      <td id=\"T_35d5f_row0_col3\" class=\"data row0 col3\" >0.000000</td>\n",
       "    </tr>\n",
       "    <tr>\n",
       "      <th id=\"T_35d5f_level0_row1\" class=\"row_heading level0 row1\" >2021-01-01 00:00:00</th>\n",
       "      <td id=\"T_35d5f_row1_col0\" class=\"data row1 col0\" >3.000000</td>\n",
       "      <td id=\"T_35d5f_row1_col1\" class=\"data row1 col1\" >3.000000</td>\n",
       "      <td id=\"T_35d5f_row1_col2\" class=\"data row1 col2\" >1.000000</td>\n",
       "      <td id=\"T_35d5f_row1_col3\" class=\"data row1 col3\" >3.000000</td>\n",
       "    </tr>\n",
       "    <tr>\n",
       "      <th id=\"T_35d5f_level0_row2\" class=\"row_heading level0 row2\" >2021-02-01 00:00:00</th>\n",
       "      <td id=\"T_35d5f_row2_col0\" class=\"data row2 col0\" >1.000000</td>\n",
       "      <td id=\"T_35d5f_row2_col1\" class=\"data row2 col1\" >3.000000</td>\n",
       "      <td id=\"T_35d5f_row2_col2\" class=\"data row2 col2\" >3.000000</td>\n",
       "      <td id=\"T_35d5f_row2_col3\" class=\"data row2 col3\" >1.000000</td>\n",
       "    </tr>\n",
       "    <tr>\n",
       "      <th id=\"T_35d5f_level0_row3\" class=\"row_heading level0 row3\" >2021-03-01 00:00:00</th>\n",
       "      <td id=\"T_35d5f_row3_col0\" class=\"data row3 col0\" >0.000000</td>\n",
       "      <td id=\"T_35d5f_row3_col1\" class=\"data row3 col1\" >1.000000</td>\n",
       "      <td id=\"T_35d5f_row3_col2\" class=\"data row3 col2\" >3.000000</td>\n",
       "      <td id=\"T_35d5f_row3_col3\" class=\"data row3 col3\" >3.000000</td>\n",
       "    </tr>\n",
       "    <tr>\n",
       "      <th id=\"T_35d5f_level0_row4\" class=\"row_heading level0 row4\" >2021-05-01 00:00:00</th>\n",
       "      <td id=\"T_35d5f_row4_col0\" class=\"data row4 col0\" >2.000000</td>\n",
       "      <td id=\"T_35d5f_row4_col1\" class=\"data row4 col1\" >0.000000</td>\n",
       "      <td id=\"T_35d5f_row4_col2\" class=\"data row4 col2\" >1.000000</td>\n",
       "      <td id=\"T_35d5f_row4_col3\" class=\"data row4 col3\" >3.000000</td>\n",
       "    </tr>\n",
       "    <tr>\n",
       "      <th id=\"T_35d5f_level0_row5\" class=\"row_heading level0 row5\" >2021-06-01 00:00:00</th>\n",
       "      <td id=\"T_35d5f_row5_col0\" class=\"data row5 col0\" >2.000000</td>\n",
       "      <td id=\"T_35d5f_row5_col1\" class=\"data row5 col1\" >2.000000</td>\n",
       "      <td id=\"T_35d5f_row5_col2\" class=\"data row5 col2\" >0.000000</td>\n",
       "      <td id=\"T_35d5f_row5_col3\" class=\"data row5 col3\" >1.000000</td>\n",
       "    </tr>\n",
       "    <tr>\n",
       "      <th id=\"T_35d5f_level0_row6\" class=\"row_heading level0 row6\" >2021-07-01 00:00:00</th>\n",
       "      <td id=\"T_35d5f_row6_col0\" class=\"data row6 col0\" >2.000000</td>\n",
       "      <td id=\"T_35d5f_row6_col1\" class=\"data row6 col1\" >2.000000</td>\n",
       "      <td id=\"T_35d5f_row6_col2\" class=\"data row6 col2\" >2.000000</td>\n",
       "      <td id=\"T_35d5f_row6_col3\" class=\"data row6 col3\" >0.000000</td>\n",
       "    </tr>\n",
       "    <tr>\n",
       "      <th id=\"T_35d5f_level0_row7\" class=\"row_heading level0 row7\" >2021-08-01 00:00:00</th>\n",
       "      <td id=\"T_35d5f_row7_col0\" class=\"data row7 col0\" >0.000000</td>\n",
       "      <td id=\"T_35d5f_row7_col1\" class=\"data row7 col1\" >2.000000</td>\n",
       "      <td id=\"T_35d5f_row7_col2\" class=\"data row7 col2\" >2.000000</td>\n",
       "      <td id=\"T_35d5f_row7_col3\" class=\"data row7 col3\" >2.000000</td>\n",
       "    </tr>\n",
       "    <tr>\n",
       "      <th id=\"T_35d5f_level0_row8\" class=\"row_heading level0 row8\" >2021-09-01 00:00:00</th>\n",
       "      <td id=\"T_35d5f_row8_col0\" class=\"data row8 col0\" >1.000000</td>\n",
       "      <td id=\"T_35d5f_row8_col1\" class=\"data row8 col1\" >0.000000</td>\n",
       "      <td id=\"T_35d5f_row8_col2\" class=\"data row8 col2\" >2.000000</td>\n",
       "      <td id=\"T_35d5f_row8_col3\" class=\"data row8 col3\" >2.000000</td>\n",
       "    </tr>\n",
       "    <tr>\n",
       "      <th id=\"T_35d5f_level0_row9\" class=\"row_heading level0 row9\" >2021-10-01 00:00:00</th>\n",
       "      <td id=\"T_35d5f_row9_col0\" class=\"data row9 col0\" >2.000000</td>\n",
       "      <td id=\"T_35d5f_row9_col1\" class=\"data row9 col1\" >1.000000</td>\n",
       "      <td id=\"T_35d5f_row9_col2\" class=\"data row9 col2\" >0.000000</td>\n",
       "      <td id=\"T_35d5f_row9_col3\" class=\"data row9 col3\" >2.000000</td>\n",
       "    </tr>\n",
       "  </tbody>\n",
       "</table>\n"
      ],
      "text/plain": [
       "<pandas.io.formats.style.Styler at 0x7fa9182a9c70>"
      ]
     },
     "execution_count": 8,
     "metadata": {},
     "output_type": "execute_result"
    }
   ],
   "source": [
    "   \n",
    "idArticulo = 'filtrodeair'\n",
    "\n",
    "ts = df_time[idArticulo].copy()\n",
    "\n",
    "# Lag features\n",
    "n_lags = 3\n",
    "X = make_lags(ts, n_lags)\n",
    "# Multistep targets\n",
    "y = pd.DataFrame({\n",
    "    'y': ts,\n",
    "})\n",
    "\n",
    "y, X = y.align(X, join='inner', axis=0)\n",
    "\n",
    "data = pd.concat({'Targets': y, 'Features': X}, axis=1)\n",
    "\n",
    "data.tail(10).style.set_properties(['Targets'], **{'background-color': 'green'}) \\\n",
    "                   .set_properties(['Features'], **{'background-color': 'magenta'})\n",
    "    "
   ]
  },
  {
   "cell_type": "code",
   "execution_count": 9,
   "metadata": {},
   "outputs": [],
   "source": [
    "# X_train, X_test, y_train, y_test = train_test_split(X, y, test_size=0.2, shuffle=True)"
   ]
  },
  {
   "cell_type": "code",
   "execution_count": 10,
   "metadata": {},
   "outputs": [
    {
     "data": {
      "text/plain": [
       "LinearRegression()"
      ]
     },
     "execution_count": 10,
     "metadata": {},
     "output_type": "execute_result"
    }
   ],
   "source": [
    "model = LinearRegression()\n",
    "model.fit(X, y)"
   ]
  },
  {
   "cell_type": "code",
   "execution_count": 11,
   "metadata": {},
   "outputs": [],
   "source": [
    "y_fit = pd.DataFrame(model.predict(X), index=X.index, columns=y.columns)\n",
    "#y_pred = pd.DataFrame(model.predict(X_test), index=X_test.index, columns=y.columns)"
   ]
  },
  {
   "cell_type": "code",
   "execution_count": 12,
   "metadata": {},
   "outputs": [
    {
     "data": {
      "image/png": "[encoded data removed]",
      "text/plain": [
       "<Figure size 864x360 with 1 Axes>"
      ]
     },
     "metadata": {
      "needs_background": "light"
     },
     "output_type": "display_data"
    },
    {
     "data": {
      "text/plain": [
       "0.37202971161140264"
      ]
     },
     "execution_count": 12,
     "metadata": {},
     "output_type": "execute_result"
    }
   ],
   "source": [
    "show_results_r2(df_time, y_fit, idArticulo)\n"
   ]
  },
  {
   "cell_type": "code",
   "execution_count": null,
   "metadata": {},
   "outputs": [],
   "source": []
  }
 ],
 "metadata": {
  "interpreter": {
   "hash": "916dbcbb3f70747c44a77c7bcd40155683ae19c65e1c03b4aa3499c5328201f1"
  },
  "kernelspec": {
   "display_name": "Python 3.8.10 64-bit",
   "language": "python",
   "name": "python3"
  },
  "language_info": {
   "codemirror_mode": {
    "name": "ipython",
    "version": 3
   },
   "file_extension": ".py",
   "mimetype": "text/x-python",
   "name": "python",
   "nbconvert_exporter": "python",
   "pygments_lexer": "ipython3",
   "version": "3.8.10"
  },
  "orig_nbformat": 4
 },
 "nbformat": 4,
 "nbformat_minor": 2
}
