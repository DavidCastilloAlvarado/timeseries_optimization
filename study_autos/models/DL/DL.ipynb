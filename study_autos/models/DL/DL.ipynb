{
 "cells": [
  {
   "cell_type": "markdown",
   "metadata": {},
   "source": [
    "# Optimización de Parámetros - DL - RNN"
   ]
  },
  {
   "cell_type": "code",
   "execution_count": 1,
   "metadata": {},
   "outputs": [],
   "source": [
    "## Get current work directory to load all the custom modules\n",
    "from pathlib import Path\n",
    "import os\n",
    "import sys\n",
    "BASE_DIR = Path().absolute().resolve(strict=True).parent.parent.parent\n",
    "if str(BASE_DIR) not in sys.path:\n",
    "    sys.path.append(str(BASE_DIR))"
   ]
  },
  {
   "cell_type": "code",
   "execution_count": 2,
   "metadata": {},
   "outputs": [
    {
     "name": "stdout",
     "output_type": "stream",
     "text": [
      "/workspace/Externos/TimeSeries/BenchMark/data/autos\n"
     ]
    }
   ],
   "source": [
    "DATA_PATH = os.path.join(BASE_DIR, 'data', 'autos')\n",
    "print(DATA_PATH)"
   ]
  },
  {
   "cell_type": "code",
   "execution_count": 3,
   "metadata": {},
   "outputs": [],
   "source": [
    "import pandas as pd\n"
   ]
  },
  {
   "cell_type": "code",
   "execution_count": 4,
   "metadata": {},
   "outputs": [],
   "source": [
    "import optuna\n",
    "import datetime"
   ]
  },
  {
   "cell_type": "code",
   "execution_count": 5,
   "metadata": {},
   "outputs": [
    {
     "name": "stderr",
     "output_type": "stream",
     "text": [
      "2021-12-02 02:23:28.436569: W tensorflow/stream_executor/platform/default/dso_loader.cc:64] Could not load dynamic library 'libcudart.so.11.0'; dlerror: libcudart.so.11.0: cannot open shared object file: No such file or directory\n",
      "2021-12-02 02:23:28.436594: I tensorflow/stream_executor/cuda/cudart_stub.cc:29] Ignore above cudart dlerror if you do not have a GPU set up on your machine.\n"
     ]
    }
   ],
   "source": [
    "from modulos.arima.gruas.general import format_timeseries, show_results_r2, arima_forecasting, total_forecasting, show_optimizer_results\n",
    "from sklearn.model_selection import train_test_split\n",
    "from sklearn.metrics import mean_squared_error\n",
    "from xgboost import XGBRegressor\n",
    "from sklearn.model_selection import cross_val_score\n",
    "from sklearn.model_selection import KFold\n",
    "import numpy as np\n",
    "import tensorflow as tf\n",
    "\n",
    "\n",
    "from modulos.LR.gruas.generals import make_lags\n",
    "from modulos.DL.gruas.custom_models import ForecastinModel, cross_val_score_dl\n",
    "from modulos.DL.gruas.optimizer import DLOptimizer"
   ]
  },
  {
   "cell_type": "code",
   "execution_count": 6,
   "metadata": {},
   "outputs": [
    {
     "data": {
      "text/html": [
       "<div>\n",
       "<style scoped>\n",
       "    .dataframe tbody tr th:only-of-type {\n",
       "        vertical-align: middle;\n",
       "    }\n",
       "\n",
       "    .dataframe tbody tr th {\n",
       "        vertical-align: top;\n",
       "    }\n",
       "\n",
       "    .dataframe thead th {\n",
       "        text-align: right;\n",
       "    }\n",
       "</style>\n",
       "<table border=\"1\" class=\"dataframe\">\n",
       "  <thead>\n",
       "    <tr style=\"text-align: right;\">\n",
       "      <th></th>\n",
       "      <th>Periodo</th>\n",
       "      <th>idArticulo</th>\n",
       "      <th>ventas</th>\n",
       "      <th>DescProducto</th>\n",
       "    </tr>\n",
       "  </thead>\n",
       "  <tbody>\n",
       "    <tr>\n",
       "      <th>0</th>\n",
       "      <td>2021-10-01</td>\n",
       "      <td>9950</td>\n",
       "      <td>74.0</td>\n",
       "      <td>REFRIGERANTE COOLANT AZUL/NATURAL TRANSP. GAL...</td>\n",
       "    </tr>\n",
       "    <tr>\n",
       "      <th>1</th>\n",
       "      <td>2021-09-01</td>\n",
       "      <td>9950</td>\n",
       "      <td>25.0</td>\n",
       "      <td>REFRIGERANTE COOLANT AZUL/NATURAL TRANSP. GAL...</td>\n",
       "    </tr>\n",
       "    <tr>\n",
       "      <th>2</th>\n",
       "      <td>2021-08-01</td>\n",
       "      <td>9950</td>\n",
       "      <td>28.0</td>\n",
       "      <td>REFRIGERANTE COOLANT AZUL/NATURAL TRANSP. GAL...</td>\n",
       "    </tr>\n",
       "    <tr>\n",
       "      <th>3</th>\n",
       "      <td>2021-07-01</td>\n",
       "      <td>9950</td>\n",
       "      <td>15.0</td>\n",
       "      <td>REFRIGERANTE COOLANT AZUL/NATURAL TRANSP. GAL...</td>\n",
       "    </tr>\n",
       "    <tr>\n",
       "      <th>4</th>\n",
       "      <td>2021-06-01</td>\n",
       "      <td>9950</td>\n",
       "      <td>13.0</td>\n",
       "      <td>REFRIGERANTE COOLANT AZUL/NATURAL TRANSP. GAL...</td>\n",
       "    </tr>\n",
       "  </tbody>\n",
       "</table>\n",
       "</div>"
      ],
      "text/plain": [
       "     Periodo  idArticulo  ventas  \\\n",
       "0 2021-10-01        9950    74.0   \n",
       "1 2021-09-01        9950    25.0   \n",
       "2 2021-08-01        9950    28.0   \n",
       "3 2021-07-01        9950    15.0   \n",
       "4 2021-06-01        9950    13.0   \n",
       "\n",
       "                                        DescProducto  \n",
       "0   REFRIGERANTE COOLANT AZUL/NATURAL TRANSP. GAL...  \n",
       "1   REFRIGERANTE COOLANT AZUL/NATURAL TRANSP. GAL...  \n",
       "2   REFRIGERANTE COOLANT AZUL/NATURAL TRANSP. GAL...  \n",
       "3   REFRIGERANTE COOLANT AZUL/NATURAL TRANSP. GAL...  \n",
       "4   REFRIGERANTE COOLANT AZUL/NATURAL TRANSP. GAL...  "
      ]
     },
     "execution_count": 6,
     "metadata": {},
     "output_type": "execute_result"
    }
   ],
   "source": [
    "data = pd.read_csv(os.path.join(DATA_PATH, 'producto.csv'), parse_dates=['Periodo'])\n",
    "data.head()"
   ]
  },
  {
   "cell_type": "code",
   "execution_count": 7,
   "metadata": {},
   "outputs": [
    {
     "data": {
      "text/html": [
       "<div>\n",
       "<style scoped>\n",
       "    .dataframe tbody tr th:only-of-type {\n",
       "        vertical-align: middle;\n",
       "    }\n",
       "\n",
       "    .dataframe tbody tr th {\n",
       "        vertical-align: top;\n",
       "    }\n",
       "\n",
       "    .dataframe thead th {\n",
       "        text-align: right;\n",
       "    }\n",
       "</style>\n",
       "<table border=\"1\" class=\"dataframe\">\n",
       "  <thead>\n",
       "    <tr style=\"text-align: right;\">\n",
       "      <th>idArticulo</th>\n",
       "      <th>551</th>\n",
       "      <th>594</th>\n",
       "      <th>963</th>\n",
       "      <th>1208</th>\n",
       "      <th>1224</th>\n",
       "      <th>1627</th>\n",
       "      <th>3090</th>\n",
       "      <th>3745</th>\n",
       "      <th>3882</th>\n",
       "      <th>3883</th>\n",
       "      <th>...</th>\n",
       "      <th>20263</th>\n",
       "      <th>20301</th>\n",
       "      <th>20305</th>\n",
       "      <th>20310</th>\n",
       "      <th>20697</th>\n",
       "      <th>20769</th>\n",
       "      <th>21577</th>\n",
       "      <th>23900</th>\n",
       "      <th>26158</th>\n",
       "      <th>27165</th>\n",
       "    </tr>\n",
       "    <tr>\n",
       "      <th>Periodo</th>\n",
       "      <th></th>\n",
       "      <th></th>\n",
       "      <th></th>\n",
       "      <th></th>\n",
       "      <th></th>\n",
       "      <th></th>\n",
       "      <th></th>\n",
       "      <th></th>\n",
       "      <th></th>\n",
       "      <th></th>\n",
       "      <th></th>\n",
       "      <th></th>\n",
       "      <th></th>\n",
       "      <th></th>\n",
       "      <th></th>\n",
       "      <th></th>\n",
       "      <th></th>\n",
       "      <th></th>\n",
       "      <th></th>\n",
       "      <th></th>\n",
       "      <th></th>\n",
       "    </tr>\n",
       "  </thead>\n",
       "  <tbody>\n",
       "    <tr>\n",
       "      <th>2021-06-01</th>\n",
       "      <td>4.0</td>\n",
       "      <td>3.0</td>\n",
       "      <td>6.0</td>\n",
       "      <td>140.0</td>\n",
       "      <td>0.0</td>\n",
       "      <td>5.0</td>\n",
       "      <td>4.0</td>\n",
       "      <td>5.0</td>\n",
       "      <td>2.0</td>\n",
       "      <td>0.0</td>\n",
       "      <td>...</td>\n",
       "      <td>4.0</td>\n",
       "      <td>6.0</td>\n",
       "      <td>0.0</td>\n",
       "      <td>2.0</td>\n",
       "      <td>2.0</td>\n",
       "      <td>0.0</td>\n",
       "      <td>6.0</td>\n",
       "      <td>104.0</td>\n",
       "      <td>42.0</td>\n",
       "      <td>11.0</td>\n",
       "    </tr>\n",
       "    <tr>\n",
       "      <th>2021-07-01</th>\n",
       "      <td>2.0</td>\n",
       "      <td>1.0</td>\n",
       "      <td>14.0</td>\n",
       "      <td>166.0</td>\n",
       "      <td>10.0</td>\n",
       "      <td>17.0</td>\n",
       "      <td>2.0</td>\n",
       "      <td>0.0</td>\n",
       "      <td>1.0</td>\n",
       "      <td>3.0</td>\n",
       "      <td>...</td>\n",
       "      <td>8.0</td>\n",
       "      <td>9.0</td>\n",
       "      <td>4.0</td>\n",
       "      <td>6.0</td>\n",
       "      <td>1.0</td>\n",
       "      <td>3.0</td>\n",
       "      <td>15.0</td>\n",
       "      <td>40.0</td>\n",
       "      <td>17.0</td>\n",
       "      <td>42.0</td>\n",
       "    </tr>\n",
       "    <tr>\n",
       "      <th>2021-08-01</th>\n",
       "      <td>8.0</td>\n",
       "      <td>4.0</td>\n",
       "      <td>2.0</td>\n",
       "      <td>520.0</td>\n",
       "      <td>7.0</td>\n",
       "      <td>4.0</td>\n",
       "      <td>11.0</td>\n",
       "      <td>2.0</td>\n",
       "      <td>0.0</td>\n",
       "      <td>4.0</td>\n",
       "      <td>...</td>\n",
       "      <td>48.0</td>\n",
       "      <td>5.0</td>\n",
       "      <td>7.0</td>\n",
       "      <td>7.0</td>\n",
       "      <td>5.0</td>\n",
       "      <td>2.0</td>\n",
       "      <td>33.0</td>\n",
       "      <td>228.0</td>\n",
       "      <td>38.0</td>\n",
       "      <td>12.0</td>\n",
       "    </tr>\n",
       "    <tr>\n",
       "      <th>2021-09-01</th>\n",
       "      <td>3.0</td>\n",
       "      <td>10.0</td>\n",
       "      <td>4.0</td>\n",
       "      <td>280.0</td>\n",
       "      <td>2.0</td>\n",
       "      <td>9.0</td>\n",
       "      <td>11.0</td>\n",
       "      <td>8.0</td>\n",
       "      <td>1.0</td>\n",
       "      <td>1.0</td>\n",
       "      <td>...</td>\n",
       "      <td>8.0</td>\n",
       "      <td>8.0</td>\n",
       "      <td>5.0</td>\n",
       "      <td>0.0</td>\n",
       "      <td>10.0</td>\n",
       "      <td>2.0</td>\n",
       "      <td>10.0</td>\n",
       "      <td>84.0</td>\n",
       "      <td>14.0</td>\n",
       "      <td>19.0</td>\n",
       "    </tr>\n",
       "    <tr>\n",
       "      <th>2021-10-01</th>\n",
       "      <td>3.0</td>\n",
       "      <td>4.0</td>\n",
       "      <td>3.0</td>\n",
       "      <td>510.0</td>\n",
       "      <td>4.0</td>\n",
       "      <td>3.0</td>\n",
       "      <td>4.0</td>\n",
       "      <td>5.0</td>\n",
       "      <td>0.0</td>\n",
       "      <td>9.0</td>\n",
       "      <td>...</td>\n",
       "      <td>12.0</td>\n",
       "      <td>15.0</td>\n",
       "      <td>25.0</td>\n",
       "      <td>13.0</td>\n",
       "      <td>5.0</td>\n",
       "      <td>3.0</td>\n",
       "      <td>4.0</td>\n",
       "      <td>316.0</td>\n",
       "      <td>9.0</td>\n",
       "      <td>19.0</td>\n",
       "    </tr>\n",
       "  </tbody>\n",
       "</table>\n",
       "<p>5 rows × 50 columns</p>\n",
       "</div>"
      ],
      "text/plain": [
       "idArticulo  551    594    963    1208   1224   1627   3090   3745   3882   \\\n",
       "Periodo                                                                     \n",
       "2021-06-01    4.0    3.0    6.0  140.0    0.0    5.0    4.0    5.0    2.0   \n",
       "2021-07-01    2.0    1.0   14.0  166.0   10.0   17.0    2.0    0.0    1.0   \n",
       "2021-08-01    8.0    4.0    2.0  520.0    7.0    4.0   11.0    2.0    0.0   \n",
       "2021-09-01    3.0   10.0    4.0  280.0    2.0    9.0   11.0    8.0    1.0   \n",
       "2021-10-01    3.0    4.0    3.0  510.0    4.0    3.0    4.0    5.0    0.0   \n",
       "\n",
       "idArticulo  3883   ...  20263  20301  20305  20310  20697  20769  21577  \\\n",
       "Periodo            ...                                                    \n",
       "2021-06-01    0.0  ...    4.0    6.0    0.0    2.0    2.0    0.0    6.0   \n",
       "2021-07-01    3.0  ...    8.0    9.0    4.0    6.0    1.0    3.0   15.0   \n",
       "2021-08-01    4.0  ...   48.0    5.0    7.0    7.0    5.0    2.0   33.0   \n",
       "2021-09-01    1.0  ...    8.0    8.0    5.0    0.0   10.0    2.0   10.0   \n",
       "2021-10-01    9.0  ...   12.0   15.0   25.0   13.0    5.0    3.0    4.0   \n",
       "\n",
       "idArticulo  23900  26158  27165  \n",
       "Periodo                          \n",
       "2021-06-01  104.0   42.0   11.0  \n",
       "2021-07-01   40.0   17.0   42.0  \n",
       "2021-08-01  228.0   38.0   12.0  \n",
       "2021-09-01   84.0   14.0   19.0  \n",
       "2021-10-01  316.0    9.0   19.0  \n",
       "\n",
       "[5 rows x 50 columns]"
      ]
     },
     "execution_count": 7,
     "metadata": {},
     "output_type": "execute_result"
    }
   ],
   "source": [
    "# Pivotando las tablas y llenando de ceros las ventas que no existen.\n",
    "df_time = format_timeseries(data)\n",
    "df_time.tail()"
   ]
  },
  {
   "cell_type": "markdown",
   "metadata": {},
   "source": [
    "## Baseline DL"
   ]
  },
  {
   "cell_type": "code",
   "execution_count": 8,
   "metadata": {},
   "outputs": [
    {
     "data": {
      "text/html": [
       "<style type=\"text/css\">\n",
       "#T_6b297_row0_col0, #T_6b297_row1_col0, #T_6b297_row2_col0, #T_6b297_row3_col0, #T_6b297_row4_col0, #T_6b297_row5_col0, #T_6b297_row6_col0, #T_6b297_row7_col0, #T_6b297_row8_col0, #T_6b297_row9_col0 {\n",
       "  background-color: green;\n",
       "}\n",
       "#T_6b297_row0_col1, #T_6b297_row0_col2, #T_6b297_row0_col3, #T_6b297_row0_col4, #T_6b297_row1_col1, #T_6b297_row1_col2, #T_6b297_row1_col3, #T_6b297_row1_col4, #T_6b297_row2_col1, #T_6b297_row2_col2, #T_6b297_row2_col3, #T_6b297_row2_col4, #T_6b297_row3_col1, #T_6b297_row3_col2, #T_6b297_row3_col3, #T_6b297_row3_col4, #T_6b297_row4_col1, #T_6b297_row4_col2, #T_6b297_row4_col3, #T_6b297_row4_col4, #T_6b297_row5_col1, #T_6b297_row5_col2, #T_6b297_row5_col3, #T_6b297_row5_col4, #T_6b297_row6_col1, #T_6b297_row6_col2, #T_6b297_row6_col3, #T_6b297_row6_col4, #T_6b297_row7_col1, #T_6b297_row7_col2, #T_6b297_row7_col3, #T_6b297_row7_col4, #T_6b297_row8_col1, #T_6b297_row8_col2, #T_6b297_row8_col3, #T_6b297_row8_col4, #T_6b297_row9_col1, #T_6b297_row9_col2, #T_6b297_row9_col3, #T_6b297_row9_col4 {\n",
       "  background-color: magenta;\n",
       "}\n",
       "</style>\n",
       "<table id=\"T_6b297_\">\n",
       "  <thead>\n",
       "    <tr>\n",
       "      <th class=\"blank level0\" >&nbsp;</th>\n",
       "      <th class=\"col_heading level0 col0\" >Targets</th>\n",
       "      <th class=\"col_heading level0 col1\" colspan=\"4\">Features</th>\n",
       "    </tr>\n",
       "    <tr>\n",
       "      <th class=\"blank level1\" >&nbsp;</th>\n",
       "      <th class=\"col_heading level1 col0\" >y</th>\n",
       "      <th class=\"col_heading level1 col1\" >y_lag_1</th>\n",
       "      <th class=\"col_heading level1 col2\" >y_lag_2</th>\n",
       "      <th class=\"col_heading level1 col3\" >y_lag_3</th>\n",
       "      <th class=\"col_heading level1 col4\" >y_lag_4</th>\n",
       "    </tr>\n",
       "    <tr>\n",
       "      <th class=\"index_name level0\" >Periodo</th>\n",
       "      <th class=\"blank col0\" >&nbsp;</th>\n",
       "      <th class=\"blank col1\" >&nbsp;</th>\n",
       "      <th class=\"blank col2\" >&nbsp;</th>\n",
       "      <th class=\"blank col3\" >&nbsp;</th>\n",
       "      <th class=\"blank col4\" >&nbsp;</th>\n",
       "    </tr>\n",
       "  </thead>\n",
       "  <tbody>\n",
       "    <tr>\n",
       "      <th id=\"T_6b297_level0_row0\" class=\"row_heading level0 row0\" >2021-01-01 00:00:00</th>\n",
       "      <td id=\"T_6b297_row0_col0\" class=\"data row0 col0\" >-0.200967</td>\n",
       "      <td id=\"T_6b297_row0_col1\" class=\"data row0 col1\" >0.723481</td>\n",
       "      <td id=\"T_6b297_row0_col2\" class=\"data row0 col2\" >2.110153</td>\n",
       "      <td id=\"T_6b297_row0_col3\" class=\"data row0 col3\" >-1.125415</td>\n",
       "      <td id=\"T_6b297_row0_col4\" class=\"data row0 col4\" >0.261257</td>\n",
       "    </tr>\n",
       "    <tr>\n",
       "      <th id=\"T_6b297_level0_row1\" class=\"row_heading level0 row1\" >2021-02-01 00:00:00</th>\n",
       "      <td id=\"T_6b297_row1_col0\" class=\"data row1 col0\" >0.261257</td>\n",
       "      <td id=\"T_6b297_row1_col1\" class=\"data row1 col1\" >-0.200967</td>\n",
       "      <td id=\"T_6b297_row1_col2\" class=\"data row1 col2\" >0.723481</td>\n",
       "      <td id=\"T_6b297_row1_col3\" class=\"data row1 col3\" >2.110153</td>\n",
       "      <td id=\"T_6b297_row1_col4\" class=\"data row1 col4\" >-1.125415</td>\n",
       "    </tr>\n",
       "    <tr>\n",
       "      <th id=\"T_6b297_level0_row2\" class=\"row_heading level0 row2\" >2021-03-01 00:00:00</th>\n",
       "      <td id=\"T_6b297_row2_col0\" class=\"data row2 col0\" >1.185705</td>\n",
       "      <td id=\"T_6b297_row2_col1\" class=\"data row2 col1\" >0.261257</td>\n",
       "      <td id=\"T_6b297_row2_col2\" class=\"data row2 col2\" >-0.200967</td>\n",
       "      <td id=\"T_6b297_row2_col3\" class=\"data row2 col3\" >0.723481</td>\n",
       "      <td id=\"T_6b297_row2_col4\" class=\"data row2 col4\" >2.110153</td>\n",
       "    </tr>\n",
       "    <tr>\n",
       "      <th id=\"T_6b297_level0_row3\" class=\"row_heading level0 row3\" >2021-04-01 00:00:00</th>\n",
       "      <td id=\"T_6b297_row3_col0\" class=\"data row3 col0\" >2.110153</td>\n",
       "      <td id=\"T_6b297_row3_col1\" class=\"data row3 col1\" >1.185705</td>\n",
       "      <td id=\"T_6b297_row3_col2\" class=\"data row3 col2\" >0.261257</td>\n",
       "      <td id=\"T_6b297_row3_col3\" class=\"data row3 col3\" >-0.200967</td>\n",
       "      <td id=\"T_6b297_row3_col4\" class=\"data row3 col4\" >0.723481</td>\n",
       "    </tr>\n",
       "    <tr>\n",
       "      <th id=\"T_6b297_level0_row4\" class=\"row_heading level0 row4\" >2021-05-01 00:00:00</th>\n",
       "      <td id=\"T_6b297_row4_col0\" class=\"data row4 col0\" >0.723481</td>\n",
       "      <td id=\"T_6b297_row4_col1\" class=\"data row4 col1\" >2.110153</td>\n",
       "      <td id=\"T_6b297_row4_col2\" class=\"data row4 col2\" >1.185705</td>\n",
       "      <td id=\"T_6b297_row4_col3\" class=\"data row4 col3\" >0.261257</td>\n",
       "      <td id=\"T_6b297_row4_col4\" class=\"data row4 col4\" >-0.200967</td>\n",
       "    </tr>\n",
       "    <tr>\n",
       "      <th id=\"T_6b297_level0_row5\" class=\"row_heading level0 row5\" >2021-06-01 00:00:00</th>\n",
       "      <td id=\"T_6b297_row5_col0\" class=\"data row5 col0\" >-0.200967</td>\n",
       "      <td id=\"T_6b297_row5_col1\" class=\"data row5 col1\" >0.723481</td>\n",
       "      <td id=\"T_6b297_row5_col2\" class=\"data row5 col2\" >2.110153</td>\n",
       "      <td id=\"T_6b297_row5_col3\" class=\"data row5 col3\" >1.185705</td>\n",
       "      <td id=\"T_6b297_row5_col4\" class=\"data row5 col4\" >0.261257</td>\n",
       "    </tr>\n",
       "    <tr>\n",
       "      <th id=\"T_6b297_level0_row6\" class=\"row_heading level0 row6\" >2021-07-01 00:00:00</th>\n",
       "      <td id=\"T_6b297_row6_col0\" class=\"data row6 col0\" >-1.125415</td>\n",
       "      <td id=\"T_6b297_row6_col1\" class=\"data row6 col1\" >-0.200967</td>\n",
       "      <td id=\"T_6b297_row6_col2\" class=\"data row6 col2\" >0.723481</td>\n",
       "      <td id=\"T_6b297_row6_col3\" class=\"data row6 col3\" >2.110153</td>\n",
       "      <td id=\"T_6b297_row6_col4\" class=\"data row6 col4\" >1.185705</td>\n",
       "    </tr>\n",
       "    <tr>\n",
       "      <th id=\"T_6b297_level0_row7\" class=\"row_heading level0 row7\" >2021-08-01 00:00:00</th>\n",
       "      <td id=\"T_6b297_row7_col0\" class=\"data row7 col0\" >0.261257</td>\n",
       "      <td id=\"T_6b297_row7_col1\" class=\"data row7 col1\" >-1.125415</td>\n",
       "      <td id=\"T_6b297_row7_col2\" class=\"data row7 col2\" >-0.200967</td>\n",
       "      <td id=\"T_6b297_row7_col3\" class=\"data row7 col3\" >0.723481</td>\n",
       "      <td id=\"T_6b297_row7_col4\" class=\"data row7 col4\" >2.110153</td>\n",
       "    </tr>\n",
       "    <tr>\n",
       "      <th id=\"T_6b297_level0_row8\" class=\"row_heading level0 row8\" >2021-09-01 00:00:00</th>\n",
       "      <td id=\"T_6b297_row8_col0\" class=\"data row8 col0\" >3.034601</td>\n",
       "      <td id=\"T_6b297_row8_col1\" class=\"data row8 col1\" >0.261257</td>\n",
       "      <td id=\"T_6b297_row8_col2\" class=\"data row8 col2\" >-1.125415</td>\n",
       "      <td id=\"T_6b297_row8_col3\" class=\"data row8 col3\" >-0.200967</td>\n",
       "      <td id=\"T_6b297_row8_col4\" class=\"data row8 col4\" >0.723481</td>\n",
       "    </tr>\n",
       "    <tr>\n",
       "      <th id=\"T_6b297_level0_row9\" class=\"row_heading level0 row9\" >2021-10-01 00:00:00</th>\n",
       "      <td id=\"T_6b297_row9_col0\" class=\"data row9 col0\" >0.261257</td>\n",
       "      <td id=\"T_6b297_row9_col1\" class=\"data row9 col1\" >3.034601</td>\n",
       "      <td id=\"T_6b297_row9_col2\" class=\"data row9 col2\" >0.261257</td>\n",
       "      <td id=\"T_6b297_row9_col3\" class=\"data row9 col3\" >-1.125415</td>\n",
       "      <td id=\"T_6b297_row9_col4\" class=\"data row9 col4\" >-0.200967</td>\n",
       "    </tr>\n",
       "  </tbody>\n",
       "</table>\n"
      ],
      "text/plain": [
       "<pandas.io.formats.style.Styler at 0x7f898c0fee80>"
      ]
     },
     "execution_count": 8,
     "metadata": {},
     "output_type": "execute_result"
    }
   ],
   "source": [
    "from modulos.LR.gruas.generals import split_data_train, make_timeserie\n",
    "\n",
    "idArticulo = 594\n",
    "ts = df_time[idArticulo].copy()\n",
    "n_lags = 4\n",
    "X,y, scaler  = make_timeserie(ts, n_lags)\n",
    "\n",
    "data = pd.concat({'Targets': y, 'Features': X}, axis=1)\n",
    "\n",
    "data.tail(10).style.set_properties(['Targets'], **{'background-color': 'green'}) \\\n",
    "                   .set_properties(['Features'], **{'background-color': 'magenta'})\n",
    "    "
   ]
  },
  {
   "cell_type": "markdown",
   "metadata": {},
   "source": [
    "## Deel learning - serie de tiempo - cross validation"
   ]
  },
  {
   "cell_type": "code",
   "execution_count": 9,
   "metadata": {},
   "outputs": [
    {
     "name": "stderr",
     "output_type": "stream",
     "text": [
      "2021-12-02 02:23:29.993057: E tensorflow/stream_executor/cuda/cuda_driver.cc:271] failed call to cuInit: CUDA_ERROR_COMPAT_NOT_SUPPORTED_ON_DEVICE: forward compatibility was attempted on non supported HW\n",
      "2021-12-02 02:23:29.993100: I tensorflow/stream_executor/cuda/cuda_diagnostics.cc:169] retrieving CUDA diagnostic information for host: davelinux-G551JM\n",
      "2021-12-02 02:23:29.993107: I tensorflow/stream_executor/cuda/cuda_diagnostics.cc:176] hostname: davelinux-G551JM\n",
      "2021-12-02 02:23:29.993264: I tensorflow/stream_executor/cuda/cuda_diagnostics.cc:200] libcuda reported version is: 470.86.0\n",
      "2021-12-02 02:23:29.993293: I tensorflow/stream_executor/cuda/cuda_diagnostics.cc:204] kernel reported version is: 470.82.0\n",
      "2021-12-02 02:23:29.993299: E tensorflow/stream_executor/cuda/cuda_diagnostics.cc:313] kernel version 470.82.0 does not match DSO version 470.86.0 -- cannot find working devices in this configuration\n",
      "2021-12-02 02:23:29.993748: I tensorflow/core/platform/cpu_feature_guard.cc:151] This TensorFlow binary is optimized with oneAPI Deep Neural Network Library (oneDNN) to use the following CPU instructions in performance-critical operations:  AVX2 FMA\n",
      "To enable them in other operations, rebuild TensorFlow with the appropriate compiler flags.\n"
     ]
    },
    {
     "name": "stdout",
     "output_type": "stream",
     "text": [
      "Model: \"model\"\n",
      "__________________________________________________________________________________________________\n",
      " Layer (type)                   Output Shape         Param #     Connected to                     \n",
      "==================================================================================================\n",
      " input_1 (InputLayer)           [(None, 4, 1)]       0           []                               \n",
      "                                                                                                  \n",
      " lstm (LSTM)                    (None, 1)            12          ['input_1[0][0]']                \n",
      "                                                                                                  \n",
      " flatten_1 (Flatten)            (None, 4)            0           ['input_1[0][0]']                \n",
      "                                                                                                  \n",
      " flatten (Flatten)              (None, 1)            0           ['lstm[0][0]']                   \n",
      "                                                                                                  \n",
      " dense (Dense)                  (None, 1)            4           ['flatten_1[0][0]']              \n",
      "                                                                                                  \n",
      " add (Add)                      (None, 1)            0           ['flatten[0][0]',                \n",
      "                                                                  'dense[0][0]']                  \n",
      "                                                                                                  \n",
      "==================================================================================================\n",
      "Total params: 16\n",
      "Trainable params: 16\n",
      "Non-trainable params: 0\n",
      "__________________________________________________________________________________________________\n"
     ]
    }
   ],
   "source": [
    "_ = ForecastinModel((X.iloc[0].shape[0],1), )\n",
    "forecasting = ForecastinModel((X.iloc[0].shape[0],1), n_epochs=10, summary=False, )"
   ]
  },
  {
   "cell_type": "code",
   "execution_count": 10,
   "metadata": {},
   "outputs": [
    {
     "name": "stdout",
     "output_type": "stream",
     "text": [
      "Cross validation results MSE: 4.431655948511543 \n",
      "Cross validation results R2: -0.940818293992121 \n"
     ]
    }
   ],
   "source": [
    "mse, r2_ = cross_val_score_dl(forecasting, X, y, test_size=.1,)\n",
    "print(f\"Cross validation results MSE: {mse} \")\n",
    "print(f\"Cross validation results R2: {r2_} \")"
   ]
  },
  {
   "cell_type": "markdown",
   "metadata": {},
   "source": [
    "## Training a single model without optimization (concepto)"
   ]
  },
  {
   "cell_type": "code",
   "execution_count": 11,
   "metadata": {},
   "outputs": [
    {
     "name": "stderr",
     "output_type": "stream",
     "text": [
      "/home/dave-linux/.local/lib/python3.8/site-packages/keras/engine/functional.py:1410: CustomMaskWarning: Custom mask layers require a config and must override get_config. When loading, the custom mask layer must be passed to the custom_objects argument.\n",
      "  layer_config = serialize_layer_fn(layer)\n"
     ]
    }
   ],
   "source": [
    "X_train, X_test, y_train, y_test = train_test_split(X, y, test_size=0.1, shuffle=True)\n",
    "forecasting = ForecastinModel((X.iloc[0].shape[0],1),summary=False)\n",
    "forecasting.train_model(X_train, y_train, X_test,  y_test, epochs=200, batch_size=32, workers=4, verbose= 0, callback=True, logs=True, checkpoint=True)\n",
    "\n",
    "y_fit = pd.DataFrame(forecasting.model.predict(X), index=X.index, columns=y.columns)\n",
    "#y_pred = pd.DataFrame(model.predict(X_test), index=X_test.index, columns=y.columns)"
   ]
  },
  {
   "cell_type": "code",
   "execution_count": 12,
   "metadata": {},
   "outputs": [
    {
     "data": {
      "image/png": "[encoded data removed]",
      "text/plain": [
       "<Figure size 864x360 with 1 Axes>"
      ]
     },
     "metadata": {
      "needs_background": "light"
     },
     "output_type": "display_data"
    }
   ],
   "source": [
    "mse_scl = scaler.inverse_transform([[np.sqrt(mse)]])[0][0]\n",
    "show_results_r2(scaler.inverse_transform(y), scaler.inverse_transform(y_fit),idArticulo, score=mse_scl, score_name='RMSE' )\n"
   ]
  },
  {
   "cell_type": "markdown",
   "metadata": {},
   "source": [
    "# Optimizar todos los Productos        "
   ]
  },
  {
   "cell_type": "code",
   "execution_count": 13,
   "metadata": {},
   "outputs": [
    {
     "name": "stdout",
     "output_type": "stream",
     "text": [
      "WARNING:tensorflow:5 out of the last 407 calls to <function Model.make_train_function.<locals>.train_function at 0x7f89182e6790> triggered tf.function retracing. Tracing is expensive and the excessive number of tracings could be due to (1) creating @tf.function repeatedly in a loop, (2) passing tensors with different shapes, (3) passing Python objects instead of tensors. For (1), please define your @tf.function outside of the loop. For (2), @tf.function has experimental_relax_shapes=True option that relaxes argument shapes that can avoid unnecessary retracing. For (3), please refer to https://www.tensorflow.org/guide/function#controlling_retracing and https://www.tensorflow.org/api_docs/python/tf/function for  more details.\n",
      "WARNING:tensorflow:6 out of the last 408 calls to <function Model.make_train_function.<locals>.train_function at 0x7f8928136940> triggered tf.function retracing. Tracing is expensive and the excessive number of tracings could be due to (1) creating @tf.function repeatedly in a loop, (2) passing tensors with different shapes, (3) passing Python objects instead of tensors. For (1), please define your @tf.function outside of the loop. For (2), @tf.function has experimental_relax_shapes=True option that relaxes argument shapes that can avoid unnecessary retracing. For (3), please refer to https://www.tensorflow.org/guide/function#controlling_retracing and https://www.tensorflow.org/api_docs/python/tf/function for  more details.\n",
      "WARNING:tensorflow:5 out of the last 206 calls to <function Model.make_test_function.<locals>.test_function at 0x7f88d041f430> triggered tf.function retracing. Tracing is expensive and the excessive number of tracings could be due to (1) creating @tf.function repeatedly in a loop, (2) passing tensors with different shapes, (3) passing Python objects instead of tensors. For (1), please define your @tf.function outside of the loop. For (2), @tf.function has experimental_relax_shapes=True option that relaxes argument shapes that can avoid unnecessary retracing. For (3), please refer to https://www.tensorflow.org/guide/function#controlling_retracing and https://www.tensorflow.org/api_docs/python/tf/function for  more details.\n",
      "WARNING:tensorflow:6 out of the last 207 calls to <function Model.make_test_function.<locals>.test_function at 0x7f8920030940> triggered tf.function retracing. Tracing is expensive and the excessive number of tracings could be due to (1) creating @tf.function repeatedly in a loop, (2) passing tensors with different shapes, (3) passing Python objects instead of tensors. For (1), please define your @tf.function outside of the loop. For (2), @tf.function has experimental_relax_shapes=True option that relaxes argument shapes that can avoid unnecessary retracing. For (3), please refer to https://www.tensorflow.org/guide/function#controlling_retracing and https://www.tensorflow.org/api_docs/python/tf/function for  more details.\n",
      "WARNING:tensorflow:5 out of the last 9 calls to <function Model.make_predict_function.<locals>.predict_function at 0x7f88d041ff70> triggered tf.function retracing. Tracing is expensive and the excessive number of tracings could be due to (1) creating @tf.function repeatedly in a loop, (2) passing tensors with different shapes, (3) passing Python objects instead of tensors. For (1), please define your @tf.function outside of the loop. For (2), @tf.function has experimental_relax_shapes=True option that relaxes argument shapes that can avoid unnecessary retracing. For (3), please refer to https://www.tensorflow.org/guide/function#controlling_retracing and https://www.tensorflow.org/api_docs/python/tf/function for  more details.\n",
      "WARNING:tensorflow:6 out of the last 13 calls to <function Model.make_predict_function.<locals>.predict_function at 0x7f88d3fa0310> triggered tf.function retracing. Tracing is expensive and the excessive number of tracings could be due to (1) creating @tf.function repeatedly in a loop, (2) passing tensors with different shapes, (3) passing Python objects instead of tensors. For (1), please define your @tf.function outside of the loop. For (2), @tf.function has experimental_relax_shapes=True option that relaxes argument shapes that can avoid unnecessary retracing. For (3), please refer to https://www.tensorflow.org/guide/function#controlling_retracing and https://www.tensorflow.org/api_docs/python/tf/function for  more details.\n"
     ]
    }
   ],
   "source": [
    "optimizer = DLOptimizer(df_time, iterations=120, data_path= DATA_PATH , model='DL', subpath = None)\n",
    "optimizer.run( chunk_size=4)"
   ]
  },
  {
   "cell_type": "code",
   "execution_count": null,
   "metadata": {},
   "outputs": [],
   "source": [
    "optimizer.print_results()"
   ]
  },
  {
   "cell_type": "markdown",
   "metadata": {},
   "source": [
    "# Optimizer -  Evolution on time"
   ]
  },
  {
   "cell_type": "code",
   "execution_count": null,
   "metadata": {},
   "outputs": [],
   "source": [
    "optimizer.print_optimizer_results()"
   ]
  },
  {
   "cell_type": "code",
   "execution_count": null,
   "metadata": {},
   "outputs": [],
   "source": [
    "optimizer.results.head()"
   ]
  },
  {
   "cell_type": "code",
   "execution_count": null,
   "metadata": {},
   "outputs": [],
   "source": []
  }
 ],
 "metadata": {
  "interpreter": {
   "hash": "916dbcbb3f70747c44a77c7bcd40155683ae19c65e1c03b4aa3499c5328201f1"
  },
  "kernelspec": {
   "display_name": "Python 3.8.10 64-bit",
   "language": "python",
   "name": "python3"
  },
  "language_info": {
   "codemirror_mode": {
    "name": "ipython",
    "version": 3
   },
   "file_extension": ".py",
   "mimetype": "text/x-python",
   "name": "python",
   "nbconvert_exporter": "python",
   "pygments_lexer": "ipython3",
   "version": "3.8.10"
  },
  "orig_nbformat": 4
 },
 "nbformat": 4,
 "nbformat_minor": 2
}
