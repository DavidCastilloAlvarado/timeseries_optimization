{
 "cells": [
  {
   "cell_type": "markdown",
   "metadata": {},
   "source": [
    "# Optimización de Parámetros - XGB"
   ]
  },
  {
   "cell_type": "code",
   "execution_count": 1,
   "metadata": {},
   "outputs": [],
   "source": [
    "## Get current work directory to load all the custom modules\n",
    "from pathlib import Path\n",
    "import os\n",
    "import sys\n",
    "BASE_DIR = Path().absolute().resolve(strict=True).parent.parent.parent\n",
    "if str(BASE_DIR) not in sys.path:\n",
    "    sys.path.append(str(BASE_DIR))"
   ]
  },
  {
   "cell_type": "code",
   "execution_count": 2,
   "metadata": {},
   "outputs": [
    {
     "name": "stdout",
     "output_type": "stream",
     "text": [
      "/workspace/Externos/TimeSeries/BenchMark/data/autos\n"
     ]
    }
   ],
   "source": [
    "DATA_PATH = os.path.join(BASE_DIR, 'data', 'autos')\n",
    "print(DATA_PATH)"
   ]
  },
  {
   "cell_type": "code",
   "execution_count": 3,
   "metadata": {},
   "outputs": [],
   "source": [
    "import pandas as pd\n"
   ]
  },
  {
   "cell_type": "code",
   "execution_count": 4,
   "metadata": {},
   "outputs": [],
   "source": [
    "import optuna\n",
    "import datetime"
   ]
  },
  {
   "cell_type": "code",
   "execution_count": 5,
   "metadata": {},
   "outputs": [],
   "source": [
    "from modulos.arima.gruas.general import format_timeseries, show_results_r2, arima_forecasting, total_forecasting, show_optimizer_results\n",
    "from sklearn.model_selection import train_test_split\n",
    "from sklearn.metrics import mean_squared_error\n",
    "from xgboost import XGBRegressor\n",
    "from sklearn.model_selection import cross_val_score\n",
    "\n",
    "\n",
    "from modulos.LR.gruas.generals import make_lags"
   ]
  },
  {
   "cell_type": "code",
   "execution_count": 6,
   "metadata": {},
   "outputs": [
    {
     "data": {
      "text/html": [
       "<div>\n",
       "<style scoped>\n",
       "    .dataframe tbody tr th:only-of-type {\n",
       "        vertical-align: middle;\n",
       "    }\n",
       "\n",
       "    .dataframe tbody tr th {\n",
       "        vertical-align: top;\n",
       "    }\n",
       "\n",
       "    .dataframe thead th {\n",
       "        text-align: right;\n",
       "    }\n",
       "</style>\n",
       "<table border=\"1\" class=\"dataframe\">\n",
       "  <thead>\n",
       "    <tr style=\"text-align: right;\">\n",
       "      <th></th>\n",
       "      <th>Periodo</th>\n",
       "      <th>idArticulo</th>\n",
       "      <th>ventas</th>\n",
       "      <th>DescProducto</th>\n",
       "    </tr>\n",
       "  </thead>\n",
       "  <tbody>\n",
       "    <tr>\n",
       "      <th>0</th>\n",
       "      <td>2021-05-01</td>\n",
       "      <td>9950</td>\n",
       "      <td>37.0</td>\n",
       "      <td>REFRIGERANTE COOLANT AZUL/NATURAL TRANSP. GALO...</td>\n",
       "    </tr>\n",
       "    <tr>\n",
       "      <th>1</th>\n",
       "      <td>2021-04-01</td>\n",
       "      <td>9950</td>\n",
       "      <td>19.0</td>\n",
       "      <td>REFRIGERANTE COOLANT AZUL/NATURAL TRANSP. GALO...</td>\n",
       "    </tr>\n",
       "    <tr>\n",
       "      <th>2</th>\n",
       "      <td>2021-03-01</td>\n",
       "      <td>9950</td>\n",
       "      <td>9.0</td>\n",
       "      <td>REFRIGERANTE COOLANT AZUL/NATURAL TRANSP. GALO...</td>\n",
       "    </tr>\n",
       "    <tr>\n",
       "      <th>3</th>\n",
       "      <td>2021-02-01</td>\n",
       "      <td>9950</td>\n",
       "      <td>8.0</td>\n",
       "      <td>REFRIGERANTE COOLANT AZUL/NATURAL TRANSP. GALO...</td>\n",
       "    </tr>\n",
       "    <tr>\n",
       "      <th>4</th>\n",
       "      <td>2021-01-01</td>\n",
       "      <td>9950</td>\n",
       "      <td>76.0</td>\n",
       "      <td>REFRIGERANTE COOLANT AZUL/NATURAL TRANSP. GALO...</td>\n",
       "    </tr>\n",
       "  </tbody>\n",
       "</table>\n",
       "</div>"
      ],
      "text/plain": [
       "     Periodo  idArticulo  ventas  \\\n",
       "0 2021-05-01        9950    37.0   \n",
       "1 2021-04-01        9950    19.0   \n",
       "2 2021-03-01        9950     9.0   \n",
       "3 2021-02-01        9950     8.0   \n",
       "4 2021-01-01        9950    76.0   \n",
       "\n",
       "                                        DescProducto  \n",
       "0  REFRIGERANTE COOLANT AZUL/NATURAL TRANSP. GALO...  \n",
       "1  REFRIGERANTE COOLANT AZUL/NATURAL TRANSP. GALO...  \n",
       "2  REFRIGERANTE COOLANT AZUL/NATURAL TRANSP. GALO...  \n",
       "3  REFRIGERANTE COOLANT AZUL/NATURAL TRANSP. GALO...  \n",
       "4  REFRIGERANTE COOLANT AZUL/NATURAL TRANSP. GALO...  "
      ]
     },
     "execution_count": 6,
     "metadata": {},
     "output_type": "execute_result"
    }
   ],
   "source": [
    "data = pd.read_csv(os.path.join(DATA_PATH, 'producto.csv'), parse_dates=['Periodo'])\n",
    "data.head()"
   ]
  },
  {
   "cell_type": "code",
   "execution_count": 7,
   "metadata": {},
   "outputs": [
    {
     "data": {
      "text/html": [
       "<div>\n",
       "<style scoped>\n",
       "    .dataframe tbody tr th:only-of-type {\n",
       "        vertical-align: middle;\n",
       "    }\n",
       "\n",
       "    .dataframe tbody tr th {\n",
       "        vertical-align: top;\n",
       "    }\n",
       "\n",
       "    .dataframe thead th {\n",
       "        text-align: right;\n",
       "    }\n",
       "</style>\n",
       "<table border=\"1\" class=\"dataframe\">\n",
       "  <thead>\n",
       "    <tr style=\"text-align: right;\">\n",
       "      <th>idArticulo</th>\n",
       "      <th>551</th>\n",
       "      <th>594</th>\n",
       "      <th>1208</th>\n",
       "      <th>1224</th>\n",
       "      <th>1627</th>\n",
       "      <th>3745</th>\n",
       "      <th>3882</th>\n",
       "      <th>3883</th>\n",
       "      <th>4070</th>\n",
       "      <th>4827</th>\n",
       "      <th>...</th>\n",
       "      <th>20301</th>\n",
       "      <th>20305</th>\n",
       "      <th>20309</th>\n",
       "      <th>20310</th>\n",
       "      <th>20697</th>\n",
       "      <th>20769</th>\n",
       "      <th>21577</th>\n",
       "      <th>23900</th>\n",
       "      <th>26158</th>\n",
       "      <th>26170</th>\n",
       "    </tr>\n",
       "    <tr>\n",
       "      <th>Periodo</th>\n",
       "      <th></th>\n",
       "      <th></th>\n",
       "      <th></th>\n",
       "      <th></th>\n",
       "      <th></th>\n",
       "      <th></th>\n",
       "      <th></th>\n",
       "      <th></th>\n",
       "      <th></th>\n",
       "      <th></th>\n",
       "      <th></th>\n",
       "      <th></th>\n",
       "      <th></th>\n",
       "      <th></th>\n",
       "      <th></th>\n",
       "      <th></th>\n",
       "      <th></th>\n",
       "      <th></th>\n",
       "      <th></th>\n",
       "      <th></th>\n",
       "      <th></th>\n",
       "    </tr>\n",
       "  </thead>\n",
       "  <tbody>\n",
       "    <tr>\n",
       "      <th>2021-01-01</th>\n",
       "      <td>6.0</td>\n",
       "      <td>3.0</td>\n",
       "      <td>170.0</td>\n",
       "      <td>2.0</td>\n",
       "      <td>10.0</td>\n",
       "      <td>6.0</td>\n",
       "      <td>3.0</td>\n",
       "      <td>4.0</td>\n",
       "      <td>7.0</td>\n",
       "      <td>18.0</td>\n",
       "      <td>...</td>\n",
       "      <td>8.0</td>\n",
       "      <td>4.0</td>\n",
       "      <td>1.0</td>\n",
       "      <td>2.0</td>\n",
       "      <td>0.0</td>\n",
       "      <td>5.0</td>\n",
       "      <td>7.0</td>\n",
       "      <td>260.0</td>\n",
       "      <td>16.0</td>\n",
       "      <td>5.0</td>\n",
       "    </tr>\n",
       "    <tr>\n",
       "      <th>2021-02-01</th>\n",
       "      <td>4.0</td>\n",
       "      <td>4.0</td>\n",
       "      <td>220.0</td>\n",
       "      <td>0.0</td>\n",
       "      <td>17.0</td>\n",
       "      <td>11.0</td>\n",
       "      <td>3.0</td>\n",
       "      <td>3.0</td>\n",
       "      <td>5.0</td>\n",
       "      <td>16.0</td>\n",
       "      <td>...</td>\n",
       "      <td>4.0</td>\n",
       "      <td>1.0</td>\n",
       "      <td>1.0</td>\n",
       "      <td>11.0</td>\n",
       "      <td>2.0</td>\n",
       "      <td>1.0</td>\n",
       "      <td>11.0</td>\n",
       "      <td>16.0</td>\n",
       "      <td>5.0</td>\n",
       "      <td>18.0</td>\n",
       "    </tr>\n",
       "    <tr>\n",
       "      <th>2021-03-01</th>\n",
       "      <td>4.0</td>\n",
       "      <td>6.0</td>\n",
       "      <td>155.0</td>\n",
       "      <td>0.0</td>\n",
       "      <td>8.0</td>\n",
       "      <td>10.0</td>\n",
       "      <td>2.0</td>\n",
       "      <td>0.0</td>\n",
       "      <td>4.0</td>\n",
       "      <td>2.0</td>\n",
       "      <td>...</td>\n",
       "      <td>14.0</td>\n",
       "      <td>11.0</td>\n",
       "      <td>11.0</td>\n",
       "      <td>9.0</td>\n",
       "      <td>2.0</td>\n",
       "      <td>12.0</td>\n",
       "      <td>13.0</td>\n",
       "      <td>80.0</td>\n",
       "      <td>6.0</td>\n",
       "      <td>14.0</td>\n",
       "    </tr>\n",
       "    <tr>\n",
       "      <th>2021-04-01</th>\n",
       "      <td>8.0</td>\n",
       "      <td>8.0</td>\n",
       "      <td>155.0</td>\n",
       "      <td>6.0</td>\n",
       "      <td>25.0</td>\n",
       "      <td>24.0</td>\n",
       "      <td>3.0</td>\n",
       "      <td>9.0</td>\n",
       "      <td>0.0</td>\n",
       "      <td>1.0</td>\n",
       "      <td>...</td>\n",
       "      <td>11.0</td>\n",
       "      <td>4.0</td>\n",
       "      <td>1.0</td>\n",
       "      <td>3.0</td>\n",
       "      <td>1.0</td>\n",
       "      <td>3.0</td>\n",
       "      <td>0.0</td>\n",
       "      <td>71.0</td>\n",
       "      <td>10.0</td>\n",
       "      <td>5.0</td>\n",
       "    </tr>\n",
       "    <tr>\n",
       "      <th>2021-05-01</th>\n",
       "      <td>13.0</td>\n",
       "      <td>4.0</td>\n",
       "      <td>80.0</td>\n",
       "      <td>1.0</td>\n",
       "      <td>5.0</td>\n",
       "      <td>4.0</td>\n",
       "      <td>0.0</td>\n",
       "      <td>4.0</td>\n",
       "      <td>0.0</td>\n",
       "      <td>1.0</td>\n",
       "      <td>...</td>\n",
       "      <td>15.0</td>\n",
       "      <td>9.0</td>\n",
       "      <td>9.0</td>\n",
       "      <td>4.0</td>\n",
       "      <td>1.0</td>\n",
       "      <td>1.0</td>\n",
       "      <td>16.0</td>\n",
       "      <td>41.0</td>\n",
       "      <td>3.0</td>\n",
       "      <td>0.0</td>\n",
       "    </tr>\n",
       "  </tbody>\n",
       "</table>\n",
       "<p>5 rows × 49 columns</p>\n",
       "</div>"
      ],
      "text/plain": [
       "idArticulo  551    594    1208   1224   1627   3745   3882   3883   4070   \\\n",
       "Periodo                                                                     \n",
       "2021-01-01    6.0    3.0  170.0    2.0   10.0    6.0    3.0    4.0    7.0   \n",
       "2021-02-01    4.0    4.0  220.0    0.0   17.0   11.0    3.0    3.0    5.0   \n",
       "2021-03-01    4.0    6.0  155.0    0.0    8.0   10.0    2.0    0.0    4.0   \n",
       "2021-04-01    8.0    8.0  155.0    6.0   25.0   24.0    3.0    9.0    0.0   \n",
       "2021-05-01   13.0    4.0   80.0    1.0    5.0    4.0    0.0    4.0    0.0   \n",
       "\n",
       "idArticulo  4827   ...  20301  20305  20309  20310  20697  20769  21577  \\\n",
       "Periodo            ...                                                    \n",
       "2021-01-01   18.0  ...    8.0    4.0    1.0    2.0    0.0    5.0    7.0   \n",
       "2021-02-01   16.0  ...    4.0    1.0    1.0   11.0    2.0    1.0   11.0   \n",
       "2021-03-01    2.0  ...   14.0   11.0   11.0    9.0    2.0   12.0   13.0   \n",
       "2021-04-01    1.0  ...   11.0    4.0    1.0    3.0    1.0    3.0    0.0   \n",
       "2021-05-01    1.0  ...   15.0    9.0    9.0    4.0    1.0    1.0   16.0   \n",
       "\n",
       "idArticulo  23900  26158  26170  \n",
       "Periodo                          \n",
       "2021-01-01  260.0   16.0    5.0  \n",
       "2021-02-01   16.0    5.0   18.0  \n",
       "2021-03-01   80.0    6.0   14.0  \n",
       "2021-04-01   71.0   10.0    5.0  \n",
       "2021-05-01   41.0    3.0    0.0  \n",
       "\n",
       "[5 rows x 49 columns]"
      ]
     },
     "execution_count": 7,
     "metadata": {},
     "output_type": "execute_result"
    }
   ],
   "source": [
    "# Pivotando las tablas y llenando de ceros las ventas que no existen.\n",
    "df_time = format_timeseries(data)\n",
    "df_time.tail()"
   ]
  },
  {
   "cell_type": "markdown",
   "metadata": {},
   "source": [
    "## Baseline XGB"
   ]
  },
  {
   "cell_type": "code",
   "execution_count": 8,
   "metadata": {},
   "outputs": [
    {
     "data": {
      "text/html": [
       "<style type=\"text/css\">\n",
       "#T_7eda8_row0_col0, #T_7eda8_row1_col0, #T_7eda8_row2_col0, #T_7eda8_row3_col0, #T_7eda8_row4_col0, #T_7eda8_row5_col0, #T_7eda8_row6_col0, #T_7eda8_row7_col0, #T_7eda8_row8_col0, #T_7eda8_row9_col0 {\n",
       "  background-color: green;\n",
       "}\n",
       "#T_7eda8_row0_col1, #T_7eda8_row0_col2, #T_7eda8_row0_col3, #T_7eda8_row1_col1, #T_7eda8_row1_col2, #T_7eda8_row1_col3, #T_7eda8_row2_col1, #T_7eda8_row2_col2, #T_7eda8_row2_col3, #T_7eda8_row3_col1, #T_7eda8_row3_col2, #T_7eda8_row3_col3, #T_7eda8_row4_col1, #T_7eda8_row4_col2, #T_7eda8_row4_col3, #T_7eda8_row5_col1, #T_7eda8_row5_col2, #T_7eda8_row5_col3, #T_7eda8_row6_col1, #T_7eda8_row6_col2, #T_7eda8_row6_col3, #T_7eda8_row7_col1, #T_7eda8_row7_col2, #T_7eda8_row7_col3, #T_7eda8_row8_col1, #T_7eda8_row8_col2, #T_7eda8_row8_col3, #T_7eda8_row9_col1, #T_7eda8_row9_col2, #T_7eda8_row9_col3 {\n",
       "  background-color: magenta;\n",
       "}\n",
       "</style>\n",
       "<table id=\"T_7eda8_\">\n",
       "  <thead>\n",
       "    <tr>\n",
       "      <th class=\"blank level0\" >&nbsp;</th>\n",
       "      <th class=\"col_heading level0 col0\" >Targets</th>\n",
       "      <th class=\"col_heading level0 col1\" colspan=\"3\">Features</th>\n",
       "    </tr>\n",
       "    <tr>\n",
       "      <th class=\"blank level1\" >&nbsp;</th>\n",
       "      <th class=\"col_heading level1 col0\" >y</th>\n",
       "      <th class=\"col_heading level1 col1\" >y_lag_1</th>\n",
       "      <th class=\"col_heading level1 col2\" >y_lag_2</th>\n",
       "      <th class=\"col_heading level1 col3\" >y_lag_3</th>\n",
       "    </tr>\n",
       "    <tr>\n",
       "      <th class=\"index_name level0\" >Periodo</th>\n",
       "      <th class=\"blank col0\" >&nbsp;</th>\n",
       "      <th class=\"blank col1\" >&nbsp;</th>\n",
       "      <th class=\"blank col2\" >&nbsp;</th>\n",
       "      <th class=\"blank col3\" >&nbsp;</th>\n",
       "    </tr>\n",
       "  </thead>\n",
       "  <tbody>\n",
       "    <tr>\n",
       "      <th id=\"T_7eda8_level0_row0\" class=\"row_heading level0 row0\" >2020-08-01 00:00:00</th>\n",
       "      <td id=\"T_7eda8_row0_col0\" class=\"data row0 col0\" >12.000000</td>\n",
       "      <td id=\"T_7eda8_row0_col1\" class=\"data row0 col1\" >9.000000</td>\n",
       "      <td id=\"T_7eda8_row0_col2\" class=\"data row0 col2\" >7.000000</td>\n",
       "      <td id=\"T_7eda8_row0_col3\" class=\"data row0 col3\" >4.000000</td>\n",
       "    </tr>\n",
       "    <tr>\n",
       "      <th id=\"T_7eda8_level0_row1\" class=\"row_heading level0 row1\" >2020-09-01 00:00:00</th>\n",
       "      <td id=\"T_7eda8_row1_col0\" class=\"data row1 col0\" >30.000000</td>\n",
       "      <td id=\"T_7eda8_row1_col1\" class=\"data row1 col1\" >12.000000</td>\n",
       "      <td id=\"T_7eda8_row1_col2\" class=\"data row1 col2\" >9.000000</td>\n",
       "      <td id=\"T_7eda8_row1_col3\" class=\"data row1 col3\" >7.000000</td>\n",
       "    </tr>\n",
       "    <tr>\n",
       "      <th id=\"T_7eda8_level0_row2\" class=\"row_heading level0 row2\" >2020-10-01 00:00:00</th>\n",
       "      <td id=\"T_7eda8_row2_col0\" class=\"data row2 col0\" >7.000000</td>\n",
       "      <td id=\"T_7eda8_row2_col1\" class=\"data row2 col1\" >30.000000</td>\n",
       "      <td id=\"T_7eda8_row2_col2\" class=\"data row2 col2\" >12.000000</td>\n",
       "      <td id=\"T_7eda8_row2_col3\" class=\"data row2 col3\" >9.000000</td>\n",
       "    </tr>\n",
       "    <tr>\n",
       "      <th id=\"T_7eda8_level0_row3\" class=\"row_heading level0 row3\" >2020-11-01 00:00:00</th>\n",
       "      <td id=\"T_7eda8_row3_col0\" class=\"data row3 col0\" >2.000000</td>\n",
       "      <td id=\"T_7eda8_row3_col1\" class=\"data row3 col1\" >7.000000</td>\n",
       "      <td id=\"T_7eda8_row3_col2\" class=\"data row3 col2\" >30.000000</td>\n",
       "      <td id=\"T_7eda8_row3_col3\" class=\"data row3 col3\" >12.000000</td>\n",
       "    </tr>\n",
       "    <tr>\n",
       "      <th id=\"T_7eda8_level0_row4\" class=\"row_heading level0 row4\" >2020-12-01 00:00:00</th>\n",
       "      <td id=\"T_7eda8_row4_col0\" class=\"data row4 col0\" >7.000000</td>\n",
       "      <td id=\"T_7eda8_row4_col1\" class=\"data row4 col1\" >2.000000</td>\n",
       "      <td id=\"T_7eda8_row4_col2\" class=\"data row4 col2\" >7.000000</td>\n",
       "      <td id=\"T_7eda8_row4_col3\" class=\"data row4 col3\" >30.000000</td>\n",
       "    </tr>\n",
       "    <tr>\n",
       "      <th id=\"T_7eda8_level0_row5\" class=\"row_heading level0 row5\" >2021-01-01 00:00:00</th>\n",
       "      <td id=\"T_7eda8_row5_col0\" class=\"data row5 col0\" >18.000000</td>\n",
       "      <td id=\"T_7eda8_row5_col1\" class=\"data row5 col1\" >7.000000</td>\n",
       "      <td id=\"T_7eda8_row5_col2\" class=\"data row5 col2\" >2.000000</td>\n",
       "      <td id=\"T_7eda8_row5_col3\" class=\"data row5 col3\" >7.000000</td>\n",
       "    </tr>\n",
       "    <tr>\n",
       "      <th id=\"T_7eda8_level0_row6\" class=\"row_heading level0 row6\" >2021-02-01 00:00:00</th>\n",
       "      <td id=\"T_7eda8_row6_col0\" class=\"data row6 col0\" >16.000000</td>\n",
       "      <td id=\"T_7eda8_row6_col1\" class=\"data row6 col1\" >18.000000</td>\n",
       "      <td id=\"T_7eda8_row6_col2\" class=\"data row6 col2\" >7.000000</td>\n",
       "      <td id=\"T_7eda8_row6_col3\" class=\"data row6 col3\" >2.000000</td>\n",
       "    </tr>\n",
       "    <tr>\n",
       "      <th id=\"T_7eda8_level0_row7\" class=\"row_heading level0 row7\" >2021-03-01 00:00:00</th>\n",
       "      <td id=\"T_7eda8_row7_col0\" class=\"data row7 col0\" >2.000000</td>\n",
       "      <td id=\"T_7eda8_row7_col1\" class=\"data row7 col1\" >16.000000</td>\n",
       "      <td id=\"T_7eda8_row7_col2\" class=\"data row7 col2\" >18.000000</td>\n",
       "      <td id=\"T_7eda8_row7_col3\" class=\"data row7 col3\" >7.000000</td>\n",
       "    </tr>\n",
       "    <tr>\n",
       "      <th id=\"T_7eda8_level0_row8\" class=\"row_heading level0 row8\" >2021-04-01 00:00:00</th>\n",
       "      <td id=\"T_7eda8_row8_col0\" class=\"data row8 col0\" >1.000000</td>\n",
       "      <td id=\"T_7eda8_row8_col1\" class=\"data row8 col1\" >2.000000</td>\n",
       "      <td id=\"T_7eda8_row8_col2\" class=\"data row8 col2\" >16.000000</td>\n",
       "      <td id=\"T_7eda8_row8_col3\" class=\"data row8 col3\" >18.000000</td>\n",
       "    </tr>\n",
       "    <tr>\n",
       "      <th id=\"T_7eda8_level0_row9\" class=\"row_heading level0 row9\" >2021-05-01 00:00:00</th>\n",
       "      <td id=\"T_7eda8_row9_col0\" class=\"data row9 col0\" >1.000000</td>\n",
       "      <td id=\"T_7eda8_row9_col1\" class=\"data row9 col1\" >1.000000</td>\n",
       "      <td id=\"T_7eda8_row9_col2\" class=\"data row9 col2\" >2.000000</td>\n",
       "      <td id=\"T_7eda8_row9_col3\" class=\"data row9 col3\" >16.000000</td>\n",
       "    </tr>\n",
       "  </tbody>\n",
       "</table>\n"
      ],
      "text/plain": [
       "<pandas.io.formats.style.Styler at 0x7f2ccd64d610>"
      ]
     },
     "execution_count": 8,
     "metadata": {},
     "output_type": "execute_result"
    }
   ],
   "source": [
    "   \n",
    "idArticulo = 4827\n",
    "\n",
    "ts = df_time[idArticulo].copy()\n",
    "\n",
    "# Lag features\n",
    "n_lags = 3\n",
    "X = make_lags(ts, n_lags)\n",
    "# Multistep targets\n",
    "y = pd.DataFrame({\n",
    "    'y': ts,\n",
    "})\n",
    "\n",
    "y, X = y.align(X, join='inner', axis=0)\n",
    "\n",
    "data = pd.concat({'Targets': y, 'Features': X}, axis=1)\n",
    "\n",
    "data.tail(10).style.set_properties(['Targets'], **{'background-color': 'green'}) \\\n",
    "                   .set_properties(['Features'], **{'background-color': 'magenta'})\n",
    "    "
   ]
  },
  {
   "cell_type": "code",
   "execution_count": 9,
   "metadata": {},
   "outputs": [],
   "source": [
    "# X_train, X_test, y_train, y_test = train_test_split(X, y, test_size=0.2, shuffle=True)"
   ]
  },
  {
   "cell_type": "code",
   "execution_count": 10,
   "metadata": {},
   "outputs": [],
   "source": [
    "model = XGBRegressor()\n"
   ]
  },
  {
   "cell_type": "code",
   "execution_count": 14,
   "metadata": {},
   "outputs": [
    {
     "name": "stdout",
     "output_type": "stream",
     "text": [
      "Cross validation results r2: -0.4321752969469713 \n"
     ]
    }
   ],
   "source": [
    "scores = cross_val_score(model, X, y, cv=5, scoring='r2')\n",
    "print(f\"Cross validation results r2: {scores.mean()} \")"
   ]
  },
  {
   "cell_type": "code",
   "execution_count": 15,
   "metadata": {},
   "outputs": [],
   "source": [
    "model.fit(X, y)\n",
    "y_fit = pd.DataFrame(model.predict(X), index=X.index, columns=y.columns)\n",
    "#y_pred = pd.DataFrame(model.predict(X_test), index=X_test.index, columns=y.columns)"
   ]
  },
  {
   "cell_type": "code",
   "execution_count": 16,
   "metadata": {},
   "outputs": [
    {
     "data": {
      "image/png": "[encoded data removed]",
      "text/plain": [
       "<Figure size 864x360 with 1 Axes>"
      ]
     },
     "metadata": {
      "needs_background": "light"
     },
     "output_type": "display_data"
    },
    {
     "data": {
      "text/plain": [
       "0.9997598008441122"
      ]
     },
     "execution_count": 16,
     "metadata": {},
     "output_type": "execute_result"
    }
   ],
   "source": [
    "show_results_r2(df_time, y_fit, idArticulo)\n"
   ]
  },
  {
   "cell_type": "code",
   "execution_count": null,
   "metadata": {},
   "outputs": [],
   "source": []
  }
 ],
 "metadata": {
  "interpreter": {
   "hash": "916dbcbb3f70747c44a77c7bcd40155683ae19c65e1c03b4aa3499c5328201f1"
  },
  "kernelspec": {
   "display_name": "Python 3.8.10 64-bit",
   "language": "python",
   "name": "python3"
  },
  "language_info": {
   "codemirror_mode": {
    "name": "ipython",
    "version": 3
   },
   "file_extension": ".py",
   "mimetype": "text/x-python",
   "name": "python",
   "nbconvert_exporter": "python",
   "pygments_lexer": "ipython3",
   "version": "3.8.10"
  },
  "orig_nbformat": 4
 },
 "nbformat": 4,
 "nbformat_minor": 2
}
