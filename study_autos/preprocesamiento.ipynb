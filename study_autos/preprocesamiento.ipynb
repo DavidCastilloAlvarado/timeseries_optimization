{
 "cells": [
  {
   "cell_type": "markdown",
   "metadata": {},
   "source": [
    "# PREPROCESAMIENTO DE DATOS\n",
    "1. Lectura y Formateo\n",
    "2. Selección\n",
    "3. Preparación"
   ]
  },
  {
   "cell_type": "code",
   "execution_count": 1,
   "metadata": {},
   "outputs": [],
   "source": [
    "## Get current work directory to load all the custom modules\n",
    "from pathlib import Path\n",
    "import sys\n",
    "BASE_DIR = Path().absolute().resolve(strict=True).parent\n",
    "if str(BASE_DIR) not in sys.path:\n",
    "    sys.path.append(str(BASE_DIR))"
   ]
  },
  {
   "cell_type": "code",
   "execution_count": 2,
   "metadata": {},
   "outputs": [
    {
     "name": "stdout",
     "output_type": "stream",
     "text": [
      "/workspace/Externos/TimeSeries/BenchMark/data/autos\n"
     ]
    }
   ],
   "source": [
    "DATA_PATH = os.path.join(BASE_DIR, 'data', 'autos')\n",
    "print(DATA_PATH)"
   ]
  },
  {
   "cell_type": "code",
   "execution_count": 3,
   "metadata": {},
   "outputs": [],
   "source": [
    "import pandas as pd\n",
    "import numpy as np\n",
    "import matplotlib.pyplot as plt\n",
    "import seaborn as sns\n",
    "from IPython.display import display\n",
    "from datetime import datetime, timedelta\n",
    "from sklearn.preprocessing import StandardScaler\n",
    "import plotly.express as px\n",
    "from sklearn.impute import SimpleImputer\n",
    "from matplotlib.pyplot import figure\n",
    "from sklearn.metrics import r2_score\n",
    "from sklearn.metrics import accuracy_score\n",
    "import re "
   ]
  },
  {
   "cell_type": "code",
   "execution_count": 4,
   "metadata": {},
   "outputs": [],
   "source": [
    "from sklearn.tree import DecisionTreeRegressor\n",
    "from sklearn.neighbors import KNeighborsRegressor\n",
    "from sklearn import linear_model\n",
    "from sklearn import svm\n",
    "from sklearn.model_selection import cross_val_score\n",
    "from statsmodels.tsa.stattools import adfuller"
   ]
  },
  {
   "cell_type": "code",
   "execution_count": 21,
   "metadata": {},
   "outputs": [],
   "source": [
    "from helpers.general import homogenizar_str, print_linea_de_tiempo_producto\n",
    "from datetime import datetime, timedelta\n",
    "import datetime as dt"
   ]
  },
  {
   "cell_type": "markdown",
   "metadata": {},
   "source": [
    "># 1. Lectura y Formateo de datos"
   ]
  },
  {
   "cell_type": "code",
   "execution_count": 6,
   "metadata": {},
   "outputs": [
    {
     "data": {
      "text/html": [
       "<div>\n",
       "<style scoped>\n",
       "    .dataframe tbody tr th:only-of-type {\n",
       "        vertical-align: middle;\n",
       "    }\n",
       "\n",
       "    .dataframe tbody tr th {\n",
       "        vertical-align: top;\n",
       "    }\n",
       "\n",
       "    .dataframe thead th {\n",
       "        text-align: right;\n",
       "    }\n",
       "</style>\n",
       "<table border=\"1\" class=\"dataframe\">\n",
       "  <thead>\n",
       "    <tr style=\"text-align: right;\">\n",
       "      <th></th>\n",
       "      <th>noPeriodo</th>\n",
       "      <th>idArticulo</th>\n",
       "      <th>CnSalida 2018</th>\n",
       "      <th>caDescProduct</th>\n",
       "    </tr>\n",
       "  </thead>\n",
       "  <tbody>\n",
       "    <tr>\n",
       "      <th>0</th>\n",
       "      <td>20180100</td>\n",
       "      <td>25319</td>\n",
       "      <td>1.0</td>\n",
       "      <td>FOCO H11-12 100-90W CURVO</td>\n",
       "    </tr>\n",
       "    <tr>\n",
       "      <th>1</th>\n",
       "      <td>20180100</td>\n",
       "      <td>4923</td>\n",
       "      <td>1.0</td>\n",
       "      <td>FILTRO AIRE HYUNDAI TUCSON</td>\n",
       "    </tr>\n",
       "    <tr>\n",
       "      <th>2</th>\n",
       "      <td>20180100</td>\n",
       "      <td>25853</td>\n",
       "      <td>1.0</td>\n",
       "      <td>FILTRO GASOLINA NISSAN METAL GA15-16 INJECTADO</td>\n",
       "    </tr>\n",
       "    <tr>\n",
       "      <th>3</th>\n",
       "      <td>20180100</td>\n",
       "      <td>13497</td>\n",
       "      <td>1.0</td>\n",
       "      <td>JGO CABLES BUJIA KIA RIO LARGO</td>\n",
       "    </tr>\n",
       "    <tr>\n",
       "      <th>4</th>\n",
       "      <td>20180100</td>\n",
       "      <td>23900</td>\n",
       "      <td>4.0</td>\n",
       "      <td>BUJIA NGK</td>\n",
       "    </tr>\n",
       "  </tbody>\n",
       "</table>\n",
       "</div>"
      ],
      "text/plain": [
       "    noPeriodo   idArticulo  CnSalida 2018  \\\n",
       "0    20180100        25319            1.0   \n",
       "1    20180100         4923            1.0   \n",
       "2    20180100        25853            1.0   \n",
       "3    20180100        13497            1.0   \n",
       "4    20180100        23900            4.0   \n",
       "\n",
       "                                      caDescProduct  \n",
       "0                         FOCO H11-12 100-90W CURVO  \n",
       "1                        FILTRO AIRE HYUNDAI TUCSON  \n",
       "2   FILTRO GASOLINA NISSAN METAL GA15-16 INJECTADO   \n",
       "3                    JGO CABLES BUJIA KIA RIO LARGO  \n",
       "4                                         BUJIA NGK  "
      ]
     },
     "execution_count": 6,
     "metadata": {},
     "output_type": "execute_result"
    }
   ],
   "source": [
    "# Leemos los datos\n",
    "df = pd.read_csv(f\"{DATA_PATH}/Data_Repuestos_2018_2021.csv\", header=1, \n",
    "                       usecols=[' noPeriodo',' idArticulo','CnSalida 2018', ' caDescProduct'],\n",
    "                       )\n",
    "df.head()"
   ]
  },
  {
   "cell_type": "code",
   "execution_count": 7,
   "metadata": {},
   "outputs": [
    {
     "data": {
      "text/html": [
       "<div>\n",
       "<style scoped>\n",
       "    .dataframe tbody tr th:only-of-type {\n",
       "        vertical-align: middle;\n",
       "    }\n",
       "\n",
       "    .dataframe tbody tr th {\n",
       "        vertical-align: top;\n",
       "    }\n",
       "\n",
       "    .dataframe thead th {\n",
       "        text-align: right;\n",
       "    }\n",
       "</style>\n",
       "<table border=\"1\" class=\"dataframe\">\n",
       "  <thead>\n",
       "    <tr style=\"text-align: right;\">\n",
       "      <th></th>\n",
       "      <th>Periodo</th>\n",
       "      <th>producto</th>\n",
       "      <th>ventas</th>\n",
       "      <th>DescProducto</th>\n",
       "    </tr>\n",
       "  </thead>\n",
       "  <tbody>\n",
       "    <tr>\n",
       "      <th>0</th>\n",
       "      <td>20180100</td>\n",
       "      <td>25319</td>\n",
       "      <td>1.0</td>\n",
       "      <td>FOCO H11-12 100-90W CURVO</td>\n",
       "    </tr>\n",
       "    <tr>\n",
       "      <th>1</th>\n",
       "      <td>20180100</td>\n",
       "      <td>4923</td>\n",
       "      <td>1.0</td>\n",
       "      <td>FILTRO AIRE HYUNDAI TUCSON</td>\n",
       "    </tr>\n",
       "    <tr>\n",
       "      <th>2</th>\n",
       "      <td>20180100</td>\n",
       "      <td>25853</td>\n",
       "      <td>1.0</td>\n",
       "      <td>FILTRO GASOLINA NISSAN METAL GA15-16 INJECTADO</td>\n",
       "    </tr>\n",
       "    <tr>\n",
       "      <th>3</th>\n",
       "      <td>20180100</td>\n",
       "      <td>13497</td>\n",
       "      <td>1.0</td>\n",
       "      <td>JGO CABLES BUJIA KIA RIO LARGO</td>\n",
       "    </tr>\n",
       "    <tr>\n",
       "      <th>4</th>\n",
       "      <td>20180100</td>\n",
       "      <td>23900</td>\n",
       "      <td>4.0</td>\n",
       "      <td>BUJIA NGK</td>\n",
       "    </tr>\n",
       "  </tbody>\n",
       "</table>\n",
       "</div>"
      ],
      "text/plain": [
       "    Periodo  producto  ventas  \\\n",
       "0  20180100     25319     1.0   \n",
       "1  20180100      4923     1.0   \n",
       "2  20180100     25853     1.0   \n",
       "3  20180100     13497     1.0   \n",
       "4  20180100     23900     4.0   \n",
       "\n",
       "                                       DescProducto  \n",
       "0                         FOCO H11-12 100-90W CURVO  \n",
       "1                        FILTRO AIRE HYUNDAI TUCSON  \n",
       "2   FILTRO GASOLINA NISSAN METAL GA15-16 INJECTADO   \n",
       "3                    JGO CABLES BUJIA KIA RIO LARGO  \n",
       "4                                         BUJIA NGK  "
      ]
     },
     "execution_count": 7,
     "metadata": {},
     "output_type": "execute_result"
    }
   ],
   "source": [
    "# Cambiamos el nombre de las columnas\n",
    "df.rename(columns={\n",
    "    ' noPeriodo':'Periodo',\n",
    "    ' idArticulo':'producto',\n",
    "    'CnSalida 2018':'ventas',\n",
    "    ' caDescProduct':'DescProducto'\n",
    "    }, inplace=True)\n",
    "df.head()"
   ]
  },
  {
   "cell_type": "markdown",
   "metadata": {},
   "source": [
    "### Formating datetime"
   ]
  },
  {
   "cell_type": "code",
   "execution_count": 8,
   "metadata": {},
   "outputs": [
    {
     "data": {
      "text/html": [
       "<div>\n",
       "<style scoped>\n",
       "    .dataframe tbody tr th:only-of-type {\n",
       "        vertical-align: middle;\n",
       "    }\n",
       "\n",
       "    .dataframe tbody tr th {\n",
       "        vertical-align: top;\n",
       "    }\n",
       "\n",
       "    .dataframe thead th {\n",
       "        text-align: right;\n",
       "    }\n",
       "</style>\n",
       "<table border=\"1\" class=\"dataframe\">\n",
       "  <thead>\n",
       "    <tr style=\"text-align: right;\">\n",
       "      <th></th>\n",
       "      <th>Periodo</th>\n",
       "      <th>producto</th>\n",
       "      <th>ventas</th>\n",
       "      <th>DescProducto</th>\n",
       "    </tr>\n",
       "  </thead>\n",
       "  <tbody>\n",
       "    <tr>\n",
       "      <th>0</th>\n",
       "      <td>2018-01-01</td>\n",
       "      <td>25319</td>\n",
       "      <td>1.0</td>\n",
       "      <td>FOCO H11-12 100-90W CURVO</td>\n",
       "    </tr>\n",
       "    <tr>\n",
       "      <th>1</th>\n",
       "      <td>2018-01-01</td>\n",
       "      <td>4923</td>\n",
       "      <td>1.0</td>\n",
       "      <td>FILTRO AIRE HYUNDAI TUCSON</td>\n",
       "    </tr>\n",
       "    <tr>\n",
       "      <th>2</th>\n",
       "      <td>2018-01-01</td>\n",
       "      <td>25853</td>\n",
       "      <td>1.0</td>\n",
       "      <td>FILTRO GASOLINA NISSAN METAL GA15-16 INJECTADO</td>\n",
       "    </tr>\n",
       "    <tr>\n",
       "      <th>3</th>\n",
       "      <td>2018-01-01</td>\n",
       "      <td>13497</td>\n",
       "      <td>1.0</td>\n",
       "      <td>JGO CABLES BUJIA KIA RIO LARGO</td>\n",
       "    </tr>\n",
       "    <tr>\n",
       "      <th>4</th>\n",
       "      <td>2018-01-01</td>\n",
       "      <td>23900</td>\n",
       "      <td>4.0</td>\n",
       "      <td>BUJIA NGK</td>\n",
       "    </tr>\n",
       "  </tbody>\n",
       "</table>\n",
       "</div>"
      ],
      "text/plain": [
       "      Periodo producto  ventas  \\\n",
       "0  2018-01-01    25319     1.0   \n",
       "1  2018-01-01     4923     1.0   \n",
       "2  2018-01-01    25853     1.0   \n",
       "3  2018-01-01    13497     1.0   \n",
       "4  2018-01-01    23900     4.0   \n",
       "\n",
       "                                       DescProducto  \n",
       "0                         FOCO H11-12 100-90W CURVO  \n",
       "1                        FILTRO AIRE HYUNDAI TUCSON  \n",
       "2   FILTRO GASOLINA NISSAN METAL GA15-16 INJECTADO   \n",
       "3                    JGO CABLES BUJIA KIA RIO LARGO  \n",
       "4                                         BUJIA NGK  "
      ]
     },
     "execution_count": 8,
     "metadata": {},
     "output_type": "execute_result"
    }
   ],
   "source": [
    "# Formaterar las fechas\n",
    "df['producto'] = df['producto'].astype(str)\n",
    "df.Periodo = df.Periodo.apply(lambda x: datetime.strptime(str(x), \"%Y%m00\").date())\n",
    "df.head()"
   ]
  },
  {
   "cell_type": "code",
   "execution_count": 9,
   "metadata": {},
   "outputs": [],
   "source": [
    "# # Homogenizamos los nombres de los productos\n",
    "# df[\"DescProductoOrig\"] = df.loc[:,\"DescProducto\"]\n",
    "# df[\"DescProducto\"] = df[\"DescProducto\"].apply(homogenizar_str)\n",
    "# df.head()"
   ]
  },
  {
   "cell_type": "code",
   "execution_count": 10,
   "metadata": {},
   "outputs": [
    {
     "name": "stdout",
     "output_type": "stream",
     "text": [
      "<class 'pandas.core.frame.DataFrame'>\n",
      "RangeIndex: 99954 entries, 0 to 99953\n",
      "Data columns (total 4 columns):\n",
      " #   Column        Non-Null Count  Dtype  \n",
      "---  ------        --------------  -----  \n",
      " 0   Periodo       99954 non-null  object \n",
      " 1   producto      99954 non-null  object \n",
      " 2   ventas        99954 non-null  float64\n",
      " 3   DescProducto  99951 non-null  object \n",
      "dtypes: float64(1), object(3)\n",
      "memory usage: 3.1+ MB\n"
     ]
    }
   ],
   "source": [
    "# Ver el estado de salud de los datos\n",
    "### Buscamos valores nulos \n",
    "### observamos el tipo de datos en la db\n",
    "df.info()"
   ]
  },
  {
   "cell_type": "code",
   "execution_count": 11,
   "metadata": {},
   "outputs": [
    {
     "data": {
      "text/html": [
       "<div>\n",
       "<style scoped>\n",
       "    .dataframe tbody tr th:only-of-type {\n",
       "        vertical-align: middle;\n",
       "    }\n",
       "\n",
       "    .dataframe tbody tr th {\n",
       "        vertical-align: top;\n",
       "    }\n",
       "\n",
       "    .dataframe thead th {\n",
       "        text-align: right;\n",
       "    }\n",
       "</style>\n",
       "<table border=\"1\" class=\"dataframe\">\n",
       "  <thead>\n",
       "    <tr style=\"text-align: right;\">\n",
       "      <th></th>\n",
       "      <th>ventas</th>\n",
       "    </tr>\n",
       "  </thead>\n",
       "  <tbody>\n",
       "    <tr>\n",
       "      <th>count</th>\n",
       "      <td>99954.000000</td>\n",
       "    </tr>\n",
       "    <tr>\n",
       "      <th>mean</th>\n",
       "      <td>5.407716</td>\n",
       "    </tr>\n",
       "    <tr>\n",
       "      <th>std</th>\n",
       "      <td>87.734119</td>\n",
       "    </tr>\n",
       "    <tr>\n",
       "      <th>min</th>\n",
       "      <td>0.000000</td>\n",
       "    </tr>\n",
       "    <tr>\n",
       "      <th>25%</th>\n",
       "      <td>1.000000</td>\n",
       "    </tr>\n",
       "    <tr>\n",
       "      <th>50%</th>\n",
       "      <td>1.000000</td>\n",
       "    </tr>\n",
       "    <tr>\n",
       "      <th>75%</th>\n",
       "      <td>2.000000</td>\n",
       "    </tr>\n",
       "    <tr>\n",
       "      <th>max</th>\n",
       "      <td>10000.000000</td>\n",
       "    </tr>\n",
       "  </tbody>\n",
       "</table>\n",
       "</div>"
      ],
      "text/plain": [
       "             ventas\n",
       "count  99954.000000\n",
       "mean       5.407716\n",
       "std       87.734119\n",
       "min        0.000000\n",
       "25%        1.000000\n",
       "50%        1.000000\n",
       "75%        2.000000\n",
       "max    10000.000000"
      ]
     },
     "execution_count": 11,
     "metadata": {},
     "output_type": "execute_result"
    }
   ],
   "source": [
    "# Solo valores significativos\n",
    "df = df.query('ventas >= 0')\n",
    "df.describe()"
   ]
  },
  {
   "cell_type": "markdown",
   "metadata": {},
   "source": [
    "## Group by products and months\n",
    "The group process going to sum all the sales in the related month and product."
   ]
  },
  {
   "cell_type": "code",
   "execution_count": 13,
   "metadata": {},
   "outputs": [
    {
     "data": {
      "text/html": [
       "<div>\n",
       "<style scoped>\n",
       "    .dataframe tbody tr th:only-of-type {\n",
       "        vertical-align: middle;\n",
       "    }\n",
       "\n",
       "    .dataframe tbody tr th {\n",
       "        vertical-align: top;\n",
       "    }\n",
       "\n",
       "    .dataframe thead th {\n",
       "        text-align: right;\n",
       "    }\n",
       "</style>\n",
       "<table border=\"1\" class=\"dataframe\">\n",
       "  <thead>\n",
       "    <tr style=\"text-align: right;\">\n",
       "      <th></th>\n",
       "      <th>Periodo</th>\n",
       "      <th>producto</th>\n",
       "      <th>ventas</th>\n",
       "      <th>DescProducto</th>\n",
       "    </tr>\n",
       "  </thead>\n",
       "  <tbody>\n",
       "    <tr>\n",
       "      <th>60387</th>\n",
       "      <td>2021-03-01</td>\n",
       "      <td>9996</td>\n",
       "      <td>1.0</td>\n",
       "      <td>THERMOSTATO TOYOTA COROLLA 1C/2C/2Y/3Y/4Y/3A/5...</td>\n",
       "    </tr>\n",
       "    <tr>\n",
       "      <th>54016</th>\n",
       "      <td>2020-11-01</td>\n",
       "      <td>9996</td>\n",
       "      <td>1.0</td>\n",
       "      <td>THERMOSTATO TOYOTA COROLLA 1C/2C/2Y/3Y/4Y/3A/5...</td>\n",
       "    </tr>\n",
       "    <tr>\n",
       "      <th>47091</th>\n",
       "      <td>2020-07-01</td>\n",
       "      <td>9996</td>\n",
       "      <td>4.0</td>\n",
       "      <td>THERMOSTATO TOYOTA COROLLA 1C/2C/2Y/3Y/4Y/3A/5...</td>\n",
       "    </tr>\n",
       "    <tr>\n",
       "      <th>42002</th>\n",
       "      <td>2020-02-01</td>\n",
       "      <td>9996</td>\n",
       "      <td>1.0</td>\n",
       "      <td>THERMOSTATO TOYOTA COROLLA 1C/2C/2Y/3Y/4Y/3A/5...</td>\n",
       "    </tr>\n",
       "    <tr>\n",
       "      <th>35136</th>\n",
       "      <td>2019-10-01</td>\n",
       "      <td>9996</td>\n",
       "      <td>1.0</td>\n",
       "      <td>THERMOSTATO TOYOTA COROLLA 1C/2C/2Y/3Y/4Y/3A/5...</td>\n",
       "    </tr>\n",
       "  </tbody>\n",
       "</table>\n",
       "</div>"
      ],
      "text/plain": [
       "          Periodo producto  ventas  \\\n",
       "60387  2021-03-01     9996     1.0   \n",
       "54016  2020-11-01     9996     1.0   \n",
       "47091  2020-07-01     9996     4.0   \n",
       "42002  2020-02-01     9996     1.0   \n",
       "35136  2019-10-01     9996     1.0   \n",
       "\n",
       "                                            DescProducto  \n",
       "60387  THERMOSTATO TOYOTA COROLLA 1C/2C/2Y/3Y/4Y/3A/5...  \n",
       "54016  THERMOSTATO TOYOTA COROLLA 1C/2C/2Y/3Y/4Y/3A/5...  \n",
       "47091  THERMOSTATO TOYOTA COROLLA 1C/2C/2Y/3Y/4Y/3A/5...  \n",
       "42002  THERMOSTATO TOYOTA COROLLA 1C/2C/2Y/3Y/4Y/3A/5...  \n",
       "35136  THERMOSTATO TOYOTA COROLLA 1C/2C/2Y/3Y/4Y/3A/5...  "
      ]
     },
     "execution_count": 13,
     "metadata": {},
     "output_type": "execute_result"
    }
   ],
   "source": [
    "# Agrupas datos según mes, año y producto\n",
    "dfagg = df.groupby(['Periodo', 'producto'])\n",
    "dfagg = dfagg.agg({'ventas': 'sum', 'DescProducto':'first'})\n",
    "dfagg = dfagg.reset_index()\n",
    "dfagg = dfagg.sort_values(by=['producto', 'Periodo'], ascending=False)\n",
    "dfagg.head()"
   ]
  },
  {
   "cell_type": "code",
   "execution_count": 25,
   "metadata": {},
   "outputs": [],
   "source": [
    "# seleccionando productos que se encuentran al menos en el año 2021\n",
    "## de esta manera se podrán realizar predicciones en el futuro.\n",
    "products21 =dfagg[dfagg['Periodo']>=dt.date(year=2021,month=1,day=1)]['producto'].unique().tolist()"
   ]
  },
  {
   "cell_type": "markdown",
   "metadata": {},
   "source": [
    "># 2. Seleccion de datos"
   ]
  },
  {
   "cell_type": "markdown",
   "metadata": {},
   "source": [
    "## Productos y su presencia en el tiempo"
   ]
  },
  {
   "cell_type": "markdown",
   "metadata": {},
   "source": [
    "- Cada año tiene 36 meses.\n",
    "- Tomaremos aquellos productos con al menos 12 meses de presencia en la línea de tiempo, es decir en el últimos 3 años.\n",
    "- detectamos que tenemos 49 artículos únicos que cumplen todos los requisitos"
   ]
  },
  {
   "cell_type": "code",
   "execution_count": 35,
   "metadata": {},
   "outputs": [],
   "source": [
    "min_meses = 36"
   ]
  },
  {
   "cell_type": "code",
   "execution_count": 36,
   "metadata": {},
   "outputs": [
    {
     "name": "stdout",
     "output_type": "stream",
     "text": [
      "Existen 49 producto que cuentan con una presencia mayor a 36 meses\n"
     ]
    }
   ],
   "source": [
    "# Aplicamos el filtro para encontrar los productos significativos\n",
    "temp = dfagg.loc[dfagg['producto'].isin(products21)]\n",
    "temp = temp.loc[:,['producto']]\n",
    "temp['count'] = 1\n",
    "temp = temp.groupby('producto').count()\n",
    "temp = temp.sort_values('count', ascending=False)\n",
    "temp = temp.reset_index()\n",
    "temp = temp.query(f'count > {min_meses}')\n",
    "value_count = temp.producto.nunique()\n",
    "\n",
    "print(f\"Existen {value_count} producto que cuentan con una presencia mayor a {min_meses} meses\")"
   ]
  },
  {
   "cell_type": "code",
   "execution_count": 39,
   "metadata": {},
   "outputs": [
    {
     "data": {
      "text/html": [
       "<div>\n",
       "<style scoped>\n",
       "    .dataframe tbody tr th:only-of-type {\n",
       "        vertical-align: middle;\n",
       "    }\n",
       "\n",
       "    .dataframe tbody tr th {\n",
       "        vertical-align: top;\n",
       "    }\n",
       "\n",
       "    .dataframe thead th {\n",
       "        text-align: right;\n",
       "    }\n",
       "</style>\n",
       "<table border=\"1\" class=\"dataframe\">\n",
       "  <thead>\n",
       "    <tr style=\"text-align: right;\">\n",
       "      <th></th>\n",
       "      <th>Periodo</th>\n",
       "      <th>idArticulo</th>\n",
       "      <th>ventas</th>\n",
       "      <th>DescProducto</th>\n",
       "    </tr>\n",
       "  </thead>\n",
       "  <tbody>\n",
       "    <tr>\n",
       "      <th>0</th>\n",
       "      <td>2021-05-01</td>\n",
       "      <td>9950</td>\n",
       "      <td>37.0</td>\n",
       "      <td>REFRIGERANTE COOLANT AZUL/NATURAL TRANSP. GALO...</td>\n",
       "    </tr>\n",
       "    <tr>\n",
       "      <th>1</th>\n",
       "      <td>2021-04-01</td>\n",
       "      <td>9950</td>\n",
       "      <td>19.0</td>\n",
       "      <td>REFRIGERANTE COOLANT AZUL/NATURAL TRANSP. GALO...</td>\n",
       "    </tr>\n",
       "    <tr>\n",
       "      <th>2</th>\n",
       "      <td>2021-03-01</td>\n",
       "      <td>9950</td>\n",
       "      <td>9.0</td>\n",
       "      <td>REFRIGERANTE COOLANT AZUL/NATURAL TRANSP. GALO...</td>\n",
       "    </tr>\n",
       "    <tr>\n",
       "      <th>3</th>\n",
       "      <td>2021-02-01</td>\n",
       "      <td>9950</td>\n",
       "      <td>8.0</td>\n",
       "      <td>REFRIGERANTE COOLANT AZUL/NATURAL TRANSP. GALO...</td>\n",
       "    </tr>\n",
       "    <tr>\n",
       "      <th>4</th>\n",
       "      <td>2021-01-01</td>\n",
       "      <td>9950</td>\n",
       "      <td>76.0</td>\n",
       "      <td>REFRIGERANTE COOLANT AZUL/NATURAL TRANSP. GALO...</td>\n",
       "    </tr>\n",
       "  </tbody>\n",
       "</table>\n",
       "</div>"
      ],
      "text/plain": [
       "      Periodo idArticulo  ventas  \\\n",
       "0  2021-05-01       9950    37.0   \n",
       "1  2021-04-01       9950    19.0   \n",
       "2  2021-03-01       9950     9.0   \n",
       "3  2021-02-01       9950     8.0   \n",
       "4  2021-01-01       9950    76.0   \n",
       "\n",
       "                                        DescProducto  \n",
       "0  REFRIGERANTE COOLANT AZUL/NATURAL TRANSP. GALO...  \n",
       "1  REFRIGERANTE COOLANT AZUL/NATURAL TRANSP. GALO...  \n",
       "2  REFRIGERANTE COOLANT AZUL/NATURAL TRANSP. GALO...  \n",
       "3  REFRIGERANTE COOLANT AZUL/NATURAL TRANSP. GALO...  \n",
       "4  REFRIGERANTE COOLANT AZUL/NATURAL TRANSP. GALO...  "
      ]
     },
     "execution_count": 39,
     "metadata": {},
     "output_type": "execute_result"
    }
   ],
   "source": [
    "# Tomamos solo los productos que cumples con las condiciones deseadas.\n",
    "lista_articulos = temp.producto.unique().tolist()\n",
    "df_clean = dfagg.loc[dfagg['producto'].isin(lista_articulos)]\n",
    "df_clean = df_clean.reset_index(drop=True)\n",
    "df_clean = df_clean.sort_values(by=['producto', 'Periodo'], ascending=False)\n",
    "df_clean.rename(columns={'producto': 'idArticulo'}, inplace=True)\n",
    "df_clean.head()"
   ]
  },
  {
   "cell_type": "code",
   "execution_count": 40,
   "metadata": {},
   "outputs": [],
   "source": [
    "df_clean.to_csv(f'{DATA_PATH}/producto.csv', index=False)"
   ]
  },
  {
   "cell_type": "markdown",
   "metadata": {},
   "source": [
    "># 3. Preparación"
   ]
  },
  {
   "cell_type": "markdown",
   "metadata": {},
   "source": [
    "### Crear series de tiempo"
   ]
  },
  {
   "cell_type": "code",
   "execution_count": 41,
   "metadata": {},
   "outputs": [
    {
     "data": {
      "text/html": [
       "<div>\n",
       "<style scoped>\n",
       "    .dataframe tbody tr th:only-of-type {\n",
       "        vertical-align: middle;\n",
       "    }\n",
       "\n",
       "    .dataframe tbody tr th {\n",
       "        vertical-align: top;\n",
       "    }\n",
       "\n",
       "    .dataframe thead th {\n",
       "        text-align: right;\n",
       "    }\n",
       "</style>\n",
       "<table border=\"1\" class=\"dataframe\">\n",
       "  <thead>\n",
       "    <tr style=\"text-align: right;\">\n",
       "      <th>idArticulo</th>\n",
       "      <th>10702</th>\n",
       "      <th>10927</th>\n",
       "      <th>10960</th>\n",
       "      <th>10964</th>\n",
       "      <th>11395</th>\n",
       "      <th>11397</th>\n",
       "      <th>11509</th>\n",
       "      <th>11523</th>\n",
       "      <th>11807</th>\n",
       "      <th>1208</th>\n",
       "      <th>...</th>\n",
       "      <th>5389</th>\n",
       "      <th>551</th>\n",
       "      <th>5579</th>\n",
       "      <th>594</th>\n",
       "      <th>6833</th>\n",
       "      <th>7798</th>\n",
       "      <th>7799</th>\n",
       "      <th>7801</th>\n",
       "      <th>9776</th>\n",
       "      <th>9950</th>\n",
       "    </tr>\n",
       "    <tr>\n",
       "      <th>Periodo</th>\n",
       "      <th></th>\n",
       "      <th></th>\n",
       "      <th></th>\n",
       "      <th></th>\n",
       "      <th></th>\n",
       "      <th></th>\n",
       "      <th></th>\n",
       "      <th></th>\n",
       "      <th></th>\n",
       "      <th></th>\n",
       "      <th></th>\n",
       "      <th></th>\n",
       "      <th></th>\n",
       "      <th></th>\n",
       "      <th></th>\n",
       "      <th></th>\n",
       "      <th></th>\n",
       "      <th></th>\n",
       "      <th></th>\n",
       "      <th></th>\n",
       "      <th></th>\n",
       "    </tr>\n",
       "  </thead>\n",
       "  <tbody>\n",
       "    <tr>\n",
       "      <th>2021-01-01</th>\n",
       "      <td>7.0</td>\n",
       "      <td>326.0</td>\n",
       "      <td>19.0</td>\n",
       "      <td>9.0</td>\n",
       "      <td>271.0</td>\n",
       "      <td>44.0</td>\n",
       "      <td>2.0</td>\n",
       "      <td>2.0</td>\n",
       "      <td>4.0</td>\n",
       "      <td>170.0</td>\n",
       "      <td>...</td>\n",
       "      <td>5.0</td>\n",
       "      <td>6.0</td>\n",
       "      <td>6.0</td>\n",
       "      <td>3.0</td>\n",
       "      <td>1.0</td>\n",
       "      <td>6.0</td>\n",
       "      <td>9.0</td>\n",
       "      <td>5.0</td>\n",
       "      <td>1840.0</td>\n",
       "      <td>76.0</td>\n",
       "    </tr>\n",
       "    <tr>\n",
       "      <th>2021-02-01</th>\n",
       "      <td>4.0</td>\n",
       "      <td>12.0</td>\n",
       "      <td>13.0</td>\n",
       "      <td>6.0</td>\n",
       "      <td>40.0</td>\n",
       "      <td>0.0</td>\n",
       "      <td>2.0</td>\n",
       "      <td>4.0</td>\n",
       "      <td>18.0</td>\n",
       "      <td>220.0</td>\n",
       "      <td>...</td>\n",
       "      <td>0.0</td>\n",
       "      <td>4.0</td>\n",
       "      <td>3.0</td>\n",
       "      <td>4.0</td>\n",
       "      <td>1.0</td>\n",
       "      <td>2.0</td>\n",
       "      <td>1.0</td>\n",
       "      <td>5.0</td>\n",
       "      <td>840.0</td>\n",
       "      <td>8.0</td>\n",
       "    </tr>\n",
       "    <tr>\n",
       "      <th>2021-03-01</th>\n",
       "      <td>2.0</td>\n",
       "      <td>29.0</td>\n",
       "      <td>13.0</td>\n",
       "      <td>16.0</td>\n",
       "      <td>94.0</td>\n",
       "      <td>4.0</td>\n",
       "      <td>3.0</td>\n",
       "      <td>4.0</td>\n",
       "      <td>6.0</td>\n",
       "      <td>155.0</td>\n",
       "      <td>...</td>\n",
       "      <td>2.0</td>\n",
       "      <td>4.0</td>\n",
       "      <td>4.0</td>\n",
       "      <td>6.0</td>\n",
       "      <td>3.0</td>\n",
       "      <td>2.0</td>\n",
       "      <td>5.0</td>\n",
       "      <td>3.0</td>\n",
       "      <td>480.0</td>\n",
       "      <td>9.0</td>\n",
       "    </tr>\n",
       "    <tr>\n",
       "      <th>2021-04-01</th>\n",
       "      <td>8.0</td>\n",
       "      <td>39.0</td>\n",
       "      <td>101.0</td>\n",
       "      <td>11.0</td>\n",
       "      <td>51.0</td>\n",
       "      <td>8.0</td>\n",
       "      <td>1.0</td>\n",
       "      <td>2.0</td>\n",
       "      <td>4.0</td>\n",
       "      <td>155.0</td>\n",
       "      <td>...</td>\n",
       "      <td>1.0</td>\n",
       "      <td>8.0</td>\n",
       "      <td>5.0</td>\n",
       "      <td>8.0</td>\n",
       "      <td>1.0</td>\n",
       "      <td>5.0</td>\n",
       "      <td>4.0</td>\n",
       "      <td>4.0</td>\n",
       "      <td>450.0</td>\n",
       "      <td>19.0</td>\n",
       "    </tr>\n",
       "    <tr>\n",
       "      <th>2021-05-01</th>\n",
       "      <td>5.0</td>\n",
       "      <td>4.0</td>\n",
       "      <td>15.0</td>\n",
       "      <td>10.0</td>\n",
       "      <td>64.0</td>\n",
       "      <td>12.0</td>\n",
       "      <td>2.0</td>\n",
       "      <td>2.0</td>\n",
       "      <td>1.0</td>\n",
       "      <td>80.0</td>\n",
       "      <td>...</td>\n",
       "      <td>1.0</td>\n",
       "      <td>13.0</td>\n",
       "      <td>11.0</td>\n",
       "      <td>4.0</td>\n",
       "      <td>1.0</td>\n",
       "      <td>5.0</td>\n",
       "      <td>3.0</td>\n",
       "      <td>0.0</td>\n",
       "      <td>260.0</td>\n",
       "      <td>37.0</td>\n",
       "    </tr>\n",
       "  </tbody>\n",
       "</table>\n",
       "<p>5 rows × 49 columns</p>\n",
       "</div>"
      ],
      "text/plain": [
       "idArticulo  10702  10927  10960  10964  11395  11397  11509  11523  11807  \\\n",
       "Periodo                                                                     \n",
       "2021-01-01    7.0  326.0   19.0    9.0  271.0   44.0    2.0    2.0    4.0   \n",
       "2021-02-01    4.0   12.0   13.0    6.0   40.0    0.0    2.0    4.0   18.0   \n",
       "2021-03-01    2.0   29.0   13.0   16.0   94.0    4.0    3.0    4.0    6.0   \n",
       "2021-04-01    8.0   39.0  101.0   11.0   51.0    8.0    1.0    2.0    4.0   \n",
       "2021-05-01    5.0    4.0   15.0   10.0   64.0   12.0    2.0    2.0    1.0   \n",
       "\n",
       "idArticulo   1208  ...  5389   551  5579  594  6833  7798  7799  7801    9776  \\\n",
       "Periodo            ...                                                          \n",
       "2021-01-01  170.0  ...   5.0   6.0   6.0  3.0   1.0   6.0   9.0   5.0  1840.0   \n",
       "2021-02-01  220.0  ...   0.0   4.0   3.0  4.0   1.0   2.0   1.0   5.0   840.0   \n",
       "2021-03-01  155.0  ...   2.0   4.0   4.0  6.0   3.0   2.0   5.0   3.0   480.0   \n",
       "2021-04-01  155.0  ...   1.0   8.0   5.0  8.0   1.0   5.0   4.0   4.0   450.0   \n",
       "2021-05-01   80.0  ...   1.0  13.0  11.0  4.0   1.0   5.0   3.0   0.0   260.0   \n",
       "\n",
       "idArticulo  9950  \n",
       "Periodo           \n",
       "2021-01-01  76.0  \n",
       "2021-02-01   8.0  \n",
       "2021-03-01   9.0  \n",
       "2021-04-01  19.0  \n",
       "2021-05-01  37.0  \n",
       "\n",
       "[5 rows x 49 columns]"
      ]
     },
     "execution_count": 41,
     "metadata": {},
     "output_type": "execute_result"
    }
   ],
   "source": [
    "# Pivotando las tablas y llenando de ceros las ventas que no existen.\n",
    "imp_mean = SimpleImputer(missing_values=np.nan, strategy='constant', fill_value=0)\n",
    "df_time_pre = df_clean.pivot_table(index='Periodo', columns='idArticulo', values='ventas', aggfunc='sum',)\n",
    "df_time = imp_mean.fit_transform(df_time_pre)\n",
    "df_time = pd.DataFrame(df_time, columns=df_time_pre.columns, index=df_time_pre.index)\n",
    "df_time.tail()"
   ]
  },
  {
   "cell_type": "markdown",
   "metadata": {},
   "source": [
    "### Graficando los productos en la línea de tiempo"
   ]
  },
  {
   "cell_type": "code",
   "execution_count": 43,
   "metadata": {},
   "outputs": [
    {
     "data": {
      "application/vnd.plotly.v1+json": {
       "config": {
        "plotlyServerURL": "https://plot.ly"
       },
       "data": [
        {
         "hovertemplate": "idArticulo=10702<br>Periodo=%{x}<br>value=%{y}<extra></extra>",
         "legendgroup": "10702",
         "line": {
          "color": "#636efa",
          "dash": "solid"
         },
         "marker": {
          "symbol": "circle"
         },
         "mode": "lines",
         "name": "10702",
         "showlegend": true,
         "type": "scattergl",
         "x": [
          "2018-01-01",
          "2018-02-01",
          "2018-03-01",
          "2018-04-01",
          "2018-05-01",
          "2018-06-01",
          "2018-07-01",
          "2018-08-01",
          "2018-09-01",
          "2018-10-01",
          "2018-11-01",
          "2018-12-01",
          "2019-01-01",
          "2019-02-01",
          "2019-03-01",
          "2019-04-01",
          "2019-05-01",
          "2019-06-01",
          "2019-07-01",
          "2019-08-01",
          "2019-09-01",
          "2019-10-01",
          "2019-11-01",
          "2019-12-01",
          "2020-01-01",
          "2020-02-01",
          "2020-03-01",
          "2020-04-01",
          "2020-05-01",
          "2020-06-01",
          "2020-07-01",
          "2020-08-01",
          "2020-09-01",
          "2020-10-01",
          "2020-11-01",
          "2020-12-01",
          "2021-01-01",
          "2021-02-01",
          "2021-03-01",
          "2021-04-01",
          "2021-05-01"
         ],
         "xaxis": "x49",
         "y": [
          -0.6997694274001093,
          2.8248677376372955,
          -0.27681296759562063,
          -0.4882911974978649,
          -0.558783940798613,
          -0.558783940798613,
          -0.20632022429487254,
          0.49860720871260844,
          -0.6997694274001093,
          -0.27681296759562063,
          -0.34730571089636875,
          -0.7702621707008573,
          -0.6997694274001093,
          2.613389507735051,
          -0.27681296759562063,
          -0.4882911974978649,
          -0.558783940798613,
          -0.558783940798613,
          -0.20632022429487254,
          0.49860720871260844,
          -0.20632022429487254,
          3.741273400547021,
          0.14614349220886796,
          1.8379693314268222,
          -0.13582748099412445,
          -0.20632022429487254,
          -0.6997694274001093,
          -0.6997694274001093,
          -0.34730571089636875,
          0.14614349220886796,
          0.921563668517097,
          0.49860720871260844,
          -0.27681296759562063,
          -0.558783940798613,
          -0.558783940798613,
          -0.34730571089636875,
          -0.27681296759562063,
          -0.4882911974978649,
          -0.6292766840993611,
          -0.20632022429487254,
          -0.4177984541971168
         ],
         "yaxis": "y49"
        },
        {
         "hovertemplate": "idArticulo=10927<br>Periodo=%{x}<br>value=%{y}<extra></extra>",
         "legendgroup": "10927",
         "line": {
          "color": "#EF553B",
          "dash": "solid"
         },
         "marker": {
          "symbol": "circle"
         },
         "mode": "lines",
         "name": "10927",
         "showlegend": true,
         "type": "scattergl",
         "x": [
          "2018-01-01",
          "2018-02-01",
          "2018-03-01",
          "2018-04-01",
          "2018-05-01",
          "2018-06-01",
          "2018-07-01",
          "2018-08-01",
          "2018-09-01",
          "2018-10-01",
          "2018-11-01",
          "2018-12-01",
          "2019-01-01",
          "2019-02-01",
          "2019-03-01",
          "2019-04-01",
          "2019-05-01",
          "2019-06-01",
          "2019-07-01",
          "2019-08-01",
          "2019-09-01",
          "2019-10-01",
          "2019-11-01",
          "2019-12-01",
          "2020-01-01",
          "2020-02-01",
          "2020-03-01",
          "2020-04-01",
          "2020-05-01",
          "2020-06-01",
          "2020-07-01",
          "2020-08-01",
          "2020-09-01",
          "2020-10-01",
          "2020-11-01",
          "2020-12-01",
          "2021-01-01",
          "2021-02-01",
          "2021-03-01",
          "2021-04-01",
          "2021-05-01"
         ],
         "xaxis": "x50",
         "y": [
          0.5966782016135451,
          -0.28603645747453443,
          -0.3761093818712773,
          1.3532907665461849,
          -0.03383226916365457,
          -0.48419689114736864,
          -0.2500072877158373,
          -0.2139781179571402,
          -0.6823573248202028,
          -0.6823573248202028,
          0.3805031830613624,
          -0.12390519356039738,
          0.7407948806483337,
          -0.2680218725951859,
          -0.3761093818712773,
          1.5334366153396704,
          -0.06986143892235169,
          -0.48419689114736864,
          -0.2500072877158373,
          -0.23199270283648876,
          -0.5742698155441115,
          -0.41213855162997437,
          -0.48419689114736864,
          -0.34008021211258016,
          0.5786636167341965,
          -0.43015313650932296,
          -0.6463281550615058,
          -0.6102989853028086,
          -0.59228440042346,
          -0.32206562723323157,
          -0.28603645747453443,
          -0.43015313650932296,
          1.6955678792538076,
          -0.17794894819844306,
          -0.5562552306647629,
          -0.17794894819844306,
          5.190397345847429,
          -0.4661823062680201,
          -0.15993436331909452,
          0.02021148547439112,
          -0.6102989853028086
         ],
         "yaxis": "y50"
        },
        {
         "hovertemplate": "idArticulo=10960<br>Periodo=%{x}<br>value=%{y}<extra></extra>",
         "legendgroup": "10960",
         "line": {
          "color": "#00cc96",
          "dash": "solid"
         },
         "marker": {
          "symbol": "circle"
         },
         "mode": "lines",
         "name": "10960",
         "showlegend": true,
         "type": "scattergl",
         "x": [
          "2018-01-01",
          "2018-02-01",
          "2018-03-01",
          "2018-04-01",
          "2018-05-01",
          "2018-06-01",
          "2018-07-01",
          "2018-08-01",
          "2018-09-01",
          "2018-10-01",
          "2018-11-01",
          "2018-12-01",
          "2019-01-01",
          "2019-02-01",
          "2019-03-01",
          "2019-04-01",
          "2019-05-01",
          "2019-06-01",
          "2019-07-01",
          "2019-08-01",
          "2019-09-01",
          "2019-10-01",
          "2019-11-01",
          "2019-12-01",
          "2020-01-01",
          "2020-02-01",
          "2020-03-01",
          "2020-04-01",
          "2020-05-01",
          "2020-06-01",
          "2020-07-01",
          "2020-08-01",
          "2020-09-01",
          "2020-10-01",
          "2020-11-01",
          "2020-12-01",
          "2021-01-01",
          "2021-02-01",
          "2021-03-01",
          "2021-04-01",
          "2021-05-01"
         ],
         "xaxis": "x51",
         "y": [
          0.11816015856831888,
          -0.5617789995090247,
          -0.13681702571068496,
          0.6281145271263265,
          -0.7317637890283606,
          -0.009328433571183037,
          -0.09432082833085098,
          0.5856183297464926,
          -1.2417181575863683,
          -0.13681702571068496,
          -0.9442447759275304,
          0.5431221323666586,
          0.033167763808650934,
          -0.47678660474935675,
          -0.17931322309051895,
          0.7980993166456625,
          -0.7317637890283606,
          -0.05182463095101701,
          -0.13681702571068496,
          0.6281145271263265,
          -0.47678660474935675,
          0.07566396118848491,
          1.0955726983045002,
          1.1380688956843343,
          0.8830917114053304,
          -0.30680181523002087,
          -0.7742599864081946,
          -1.1567257628267003,
          -1.0717333680670325,
          -0.3917942099896888,
          -0.17931322309051895,
          -0.3917942099896888,
          -0.3492980126098548,
          4.070306514892878,
          -0.30680181523002087,
          -0.3917942099896888,
          -0.4342904073695228,
          -0.6892675916485266,
          -0.6892675916485266,
          3.050397777776863,
          -0.6042751968888587
         ],
         "yaxis": "y51"
        },
        {
         "hovertemplate": "idArticulo=10964<br>Periodo=%{x}<br>value=%{y}<extra></extra>",
         "legendgroup": "10964",
         "line": {
          "color": "#ab63fa",
          "dash": "solid"
         },
         "marker": {
          "symbol": "circle"
         },
         "mode": "lines",
         "name": "10964",
         "showlegend": true,
         "type": "scattergl",
         "x": [
          "2018-01-01",
          "2018-02-01",
          "2018-03-01",
          "2018-04-01",
          "2018-05-01",
          "2018-06-01",
          "2018-07-01",
          "2018-08-01",
          "2018-09-01",
          "2018-10-01",
          "2018-11-01",
          "2018-12-01",
          "2019-01-01",
          "2019-02-01",
          "2019-03-01",
          "2019-04-01",
          "2019-05-01",
          "2019-06-01",
          "2019-07-01",
          "2019-08-01",
          "2019-09-01",
          "2019-10-01",
          "2019-11-01",
          "2019-12-01",
          "2020-01-01",
          "2020-02-01",
          "2020-03-01",
          "2020-04-01",
          "2020-05-01",
          "2020-06-01",
          "2020-07-01",
          "2020-08-01",
          "2020-09-01",
          "2020-10-01",
          "2020-11-01",
          "2020-12-01",
          "2021-01-01",
          "2021-02-01",
          "2021-03-01",
          "2021-04-01",
          "2021-05-01"
         ],
         "xaxis": "x46",
         "y": [
          0.13272525086432316,
          -0.5649331190635294,
          0.4117885988354642,
          0.6908519468066052,
          -1.262591488991382,
          -0.7044647930490999,
          -0.28586977109238837,
          0.27225692484989367,
          -1.4021231629769526,
          -1.4021231629769526,
          -0.14633809710681786,
          -0.14633809710681786,
          0.13272525086432316,
          -0.5649331190635294,
          0.27225692484989367,
          0.6908519468066052,
          -1.262591488991382,
          -0.7044647930490999,
          -0.28586977109238837,
          0.13272525086432316,
          -0.14633809710681786,
          2.0861686866623104,
          1.8071053386911693,
          1.8071053386911693,
          3.4814854265180157,
          0.27225692484989367,
          -0.7044647930490999,
          -1.262591488991382,
          -1.262591488991382,
          0.13272525086432316,
          -0.5649331190635294,
          0.5513202728210347,
          -0.7044647930490999,
          1.1094469687633168,
          -0.14633809710681786,
          -0.7044647930490999,
          -0.14633809710681786,
          -0.5649331190635294,
          0.8303836207921758,
          0.13272525086432316,
          -0.006806423121247349
         ],
         "yaxis": "y46"
        },
        {
         "hovertemplate": "idArticulo=11395<br>Periodo=%{x}<br>value=%{y}<extra></extra>",
         "legendgroup": "11395",
         "line": {
          "color": "#FFA15A",
          "dash": "solid"
         },
         "marker": {
          "symbol": "circle"
         },
         "mode": "lines",
         "name": "11395",
         "showlegend": true,
         "type": "scattergl",
         "x": [
          "2018-01-01",
          "2018-02-01",
          "2018-03-01",
          "2018-04-01",
          "2018-05-01",
          "2018-06-01",
          "2018-07-01",
          "2018-08-01",
          "2018-09-01",
          "2018-10-01",
          "2018-11-01",
          "2018-12-01",
          "2019-01-01",
          "2019-02-01",
          "2019-03-01",
          "2019-04-01",
          "2019-05-01",
          "2019-06-01",
          "2019-07-01",
          "2019-08-01",
          "2019-09-01",
          "2019-10-01",
          "2019-11-01",
          "2019-12-01",
          "2020-01-01",
          "2020-02-01",
          "2020-03-01",
          "2020-04-01",
          "2020-05-01",
          "2020-06-01",
          "2020-07-01",
          "2020-08-01",
          "2020-09-01",
          "2020-10-01",
          "2020-11-01",
          "2020-12-01",
          "2021-01-01",
          "2021-02-01",
          "2021-03-01",
          "2021-04-01",
          "2021-05-01"
         ],
         "xaxis": "x47",
         "y": [
          0.871903621392633,
          0.36022942655602785,
          2.7803100778102414,
          -0.20676089745210216,
          -0.3312221880880331,
          0.014503619233997353,
          0.2495971682129781,
          -0.9950157381463317,
          -1.5066899329829369,
          0.1251358775770471,
          -0.10995767140193362,
          1.6186713652082187,
          0.7197842661709396,
          0.2495971682129781,
          2.434584270488211,
          -0.1791028328663397,
          -0.386538317259558,
          0.05599071611264101,
          0.30491329738450296,
          -0.9258705766819256,
          0.42937458802043393,
          0.2634262005058593,
          1.0101939443214452,
          -1.2577673517110748,
          -1.1194770287822626,
          -0.1652738005734585,
          -1.2854254162968373,
          -1.451373803811412,
          -1.4098867069327683,
          0.09747781299128468,
          -0.386538317259558,
          -0.7322641245815885,
          0.2634262005058593,
          0.44320362031331517,
          -0.3173931557951519,
          0.816587492221108,
          2.240977818387874,
          -0.953528641267688,
          -0.20676089745210216,
          -0.8014092860459946,
          -0.6216318662385387
         ],
         "yaxis": "y47"
        },
        {
         "hovertemplate": "idArticulo=11397<br>Periodo=%{x}<br>value=%{y}<extra></extra>",
         "legendgroup": "11397",
         "line": {
          "color": "#19d3f3",
          "dash": "solid"
         },
         "marker": {
          "symbol": "circle"
         },
         "mode": "lines",
         "name": "11397",
         "showlegend": true,
         "type": "scattergl",
         "x": [
          "2018-01-01",
          "2018-02-01",
          "2018-03-01",
          "2018-04-01",
          "2018-05-01",
          "2018-06-01",
          "2018-07-01",
          "2018-08-01",
          "2018-09-01",
          "2018-10-01",
          "2018-11-01",
          "2018-12-01",
          "2019-01-01",
          "2019-02-01",
          "2019-03-01",
          "2019-04-01",
          "2019-05-01",
          "2019-06-01",
          "2019-07-01",
          "2019-08-01",
          "2019-09-01",
          "2019-10-01",
          "2019-11-01",
          "2019-12-01",
          "2020-01-01",
          "2020-02-01",
          "2020-03-01",
          "2020-04-01",
          "2020-05-01",
          "2020-06-01",
          "2020-07-01",
          "2020-08-01",
          "2020-09-01",
          "2020-10-01",
          "2020-11-01",
          "2020-12-01",
          "2021-01-01",
          "2021-02-01",
          "2021-03-01",
          "2021-04-01",
          "2021-05-01"
         ],
         "xaxis": "x48",
         "y": [
          -0.8036477392676571,
          0.15994613819705608,
          2.595697328455081,
          -0.8036477392676571,
          0.6149765803331707,
          0.02611365521584591,
          -0.4556832835165107,
          1.846235423760304,
          -0.0006528413803961239,
          0.7755755599106229,
          -0.16125182095784832,
          -0.4289167869202687,
          -0.8036477392676571,
          0.052880151812087946,
          2.9436617842062276,
          -0.8036477392676571,
          0.5346770905444446,
          -0.027419337976638158,
          -0.5627492699014789,
          1.7659359339715779,
          0.10641314500457201,
          -0.669815256286447,
          -0.696581752882689,
          -1.0177797120375933,
          1.2841389952392215,
          1.4982709680091577,
          -0.3753837937277846,
          -1.0177797120375933,
          -0.18801831755409038,
          1.016474029276801,
          -0.3753837937277846,
          -0.7233482494789311,
          -0.9107137256526253,
          -0.8036477392676571,
          -0.9107137256526253,
          0.5882100837369286,
          0.15994613819705608,
          -1.0177797120375933,
          -0.9107137256526253,
          -0.8036477392676571,
          -0.696581752882689
         ],
         "yaxis": "y48"
        },
        {
         "hovertemplate": "idArticulo=11509<br>Periodo=%{x}<br>value=%{y}<extra></extra>",
         "legendgroup": "11509",
         "line": {
          "color": "#FF6692",
          "dash": "solid"
         },
         "marker": {
          "symbol": "circle"
         },
         "mode": "lines",
         "name": "11509",
         "showlegend": true,
         "type": "scattergl",
         "x": [
          "2018-01-01",
          "2018-02-01",
          "2018-03-01",
          "2018-04-01",
          "2018-05-01",
          "2018-06-01",
          "2018-07-01",
          "2018-08-01",
          "2018-09-01",
          "2018-10-01",
          "2018-11-01",
          "2018-12-01",
          "2019-01-01",
          "2019-02-01",
          "2019-03-01",
          "2019-04-01",
          "2019-05-01",
          "2019-06-01",
          "2019-07-01",
          "2019-08-01",
          "2019-09-01",
          "2019-10-01",
          "2019-11-01",
          "2019-12-01",
          "2020-01-01",
          "2020-02-01",
          "2020-03-01",
          "2020-04-01",
          "2020-05-01",
          "2020-06-01",
          "2020-07-01",
          "2020-08-01",
          "2020-09-01",
          "2020-10-01",
          "2020-11-01",
          "2020-12-01",
          "2021-01-01",
          "2021-02-01",
          "2021-03-01",
          "2021-04-01",
          "2021-05-01"
         ],
         "xaxis": "x43",
         "y": [
          -0.7746317371125312,
          -0.7746317371125312,
          0.8021009476484364,
          -0.09888915792925938,
          1.2525960004372843,
          -0.7746317371125312,
          1.928338579620556,
          0.5768534212540124,
          -1.2251267899013791,
          -0.5493842107181073,
          -0.7746317371125312,
          -0.9998792635069551,
          -0.7746317371125312,
          -0.7746317371125312,
          0.8021009476484364,
          -0.09888915792925938,
          1.2525960004372843,
          -0.7746317371125312,
          1.928338579620556,
          0.5768534212540124,
          -0.3241366843236833,
          1.928338579620556,
          0.5768534212540124,
          2.378833632409404,
          -0.7746317371125312,
          0.8021009476484364,
          -0.7746317371125312,
          -0.9998792635069551,
          -0.3241366843236833,
          -0.09888915792925938,
          1.703091053226132,
          0.12635836846516457,
          1.0273484740428602,
          -0.5493842107181073,
          -0.9998792635069551,
          -0.5493842107181073,
          -0.7746317371125312,
          -0.7746317371125312,
          -0.5493842107181073,
          -0.9998792635069551,
          -0.7746317371125312
         ],
         "yaxis": "y43"
        },
        {
         "hovertemplate": "idArticulo=11523<br>Periodo=%{x}<br>value=%{y}<extra></extra>",
         "legendgroup": "11523",
         "line": {
          "color": "#B6E880",
          "dash": "solid"
         },
         "marker": {
          "symbol": "circle"
         },
         "mode": "lines",
         "name": "11523",
         "showlegend": true,
         "type": "scattergl",
         "x": [
          "2018-01-01",
          "2018-02-01",
          "2018-03-01",
          "2018-04-01",
          "2018-05-01",
          "2018-06-01",
          "2018-07-01",
          "2018-08-01",
          "2018-09-01",
          "2018-10-01",
          "2018-11-01",
          "2018-12-01",
          "2019-01-01",
          "2019-02-01",
          "2019-03-01",
          "2019-04-01",
          "2019-05-01",
          "2019-06-01",
          "2019-07-01",
          "2019-08-01",
          "2019-09-01",
          "2019-10-01",
          "2019-11-01",
          "2019-12-01",
          "2020-01-01",
          "2020-02-01",
          "2020-03-01",
          "2020-04-01",
          "2020-05-01",
          "2020-06-01",
          "2020-07-01",
          "2020-08-01",
          "2020-09-01",
          "2020-10-01",
          "2020-11-01",
          "2020-12-01",
          "2021-01-01",
          "2021-02-01",
          "2021-03-01",
          "2021-04-01",
          "2021-05-01"
         ],
         "xaxis": "x44",
         "y": [
          -0.5080265933041099,
          -0.2629784718280099,
          -0.5080265933041099,
          0.2271177711241903,
          2.1875027429329905,
          -0.75307471478021,
          -0.2629784718280099,
          0.9622621355524905,
          -0.99812283625631,
          2.677598985885191,
          -0.2629784718280099,
          -0.5080265933041099,
          -0.5080265933041099,
          -0.2629784718280099,
          -0.5080265933041099,
          0.2271177711241903,
          2.677598985885191,
          -0.75307471478021,
          -0.2629784718280099,
          0.7172140140763904,
          -0.75307471478021,
          -0.75307471478021,
          0.2271177711241903,
          -0.5080265933041099,
          -0.99812283625631,
          -0.5080265933041099,
          -0.99812283625631,
          -0.99812283625631,
          -0.5080265933041099,
          -0.2629784718280099,
          2.677598985885191,
          0.2271177711241903,
          -0.75307471478021,
          0.2271177711241903,
          1.6974064999807907,
          0.2271177711241903,
          -0.5080265933041099,
          -0.017930350351909777,
          -0.017930350351909777,
          -0.5080265933041099,
          -0.5080265933041099
         ],
         "yaxis": "y44"
        },
        {
         "hovertemplate": "idArticulo=11807<br>Periodo=%{x}<br>value=%{y}<extra></extra>",
         "legendgroup": "11807",
         "line": {
          "color": "#FF97FF",
          "dash": "solid"
         },
         "marker": {
          "symbol": "circle"
         },
         "mode": "lines",
         "name": "11807",
         "showlegend": true,
         "type": "scattergl",
         "x": [
          "2018-01-01",
          "2018-02-01",
          "2018-03-01",
          "2018-04-01",
          "2018-05-01",
          "2018-06-01",
          "2018-07-01",
          "2018-08-01",
          "2018-09-01",
          "2018-10-01",
          "2018-11-01",
          "2018-12-01",
          "2019-01-01",
          "2019-02-01",
          "2019-03-01",
          "2019-04-01",
          "2019-05-01",
          "2019-06-01",
          "2019-07-01",
          "2019-08-01",
          "2019-09-01",
          "2019-10-01",
          "2019-11-01",
          "2019-12-01",
          "2020-01-01",
          "2020-02-01",
          "2020-03-01",
          "2020-04-01",
          "2020-05-01",
          "2020-06-01",
          "2020-07-01",
          "2020-08-01",
          "2020-09-01",
          "2020-10-01",
          "2020-11-01",
          "2020-12-01",
          "2021-01-01",
          "2021-02-01",
          "2021-03-01",
          "2021-04-01",
          "2021-05-01"
         ],
         "xaxis": "x45",
         "y": [
          2.059540822674942,
          -0.33505962637547554,
          -0.4610912289570765,
          -0.5871228315386774,
          -0.5871228315386774,
          -0.4610912289570765,
          -0.5871228315386774,
          2.4376356304197446,
          -0.8391860367018792,
          -0.33505962637547554,
          -0.33505962637547554,
          -0.20902802379387464,
          1.9335092200933408,
          -0.33505962637547554,
          -0.4610912289570765,
          -0.5871228315386774,
          -0.5871228315386774,
          -0.4610912289570765,
          -0.5871228315386774,
          3.0677936433277493,
          -0.5871228315386774,
          0.04303518136932718,
          -0.33505962637547554,
          -0.33505962637547554,
          -0.5871228315386774,
          -0.33505962637547554,
          1.80747761751174,
          -0.8391860367018792,
          -0.8391860367018792,
          0.04303518136932718,
          -0.20902802379387464,
          2.059540822674942,
          -0.20902802379387464,
          -0.33505962637547554,
          -0.33505962637547554,
          -0.7131544341202782,
          -0.33505962637547554,
          1.4293828097669372,
          -0.08299642121227373,
          -0.33505962637547554,
          -0.7131544341202782
         ],
         "yaxis": "y45"
        },
        {
         "hovertemplate": "idArticulo=1208<br>Periodo=%{x}<br>value=%{y}<extra></extra>",
         "legendgroup": "1208",
         "line": {
          "color": "#FECB52",
          "dash": "solid"
         },
         "marker": {
          "symbol": "circle"
         },
         "mode": "lines",
         "name": "1208",
         "showlegend": true,
         "type": "scattergl",
         "x": [
          "2018-01-01",
          "2018-02-01",
          "2018-03-01",
          "2018-04-01",
          "2018-05-01",
          "2018-06-01",
          "2018-07-01",
          "2018-08-01",
          "2018-09-01",
          "2018-10-01",
          "2018-11-01",
          "2018-12-01",
          "2019-01-01",
          "2019-02-01",
          "2019-03-01",
          "2019-04-01",
          "2019-05-01",
          "2019-06-01",
          "2019-07-01",
          "2019-08-01",
          "2019-09-01",
          "2019-10-01",
          "2019-11-01",
          "2019-12-01",
          "2020-01-01",
          "2020-02-01",
          "2020-03-01",
          "2020-04-01",
          "2020-05-01",
          "2020-06-01",
          "2020-07-01",
          "2020-08-01",
          "2020-09-01",
          "2020-10-01",
          "2020-11-01",
          "2020-12-01",
          "2021-01-01",
          "2021-02-01",
          "2021-03-01",
          "2021-04-01",
          "2021-05-01"
         ],
         "xaxis": "x40",
         "y": [
          -0.5432610210858321,
          -0.4327063172222324,
          -0.39124830327338256,
          0.24904768993663193,
          -0.6292480129797429,
          0.10624786411281575,
          0.5745698735350087,
          0.17688003602567107,
          -0.6676350629323816,
          -0.5140868631218266,
          0.29204118588358735,
          4.8601001302475995,
          -0.5447965030839376,
          -0.43731276321654905,
          -0.3743580012942215,
          0.1845574460161988,
          -0.6277125309816373,
          0.16152521604461556,
          0.5914601755141696,
          0.17841551802377661,
          -0.2684097434249385,
          0.10010593612039355,
          -0.09950672363332799,
          -0.40660312325443804,
          -0.3682160733017993,
          -0.04576485369963373,
          -0.5140868631218266,
          -0.6676350629323816,
          -0.4449901732070768,
          -0.5217642731123543,
          -0.36053866331127155,
          0.42255715572255914,
          0.49933125562783665,
          3.2171343922746605,
          -0.16092600355755002,
          -0.4526675831976046,
          -0.40660312325443804,
          -0.32982902334916053,
          -0.4296353532260213,
          -0.4296353532260213,
          -0.5447965030839376
         ],
         "yaxis": "y40"
        },
        {
         "hovertemplate": "idArticulo=1224<br>Periodo=%{x}<br>value=%{y}<extra></extra>",
         "legendgroup": "1224",
         "line": {
          "color": "#636efa",
          "dash": "solid"
         },
         "marker": {
          "symbol": "circle"
         },
         "mode": "lines",
         "name": "1224",
         "showlegend": true,
         "type": "scattergl",
         "x": [
          "2018-01-01",
          "2018-02-01",
          "2018-03-01",
          "2018-04-01",
          "2018-05-01",
          "2018-06-01",
          "2018-07-01",
          "2018-08-01",
          "2018-09-01",
          "2018-10-01",
          "2018-11-01",
          "2018-12-01",
          "2019-01-01",
          "2019-02-01",
          "2019-03-01",
          "2019-04-01",
          "2019-05-01",
          "2019-06-01",
          "2019-07-01",
          "2019-08-01",
          "2019-09-01",
          "2019-10-01",
          "2019-11-01",
          "2019-12-01",
          "2020-01-01",
          "2020-02-01",
          "2020-03-01",
          "2020-04-01",
          "2020-05-01",
          "2020-06-01",
          "2020-07-01",
          "2020-08-01",
          "2020-09-01",
          "2020-10-01",
          "2020-11-01",
          "2020-12-01",
          "2021-01-01",
          "2021-02-01",
          "2021-03-01",
          "2021-04-01",
          "2021-05-01"
         ],
         "xaxis": "x41",
         "y": [
          -0.6625334904494141,
          1.7443919748541539,
          -0.3186869954060473,
          -1.006379985492781,
          -1.006379985492781,
          0.7128524897240532,
          0.7128524897240532,
          0.02515949963731955,
          -1.350226480536148,
          -1.350226480536148,
          2.0882384698975205,
          1.0566989847674202,
          -0.6625334904494141,
          1.400545479810787,
          -0.3186869954060473,
          -1.006379985492781,
          -1.006379985492781,
          0.7128524897240532,
          0.7128524897240532,
          0.02515949963731955,
          2.7759314599842546,
          0.7128524897240532,
          1.0566989847674202,
          0.02515949963731955,
          0.02515949963731955,
          0.7128524897240532,
          -0.3186869954060473,
          -0.6625334904494141,
          -1.006379985492781,
          -0.3186869954060473,
          -0.6625334904494141,
          -0.6625334904494141,
          1.0566989847674202,
          0.7128524897240532,
          -0.3186869954060473,
          0.02515949963731955,
          -0.6625334904494141,
          -1.350226480536148,
          -1.350226480536148,
          0.7128524897240532,
          -1.006379985492781
         ],
         "yaxis": "y41"
        },
        {
         "hovertemplate": "idArticulo=14606<br>Periodo=%{x}<br>value=%{y}<extra></extra>",
         "legendgroup": "14606",
         "line": {
          "color": "#EF553B",
          "dash": "solid"
         },
         "marker": {
          "symbol": "circle"
         },
         "mode": "lines",
         "name": "14606",
         "showlegend": true,
         "type": "scattergl",
         "x": [
          "2018-01-01",
          "2018-02-01",
          "2018-03-01",
          "2018-04-01",
          "2018-05-01",
          "2018-06-01",
          "2018-07-01",
          "2018-08-01",
          "2018-09-01",
          "2018-10-01",
          "2018-11-01",
          "2018-12-01",
          "2019-01-01",
          "2019-02-01",
          "2019-03-01",
          "2019-04-01",
          "2019-05-01",
          "2019-06-01",
          "2019-07-01",
          "2019-08-01",
          "2019-09-01",
          "2019-10-01",
          "2019-11-01",
          "2019-12-01",
          "2020-01-01",
          "2020-02-01",
          "2020-03-01",
          "2020-04-01",
          "2020-05-01",
          "2020-06-01",
          "2020-07-01",
          "2020-08-01",
          "2020-09-01",
          "2020-10-01",
          "2020-11-01",
          "2020-12-01",
          "2021-01-01",
          "2021-02-01",
          "2021-03-01",
          "2021-04-01",
          "2021-05-01"
         ],
         "xaxis": "x42",
         "y": [
          -0.21374104816417175,
          0.626583346673051,
          2.1871857942278936,
          -0.9340191008817913,
          -0.8139727587621881,
          0.5065370045534479,
          -0.45383373240337826,
          0.5065370045534479,
          -1.174111785120998,
          -0.9340191008817913,
          -0.3938105613435766,
          0.08637480713483642,
          -0.21374104816417175,
          0.5065370045534479,
          1.8870699389288854,
          -0.9340191008817913,
          -0.8739959298219897,
          0.2664443203142413,
          -0.45383373240337826,
          0.38649066243384456,
          1.5869540836298772,
          -0.9340191008817913,
          -0.6939264166425848,
          3.8078114128425375,
          -0.5138569034631799,
          -0.6939264166425848,
          -0.45383373240337826,
          -0.45383373240337826,
          -0.9340191008817913,
          -0.45383373240337826,
          0.2664443203142413,
          -0.45383373240337826,
          0.7466296887926543,
          0.026351636075034778,
          1.286838228330869,
          -0.45383373240337826,
          -0.09369470604456849,
          0.6866065177328528,
          -0.9340191008817913,
          -0.6939264166425848,
          -0.21374104816417175
         ],
         "yaxis": "y42"
        },
        {
         "hovertemplate": "idArticulo=14708<br>Periodo=%{x}<br>value=%{y}<extra></extra>",
         "legendgroup": "14708",
         "line": {
          "color": "#00cc96",
          "dash": "solid"
         },
         "marker": {
          "symbol": "circle"
         },
         "mode": "lines",
         "name": "14708",
         "showlegend": true,
         "type": "scattergl",
         "x": [
          "2018-01-01",
          "2018-02-01",
          "2018-03-01",
          "2018-04-01",
          "2018-05-01",
          "2018-06-01",
          "2018-07-01",
          "2018-08-01",
          "2018-09-01",
          "2018-10-01",
          "2018-11-01",
          "2018-12-01",
          "2019-01-01",
          "2019-02-01",
          "2019-03-01",
          "2019-04-01",
          "2019-05-01",
          "2019-06-01",
          "2019-07-01",
          "2019-08-01",
          "2019-09-01",
          "2019-10-01",
          "2019-11-01",
          "2019-12-01",
          "2020-01-01",
          "2020-02-01",
          "2020-03-01",
          "2020-04-01",
          "2020-05-01",
          "2020-06-01",
          "2020-07-01",
          "2020-08-01",
          "2020-09-01",
          "2020-10-01",
          "2020-11-01",
          "2020-12-01",
          "2021-01-01",
          "2021-02-01",
          "2021-03-01",
          "2021-04-01",
          "2021-05-01"
         ],
         "xaxis": "x37",
         "y": [
          0.19226678008209266,
          1.082275907236296,
          0.44655510212615074,
          0.0651226190600636,
          0.955131746214267,
          -0.4434540250280526,
          2.2265733564345576,
          -0.062021541961965444,
          -1.460607313204285,
          -0.8248865080941398,
          0.0651226190600636,
          0.0651226190600636,
          0.44655510212615074,
          0.955131746214267,
          0.3194109411041217,
          -0.062021541961965444,
          1.082275907236296,
          -0.4434540250280526,
          2.6080058395006445,
          -0.062021541961965444,
          -0.5705981860500816,
          1.2094200682583252,
          -0.8248865080941398,
          -0.4434540250280526,
          1.2094200682583252,
          -0.9520306691161688,
          -0.9520306691161688,
          -1.460607313204285,
          -1.206318991160227,
          -1.0791748301381978,
          -1.333463152182256,
          1.5908525513244123,
          0.3194109411041217,
          0.0651226190600636,
          -0.8248865080941398,
          1.082275907236296,
          0.19226678008209266,
          -0.1891657029839945,
          -0.062021541961965444,
          -1.460607313204285,
          -1.460607313204285
         ],
         "yaxis": "y37"
        },
        {
         "hovertemplate": "idArticulo=14709<br>Periodo=%{x}<br>value=%{y}<extra></extra>",
         "legendgroup": "14709",
         "line": {
          "color": "#ab63fa",
          "dash": "solid"
         },
         "marker": {
          "symbol": "circle"
         },
         "mode": "lines",
         "name": "14709",
         "showlegend": true,
         "type": "scattergl",
         "x": [
          "2018-01-01",
          "2018-02-01",
          "2018-03-01",
          "2018-04-01",
          "2018-05-01",
          "2018-06-01",
          "2018-07-01",
          "2018-08-01",
          "2018-09-01",
          "2018-10-01",
          "2018-11-01",
          "2018-12-01",
          "2019-01-01",
          "2019-02-01",
          "2019-03-01",
          "2019-04-01",
          "2019-05-01",
          "2019-06-01",
          "2019-07-01",
          "2019-08-01",
          "2019-09-01",
          "2019-10-01",
          "2019-11-01",
          "2019-12-01",
          "2020-01-01",
          "2020-02-01",
          "2020-03-01",
          "2020-04-01",
          "2020-05-01",
          "2020-06-01",
          "2020-07-01",
          "2020-08-01",
          "2020-09-01",
          "2020-10-01",
          "2020-11-01",
          "2020-12-01",
          "2021-01-01",
          "2021-02-01",
          "2021-03-01",
          "2021-04-01",
          "2021-05-01"
         ],
         "xaxis": "x38",
         "y": [
          -0.7080900083964807,
          -0.09903356760789948,
          -0.8095994151945777,
          -0.6065806015983839,
          -0.3020523812040932,
          0.307004059584488,
          -0.4035617880021901,
          0.307004059584488,
          -0.9111088219926745,
          -0.9111088219926745,
          0.5100228731806818,
          -0.3020523812040932,
          -0.7080900083964807,
          -0.09903356760789948,
          -0.8095994151945777,
          -0.6065806015983839,
          -0.3020523812040932,
          0.4085134663825849,
          -0.4035617880021901,
          0.4085134663825849,
          2.6417204159407164,
          -0.4035617880021901,
          -0.4035617880021901,
          1.119079313969263,
          2.946248636335007,
          -0.8095994151945777,
          -0.505071194800287,
          -0.7080900083964807,
          -0.7080900083964807,
          -0.7080900083964807,
          0.10398524598829427,
          1.6266263479597474,
          -0.09903356760789948,
          0.20549465278639115,
          -0.8095994151945777,
          -0.7080900083964807,
          -0.20054297440599636,
          3.3522862635273944,
          -0.20054297440599636,
          0.10398524598829427,
          0.20549465278639115
         ],
         "yaxis": "y38"
        },
        {
         "hovertemplate": "idArticulo=1627<br>Periodo=%{x}<br>value=%{y}<extra></extra>",
         "legendgroup": "1627",
         "line": {
          "color": "#FFA15A",
          "dash": "solid"
         },
         "marker": {
          "symbol": "circle"
         },
         "mode": "lines",
         "name": "1627",
         "showlegend": true,
         "type": "scattergl",
         "x": [
          "2018-01-01",
          "2018-02-01",
          "2018-03-01",
          "2018-04-01",
          "2018-05-01",
          "2018-06-01",
          "2018-07-01",
          "2018-08-01",
          "2018-09-01",
          "2018-10-01",
          "2018-11-01",
          "2018-12-01",
          "2019-01-01",
          "2019-02-01",
          "2019-03-01",
          "2019-04-01",
          "2019-05-01",
          "2019-06-01",
          "2019-07-01",
          "2019-08-01",
          "2019-09-01",
          "2019-10-01",
          "2019-11-01",
          "2019-12-01",
          "2020-01-01",
          "2020-02-01",
          "2020-03-01",
          "2020-04-01",
          "2020-05-01",
          "2020-06-01",
          "2020-07-01",
          "2020-08-01",
          "2020-09-01",
          "2020-10-01",
          "2020-11-01",
          "2020-12-01",
          "2021-01-01",
          "2021-02-01",
          "2021-03-01",
          "2021-04-01",
          "2021-05-01"
         ],
         "xaxis": "x39",
         "y": [
          -0.4947603296017721,
          -0.3477663186331296,
          0.6811917581473675,
          1.122173791053295,
          -0.20077230766448717,
          1.2691678020219372,
          -0.4947603296017721,
          -1.0827363734763418,
          -1.6707124173509116,
          0.09321571427279773,
          0.38720373621008264,
          0.6811917581473675,
          -0.4947603296017721,
          -0.3477663186331296,
          0.534197747178725,
          0.9751797800846524,
          -0.20077230766448717,
          1.122173791053295,
          -0.4947603296017721,
          -1.0827363734763418,
          -0.788748351539057,
          -0.20077230766448717,
          -1.2297303844449843,
          -0.3477663186331296,
          1.122173791053295,
          1.857143845896507,
          -0.788748351539057,
          -1.6707124173509116,
          -1.2297303844449843,
          -0.788748351539057,
          0.38720373621008264,
          0.38720373621008264,
          -0.20077230766448717,
          -0.9357423625076994,
          2.886101922677004,
          0.38720373621008264,
          -0.20077230766448717,
          0.8281857691160099,
          -0.4947603296017721,
          2.0041378568651496,
          -0.9357423625076994
         ],
         "yaxis": "y39"
        },
        {
         "hovertemplate": "idArticulo=16404<br>Periodo=%{x}<br>value=%{y}<extra></extra>",
         "legendgroup": "16404",
         "line": {
          "color": "#19d3f3",
          "dash": "solid"
         },
         "marker": {
          "symbol": "circle"
         },
         "mode": "lines",
         "name": "16404",
         "showlegend": true,
         "type": "scattergl",
         "x": [
          "2018-01-01",
          "2018-02-01",
          "2018-03-01",
          "2018-04-01",
          "2018-05-01",
          "2018-06-01",
          "2018-07-01",
          "2018-08-01",
          "2018-09-01",
          "2018-10-01",
          "2018-11-01",
          "2018-12-01",
          "2019-01-01",
          "2019-02-01",
          "2019-03-01",
          "2019-04-01",
          "2019-05-01",
          "2019-06-01",
          "2019-07-01",
          "2019-08-01",
          "2019-09-01",
          "2019-10-01",
          "2019-11-01",
          "2019-12-01",
          "2020-01-01",
          "2020-02-01",
          "2020-03-01",
          "2020-04-01",
          "2020-05-01",
          "2020-06-01",
          "2020-07-01",
          "2020-08-01",
          "2020-09-01",
          "2020-10-01",
          "2020-11-01",
          "2020-12-01",
          "2021-01-01",
          "2021-02-01",
          "2021-03-01",
          "2021-04-01",
          "2021-05-01"
         ],
         "xaxis": "x34",
         "y": [
          -0.4339081848988392,
          -0.1868215796092224,
          0.30735163097001117,
          1.0486114468388616,
          -0.680994790188456,
          -0.9280813954780728,
          1.5427846574180952,
          -0.4339081848988392,
          -1.4222546060573065,
          -0.9280813954780728,
          1.5427846574180952,
          -0.1868215796092224,
          -0.4339081848988392,
          -0.1868215796092224,
          0.30735163097001117,
          1.0486114468388616,
          -0.680994790188456,
          -0.9280813954780728,
          1.5427846574180952,
          -0.4339081848988392,
          -0.4339081848988392,
          -0.4339081848988392,
          2.2840444732869454,
          -0.4339081848988392,
          1.2956980521284784,
          0.06026502568039439,
          0.8015248415492447,
          -1.4222546060573065,
          -0.680994790188456,
          -0.680994790188456,
          -0.4339081848988392,
          -0.4339081848988392,
          -0.9280813954780728,
          2.2840444732869454,
          -0.9280813954780728,
          -0.1868215796092224,
          -0.1868215796092224,
          -0.9280813954780728,
          0.30735163097001117,
          2.2840444732869454,
          -0.680994790188456
         ],
         "yaxis": "y34"
        },
        {
         "hovertemplate": "idArticulo=17413<br>Periodo=%{x}<br>value=%{y}<extra></extra>",
         "legendgroup": "17413",
         "line": {
          "color": "#FF6692",
          "dash": "solid"
         },
         "marker": {
          "symbol": "circle"
         },
         "mode": "lines",
         "name": "17413",
         "showlegend": true,
         "type": "scattergl",
         "x": [
          "2018-01-01",
          "2018-02-01",
          "2018-03-01",
          "2018-04-01",
          "2018-05-01",
          "2018-06-01",
          "2018-07-01",
          "2018-08-01",
          "2018-09-01",
          "2018-10-01",
          "2018-11-01",
          "2018-12-01",
          "2019-01-01",
          "2019-02-01",
          "2019-03-01",
          "2019-04-01",
          "2019-05-01",
          "2019-06-01",
          "2019-07-01",
          "2019-08-01",
          "2019-09-01",
          "2019-10-01",
          "2019-11-01",
          "2019-12-01",
          "2020-01-01",
          "2020-02-01",
          "2020-03-01",
          "2020-04-01",
          "2020-05-01",
          "2020-06-01",
          "2020-07-01",
          "2020-08-01",
          "2020-09-01",
          "2020-10-01",
          "2020-11-01",
          "2020-12-01",
          "2021-01-01",
          "2021-02-01",
          "2021-03-01",
          "2021-04-01",
          "2021-05-01"
         ],
         "xaxis": "x35",
         "y": [
          -0.2906347368879131,
          0.622788721902671,
          2.6987511282449073,
          0.2906347368879131,
          -0.9549427069174288,
          0.41519248126844727,
          -0.37367323314160256,
          0.2906347368879131,
          -1.370135188185876,
          2.1174816544690813,
          -0.7058272181563604,
          0.7888657144100498,
          -0.33215398501475785,
          0.45671172939529203,
          2.4081163913569945,
          0.2906347368879131,
          -1.0379812031711182,
          0.45671172939529203,
          -0.37367323314160256,
          0.2906347368879131,
          -1.2040581956784973,
          0.8303849625368945,
          0.45671172939529203,
          -1.0379812031711182,
          -0.20759624063422363,
          -0.24911548876106837,
          -1.2040581956784973,
          -1.370135188185876,
          -1.370135188185876,
          -0.04151924812684473,
          1.7853276694543234,
          -0.8719042106637394,
          -1.0379812031711182,
          0.45671172939529203,
          0.12455774438053419,
          0.2906347368879131,
          0.45671172939529203,
          0.7888657144100498,
          -0.7058272181563604,
          -0.7058272181563604,
          -0.8719042106637394
         ],
         "yaxis": "y35"
        },
        {
         "hovertemplate": "idArticulo=17414<br>Periodo=%{x}<br>value=%{y}<extra></extra>",
         "legendgroup": "17414",
         "line": {
          "color": "#B6E880",
          "dash": "solid"
         },
         "marker": {
          "symbol": "circle"
         },
         "mode": "lines",
         "name": "17414",
         "showlegend": true,
         "type": "scattergl",
         "x": [
          "2018-01-01",
          "2018-02-01",
          "2018-03-01",
          "2018-04-01",
          "2018-05-01",
          "2018-06-01",
          "2018-07-01",
          "2018-08-01",
          "2018-09-01",
          "2018-10-01",
          "2018-11-01",
          "2018-12-01",
          "2019-01-01",
          "2019-02-01",
          "2019-03-01",
          "2019-04-01",
          "2019-05-01",
          "2019-06-01",
          "2019-07-01",
          "2019-08-01",
          "2019-09-01",
          "2019-10-01",
          "2019-11-01",
          "2019-12-01",
          "2020-01-01",
          "2020-02-01",
          "2020-03-01",
          "2020-04-01",
          "2020-05-01",
          "2020-06-01",
          "2020-07-01",
          "2020-08-01",
          "2020-09-01",
          "2020-10-01",
          "2020-11-01",
          "2020-12-01",
          "2021-01-01",
          "2021-02-01",
          "2021-03-01",
          "2021-04-01",
          "2021-05-01"
         ],
         "xaxis": "x36",
         "y": [
          1.1677620840617913,
          1.2548926490236356,
          -0.4441533677323283,
          0.47071756436703693,
          0.7321092592525699,
          -0.052065825404028925,
          1.6034149088710128,
          -0.00850054292310677,
          -1.5768507122363042,
          -1.0540673224652384,
          -0.5312839326941726,
          -0.5312839326941726,
          1.0370662366190249,
          1.0370662366190249,
          -0.48771865021325045,
          0.34002171692427047,
          0.6885439767716477,
          -0.18276167284679537,
          1.6034149088710128,
          -0.18276167284679537,
          1.0370662366190249,
          1.1241968015808692,
          2.0826330161611564,
          -0.2698922378086397,
          -0.5312839326941726,
          0.16576058700058185,
          0.16576058700058185,
          -1.5768507122363042,
          -1.4025895823126158,
          -0.5312839326941726,
          0.8628051066953363,
          -1.4025895823126158,
          -1.228328452388927,
          -0.00850054292310677,
          -1.228328452388927,
          -0.18276167284679537,
          -0.8798061925415498,
          0.6885439767716477,
          -1.5768507122363042,
          1.2113273665427136,
          -1.4025895823126158
         ],
         "yaxis": "y36"
        },
        {
         "hovertemplate": "idArticulo=17750<br>Periodo=%{x}<br>value=%{y}<extra></extra>",
         "legendgroup": "17750",
         "line": {
          "color": "#FF97FF",
          "dash": "solid"
         },
         "marker": {
          "symbol": "circle"
         },
         "mode": "lines",
         "name": "17750",
         "showlegend": true,
         "type": "scattergl",
         "x": [
          "2018-01-01",
          "2018-02-01",
          "2018-03-01",
          "2018-04-01",
          "2018-05-01",
          "2018-06-01",
          "2018-07-01",
          "2018-08-01",
          "2018-09-01",
          "2018-10-01",
          "2018-11-01",
          "2018-12-01",
          "2019-01-01",
          "2019-02-01",
          "2019-03-01",
          "2019-04-01",
          "2019-05-01",
          "2019-06-01",
          "2019-07-01",
          "2019-08-01",
          "2019-09-01",
          "2019-10-01",
          "2019-11-01",
          "2019-12-01",
          "2020-01-01",
          "2020-02-01",
          "2020-03-01",
          "2020-04-01",
          "2020-05-01",
          "2020-06-01",
          "2020-07-01",
          "2020-08-01",
          "2020-09-01",
          "2020-10-01",
          "2020-11-01",
          "2020-12-01",
          "2021-01-01",
          "2021-02-01",
          "2021-03-01",
          "2021-04-01",
          "2021-05-01"
         ],
         "xaxis": "x31",
         "y": [
          -0.2428971821988075,
          0.7785166096115621,
          -0.2428971821988075,
          -0.14075580301777052,
          0.8295872992020806,
          -0.8557454572850293,
          0.880657988792599,
          -0.6003920093324369,
          -1.2643109740091771,
          -0.8557454572850293,
          -1.0089575260565846,
          -0.6514626989229553,
          -0.34503856137984446,
          1.084940747154673,
          -0.3961092509703629,
          -0.2428971821988075,
          0.880657988792599,
          -0.8557454572850293,
          0.8295872992020806,
          -0.6514626989229553,
          -0.6514626989229553,
          0.16566833452534035,
          -0.4471799405608814,
          1.7488597118314133,
          -0.19182649260828902,
          0.42102178247793276,
          -1.2132402844186585,
          -1.2643109740091771,
          -0.6514626989229553,
          1.5956476430598578,
          0.982799367973636,
          -0.34503856137984446,
          -0.19182649260828902,
          -0.7536040781039923,
          1.289223505516747,
          1.4935062638788208,
          -0.8557454572850293,
          -0.8046747676945107,
          -0.2428971821988075,
          3.5363338474995603,
          -0.5493213197419183
         ],
         "yaxis": "y31"
        },
        {
         "hovertemplate": "idArticulo=17779<br>Periodo=%{x}<br>value=%{y}<extra></extra>",
         "legendgroup": "17779",
         "line": {
          "color": "#FECB52",
          "dash": "solid"
         },
         "marker": {
          "symbol": "circle"
         },
         "mode": "lines",
         "name": "17779",
         "showlegend": true,
         "type": "scattergl",
         "x": [
          "2018-01-01",
          "2018-02-01",
          "2018-03-01",
          "2018-04-01",
          "2018-05-01",
          "2018-06-01",
          "2018-07-01",
          "2018-08-01",
          "2018-09-01",
          "2018-10-01",
          "2018-11-01",
          "2018-12-01",
          "2019-01-01",
          "2019-02-01",
          "2019-03-01",
          "2019-04-01",
          "2019-05-01",
          "2019-06-01",
          "2019-07-01",
          "2019-08-01",
          "2019-09-01",
          "2019-10-01",
          "2019-11-01",
          "2019-12-01",
          "2020-01-01",
          "2020-02-01",
          "2020-03-01",
          "2020-04-01",
          "2020-05-01",
          "2020-06-01",
          "2020-07-01",
          "2020-08-01",
          "2020-09-01",
          "2020-10-01",
          "2020-11-01",
          "2020-12-01",
          "2021-01-01",
          "2021-02-01",
          "2021-03-01",
          "2021-04-01",
          "2021-05-01"
         ],
         "xaxis": "x32",
         "y": [
          -0.4744001463849081,
          1.265298924155642,
          0.0959929914972395,
          -0.702557401537767,
          -0.6740377446436597,
          0.0959929914972395,
          2.6342424550727963,
          -0.8451556860083039,
          -1.1303522549493776,
          -0.9307146566906261,
          1.2938185810497493,
          -0.4744001463849081,
          -0.4744001463849081,
          1.2938185810497493,
          0.010434020814917368,
          -0.702557401537767,
          -0.6740377446436597,
          0.010434020814917368,
          2.406085199919937,
          -0.8451556860083039,
          -0.6740377446436597,
          0.6949057862734944,
          -0.5599591170672302,
          2.548683484390474,
          -0.4744001463849081,
          -0.5314394601731228,
          -0.9877539704788408,
          -1.073312941161163,
          -0.9021949997965187,
          0.40970921733242066,
          0.8089844138499239,
          -0.5884787739613375,
          -0.5029198032790154,
          1.3793775517320714,
          -0.4744001463849081,
          -0.5884787739613375,
          0.7234254431676018,
          -0.7595967153259818,
          -0.3888411757025859,
          0.894543384532246,
          -0.1321642636556195
         ],
         "yaxis": "y32"
        },
        {
         "hovertemplate": "idArticulo=17804<br>Periodo=%{x}<br>value=%{y}<extra></extra>",
         "legendgroup": "17804",
         "line": {
          "color": "#636efa",
          "dash": "solid"
         },
         "marker": {
          "symbol": "circle"
         },
         "mode": "lines",
         "name": "17804",
         "showlegend": true,
         "type": "scattergl",
         "x": [
          "2018-01-01",
          "2018-02-01",
          "2018-03-01",
          "2018-04-01",
          "2018-05-01",
          "2018-06-01",
          "2018-07-01",
          "2018-08-01",
          "2018-09-01",
          "2018-10-01",
          "2018-11-01",
          "2018-12-01",
          "2019-01-01",
          "2019-02-01",
          "2019-03-01",
          "2019-04-01",
          "2019-05-01",
          "2019-06-01",
          "2019-07-01",
          "2019-08-01",
          "2019-09-01",
          "2019-10-01",
          "2019-11-01",
          "2019-12-01",
          "2020-01-01",
          "2020-02-01",
          "2020-03-01",
          "2020-04-01",
          "2020-05-01",
          "2020-06-01",
          "2020-07-01",
          "2020-08-01",
          "2020-09-01",
          "2020-10-01",
          "2020-11-01",
          "2020-12-01",
          "2021-01-01",
          "2021-02-01",
          "2021-03-01",
          "2021-04-01",
          "2021-05-01"
         ],
         "xaxis": "x33",
         "y": [
          -0.6012661470713188,
          0.9746551699101286,
          1.9314645409345785,
          0.2429774155973137,
          -0.5449832428934099,
          -0.0947200094701393,
          0.2429774155973137,
          0.35554322395313137,
          -1.3892268055620425,
          2.156596157646214,
          -0.7138319554271365,
          1.537484211689217,
          -0.7138319554271365,
          1.0872209782659463,
          1.9877474451124875,
          0.18669451141940488,
          -0.4887003387155011,
          -0.038437105292230454,
          0.35554322395313137,
          0.4118261281310402,
          0.8620893615543109,
          -0.4887003387155011,
          1.537484211689217,
          0.18669451141940488,
          -0.7701148596050453,
          -1.1640951888504072,
          2.2128790618241228,
          -1.3892268055620425,
          -1.1640951888504072,
          0.4118261281310402,
          -0.2635687220038658,
          -0.7138319554271365,
          -0.4887003387155011,
          -1.1640951888504072,
          -0.9389635721387718,
          -0.2635687220038658,
          -0.4324174345375923,
          -0.4887003387155011,
          -0.2635687220038658,
          -0.7138319554271365,
          -1.3892268055620425
         ],
         "yaxis": "y33"
        },
        {
         "hovertemplate": "idArticulo=19571<br>Periodo=%{x}<br>value=%{y}<extra></extra>",
         "legendgroup": "19571",
         "line": {
          "color": "#EF553B",
          "dash": "solid"
         },
         "marker": {
          "symbol": "circle"
         },
         "mode": "lines",
         "name": "19571",
         "showlegend": true,
         "type": "scattergl",
         "x": [
          "2018-01-01",
          "2018-02-01",
          "2018-03-01",
          "2018-04-01",
          "2018-05-01",
          "2018-06-01",
          "2018-07-01",
          "2018-08-01",
          "2018-09-01",
          "2018-10-01",
          "2018-11-01",
          "2018-12-01",
          "2019-01-01",
          "2019-02-01",
          "2019-03-01",
          "2019-04-01",
          "2019-05-01",
          "2019-06-01",
          "2019-07-01",
          "2019-08-01",
          "2019-09-01",
          "2019-10-01",
          "2019-11-01",
          "2019-12-01",
          "2020-01-01",
          "2020-02-01",
          "2020-03-01",
          "2020-04-01",
          "2020-05-01",
          "2020-06-01",
          "2020-07-01",
          "2020-08-01",
          "2020-09-01",
          "2020-10-01",
          "2020-11-01",
          "2020-12-01",
          "2021-01-01",
          "2021-02-01",
          "2021-03-01",
          "2021-04-01",
          "2021-05-01"
         ],
         "xaxis": "x28",
         "y": [
          -0.6702470493822588,
          -0.09374084606744884,
          3.7496338426979503,
          -0.2859095805057188,
          -0.6702470493822588,
          -0.2859095805057188,
          -0.09374084606744884,
          -0.2859095805057188,
          -0.8624157838205286,
          -0.4780783149439888,
          0.482765357247361,
          0.2905966228090911,
          -0.6702470493822588,
          -0.09374084606744884,
          3.7496338426979503,
          -0.2859095805057188,
          -0.6702470493822588,
          -0.2859095805057188,
          -0.09374084606744884,
          -0.2859095805057188,
          -0.6702470493822588,
          -0.4780783149439888,
          -0.4780783149439888,
          -0.8624157838205286,
          0.674934091685631,
          -0.09374084606744884,
          -0.2859095805057188,
          -0.8624157838205286,
          -0.8624157838205286,
          -0.2859095805057188,
          1.2514402950004408,
          -0.2859095805057188,
          0.09842788837082111,
          0.09842788837082111,
          -0.2859095805057188,
          1.2514402950004408,
          1.2514402950004408,
          -0.2859095805057188,
          -0.2859095805057188,
          -0.09374084606744884,
          -0.6702470493822588
         ],
         "yaxis": "y28"
        },
        {
         "hovertemplate": "idArticulo=19574<br>Periodo=%{x}<br>value=%{y}<extra></extra>",
         "legendgroup": "19574",
         "line": {
          "color": "#00cc96",
          "dash": "solid"
         },
         "marker": {
          "symbol": "circle"
         },
         "mode": "lines",
         "name": "19574",
         "showlegend": true,
         "type": "scattergl",
         "x": [
          "2018-01-01",
          "2018-02-01",
          "2018-03-01",
          "2018-04-01",
          "2018-05-01",
          "2018-06-01",
          "2018-07-01",
          "2018-08-01",
          "2018-09-01",
          "2018-10-01",
          "2018-11-01",
          "2018-12-01",
          "2019-01-01",
          "2019-02-01",
          "2019-03-01",
          "2019-04-01",
          "2019-05-01",
          "2019-06-01",
          "2019-07-01",
          "2019-08-01",
          "2019-09-01",
          "2019-10-01",
          "2019-11-01",
          "2019-12-01",
          "2020-01-01",
          "2020-02-01",
          "2020-03-01",
          "2020-04-01",
          "2020-05-01",
          "2020-06-01",
          "2020-07-01",
          "2020-08-01",
          "2020-09-01",
          "2020-10-01",
          "2020-11-01",
          "2020-12-01",
          "2021-01-01",
          "2021-02-01",
          "2021-03-01",
          "2021-04-01",
          "2021-05-01"
         ],
         "xaxis": "x29",
         "y": [
          0.7127785599433705,
          1.2539622813818554,
          1.7951460028203403,
          -0.3695888829335995,
          0.17159483850488547,
          -0.3695888829335995,
          -0.7303780305592561,
          0.7127785599433705,
          -1.6323508996233977,
          -0.5499834567464278,
          -0.18919430912077118,
          -0.18919430912077118,
          0.532383986130542,
          0.8931731337561988,
          1.9755405766331686,
          -0.3695888829335995,
          0.17159483850488547,
          -0.3695888829335995,
          -0.7303780305592561,
          0.8931731337561988,
          -0.5499834567464278,
          -0.9107726043720844,
          0.8931731337561988,
          -0.008799735307942853,
          1.4343568551946837,
          1.073567707569027,
          -1.4519563258105694,
          -1.6323508996233977,
          -1.0911671781849128,
          -0.9107726043720844,
          0.17159483850488547,
          -1.0911671781849128,
          -0.9107726043720844,
          -0.9107726043720844,
          0.7127785599433705,
          -0.3695888829335995,
          2.155935150445997,
          -0.5499834567464278,
          -0.7303780305592561,
          1.7951460028203403,
          -0.7303780305592561
         ],
         "yaxis": "y29"
        },
        {
         "hovertemplate": "idArticulo=20263<br>Periodo=%{x}<br>value=%{y}<extra></extra>",
         "legendgroup": "20263",
         "line": {
          "color": "#ab63fa",
          "dash": "solid"
         },
         "marker": {
          "symbol": "circle"
         },
         "mode": "lines",
         "name": "20263",
         "showlegend": true,
         "type": "scattergl",
         "x": [
          "2018-01-01",
          "2018-02-01",
          "2018-03-01",
          "2018-04-01",
          "2018-05-01",
          "2018-06-01",
          "2018-07-01",
          "2018-08-01",
          "2018-09-01",
          "2018-10-01",
          "2018-11-01",
          "2018-12-01",
          "2019-01-01",
          "2019-02-01",
          "2019-03-01",
          "2019-04-01",
          "2019-05-01",
          "2019-06-01",
          "2019-07-01",
          "2019-08-01",
          "2019-09-01",
          "2019-10-01",
          "2019-11-01",
          "2019-12-01",
          "2020-01-01",
          "2020-02-01",
          "2020-03-01",
          "2020-04-01",
          "2020-05-01",
          "2020-06-01",
          "2020-07-01",
          "2020-08-01",
          "2020-09-01",
          "2020-10-01",
          "2020-11-01",
          "2020-12-01",
          "2021-01-01",
          "2021-02-01",
          "2021-03-01",
          "2021-04-01",
          "2021-05-01"
         ],
         "xaxis": "x30",
         "y": [
          0.0014467372142510202,
          -0.8289804237658641,
          2.077514639664539,
          2.3147795428017144,
          -0.5323992948443944,
          -0.7103479721972762,
          -0.5323992948443944,
          0.4759765434886025,
          -1.0662453269030399,
          0.8318738981943661,
          0.35734409192001465,
          0.41666031770430856,
          -0.11718571435433685,
          -0.8289804237658641,
          2.0181984138802447,
          1.899565962311657,
          -0.5917155206286884,
          -0.5917155206286884,
          -0.5917155206286884,
          0.5946089950571903,
          1.069138801331542,
          1.780933510743069,
          -0.8289804237658641,
          -0.5917155206286884,
          -0.5917155206286884,
          -0.11718571435433685,
          -0.3544506174915126,
          -0.8289804237658641,
          -1.0662453269030399,
          -0.3544506174915126,
          1.780933510743069,
          -0.8289804237658641,
          0.0014467372142510202,
          -0.8289804237658641,
          -0.5917155206286884,
          -0.8289804237658641,
          -1.0662453269030399,
          -0.7103479721972762,
          -0.8289804237658641,
          -0.11718571435433685,
          1.3064037044687176
         ],
         "yaxis": "y30"
        },
        {
         "hovertemplate": "idArticulo=20301<br>Periodo=%{x}<br>value=%{y}<extra></extra>",
         "legendgroup": "20301",
         "line": {
          "color": "#FFA15A",
          "dash": "solid"
         },
         "marker": {
          "symbol": "circle"
         },
         "mode": "lines",
         "name": "20301",
         "showlegend": true,
         "type": "scattergl",
         "x": [
          "2018-01-01",
          "2018-02-01",
          "2018-03-01",
          "2018-04-01",
          "2018-05-01",
          "2018-06-01",
          "2018-07-01",
          "2018-08-01",
          "2018-09-01",
          "2018-10-01",
          "2018-11-01",
          "2018-12-01",
          "2019-01-01",
          "2019-02-01",
          "2019-03-01",
          "2019-04-01",
          "2019-05-01",
          "2019-06-01",
          "2019-07-01",
          "2019-08-01",
          "2019-09-01",
          "2019-10-01",
          "2019-11-01",
          "2019-12-01",
          "2020-01-01",
          "2020-02-01",
          "2020-03-01",
          "2020-04-01",
          "2020-05-01",
          "2020-06-01",
          "2020-07-01",
          "2020-08-01",
          "2020-09-01",
          "2020-10-01",
          "2020-11-01",
          "2020-12-01",
          "2021-01-01",
          "2021-02-01",
          "2021-03-01",
          "2021-04-01",
          "2021-05-01"
         ],
         "xaxis": "x25",
         "y": [
          -0.6696040361418016,
          0.16232825118589148,
          0.8278740810480459,
          0.4951011661169687,
          -1.1687634085384175,
          -0.6696040361418016,
          -1.0023769510728788,
          -0.8359904936073402,
          -1.6679227809350332,
          0.3287147086514301,
          0.9942605385135845,
          0.9942605385135845,
          -0.6696040361418016,
          0.16232825118589148,
          0.6614876235825073,
          0.4951011661169687,
          -1.1687634085384175,
          -0.6696040361418016,
          -1.0023769510728788,
          -0.8359904936073402,
          0.8278740810480459,
          0.4951011661169687,
          2.3253521982378933,
          -0.6696040361418016,
          1.659806368375739,
          0.6614876235825073,
          0.6614876235825073,
          -1.6679227809350332,
          -1.1687634085384175,
          -0.3368311212107244,
          -0.17044466374518574,
          -0.5032175786762629,
          0.3287147086514301,
          2.990898028100048,
          -0.5032175786762629,
          -0.004058206279647139,
          -0.3368311212107244,
          -1.0023769510728788,
          0.6614876235825073,
          0.16232825118589148,
          0.8278740810480459
         ],
         "yaxis": "y25"
        },
        {
         "hovertemplate": "idArticulo=20305<br>Periodo=%{x}<br>value=%{y}<extra></extra>",
         "legendgroup": "20305",
         "line": {
          "color": "#19d3f3",
          "dash": "solid"
         },
         "marker": {
          "symbol": "circle"
         },
         "mode": "lines",
         "name": "20305",
         "showlegend": true,
         "type": "scattergl",
         "x": [
          "2018-01-01",
          "2018-02-01",
          "2018-03-01",
          "2018-04-01",
          "2018-05-01",
          "2018-06-01",
          "2018-07-01",
          "2018-08-01",
          "2018-09-01",
          "2018-10-01",
          "2018-11-01",
          "2018-12-01",
          "2019-01-01",
          "2019-02-01",
          "2019-03-01",
          "2019-04-01",
          "2019-05-01",
          "2019-06-01",
          "2019-07-01",
          "2019-08-01",
          "2019-09-01",
          "2019-10-01",
          "2019-11-01",
          "2019-12-01",
          "2020-01-01",
          "2020-02-01",
          "2020-03-01",
          "2020-04-01",
          "2020-05-01",
          "2020-06-01",
          "2020-07-01",
          "2020-08-01",
          "2020-09-01",
          "2020-10-01",
          "2020-11-01",
          "2020-12-01",
          "2021-01-01",
          "2021-02-01",
          "2021-03-01",
          "2021-04-01",
          "2021-05-01"
         ],
         "xaxis": "x26",
         "y": [
          0.016897721589725,
          -0.4449733351960912,
          -0.21403780680318313,
          0.9406398351613574,
          1.6334464203400818,
          -1.3687154487677238,
          -0.9068443919819075,
          -0.9068443919819075,
          -1.3687154487677238,
          1.4025108919471736,
          1.6334464203400818,
          -0.6759088635889994,
          0.016897721589725,
          -0.4449733351960912,
          -0.21403780680318313,
          0.7097043067684493,
          1.86438194873299,
          -1.3687154487677238,
          -0.9068443919819075,
          -0.9068443919819075,
          -0.21403780680318313,
          -0.21403780680318313,
          1.86438194873299,
          1.6334464203400818,
          1.86438194873299,
          -0.21403780680318313,
          1.1715753635542656,
          -1.3687154487677238,
          -0.9068443919819075,
          -0.6759088635889994,
          0.016897721589725,
          -0.4449733351960912,
          0.24783324998263312,
          -0.21403780680318313,
          0.016897721589725,
          -0.9068443919819075,
          -0.4449733351960912,
          -1.1377799203748156,
          1.1715753635542656,
          -0.4449733351960912,
          0.7097043067684493
         ],
         "yaxis": "y26"
        },
        {
         "hovertemplate": "idArticulo=20309<br>Periodo=%{x}<br>value=%{y}<extra></extra>",
         "legendgroup": "20309",
         "line": {
          "color": "#FF6692",
          "dash": "solid"
         },
         "marker": {
          "symbol": "circle"
         },
         "mode": "lines",
         "name": "20309",
         "showlegend": true,
         "type": "scattergl",
         "x": [
          "2018-01-01",
          "2018-02-01",
          "2018-03-01",
          "2018-04-01",
          "2018-05-01",
          "2018-06-01",
          "2018-07-01",
          "2018-08-01",
          "2018-09-01",
          "2018-10-01",
          "2018-11-01",
          "2018-12-01",
          "2019-01-01",
          "2019-02-01",
          "2019-03-01",
          "2019-04-01",
          "2019-05-01",
          "2019-06-01",
          "2019-07-01",
          "2019-08-01",
          "2019-09-01",
          "2019-10-01",
          "2019-11-01",
          "2019-12-01",
          "2020-01-01",
          "2020-02-01",
          "2020-03-01",
          "2020-04-01",
          "2020-05-01",
          "2020-06-01",
          "2020-07-01",
          "2020-08-01",
          "2020-09-01",
          "2020-10-01",
          "2020-11-01",
          "2020-12-01",
          "2021-01-01",
          "2021-02-01",
          "2021-03-01",
          "2021-04-01",
          "2021-05-01"
         ],
         "xaxis": "x27",
         "y": [
          -0.5816805001786833,
          2.118195028952564,
          -0.8066701276062873,
          1.4432261466697525,
          1.2182365192421485,
          -0.5816805001786833,
          -0.5816805001786833,
          -0.1317012453234754,
          -1.0316597550338913,
          0.5432676369593366,
          -0.8066701276062873,
          -0.5816805001786833,
          -0.5816805001786833,
          2.118195028952564,
          -0.8066701276062873,
          1.4432261466697525,
          1.2182365192421485,
          -0.5816805001786833,
          -0.5816805001786833,
          -0.1317012453234754,
          -0.1317012453234754,
          -0.8066701276062873,
          0.09328838210412856,
          2.118195028952564,
          1.4432261466697525,
          -0.3566908727510794,
          -1.0316597550338913,
          -1.0316597550338913,
          -0.8066701276062873,
          -0.8066701276062873,
          -0.3566908727510794,
          -1.0316597550338913,
          1.2182365192421485,
          -0.1317012453234754,
          0.09328838210412856,
          -0.8066701276062873,
          -0.8066701276062873,
          -0.8066701276062873,
          1.4432261466697525,
          -0.8066701276062873,
          0.9932468918145445
         ],
         "yaxis": "y27"
        },
        {
         "hovertemplate": "idArticulo=20310<br>Periodo=%{x}<br>value=%{y}<extra></extra>",
         "legendgroup": "20310",
         "line": {
          "color": "#B6E880",
          "dash": "solid"
         },
         "marker": {
          "symbol": "circle"
         },
         "mode": "lines",
         "name": "20310",
         "showlegend": true,
         "type": "scattergl",
         "x": [
          "2018-01-01",
          "2018-02-01",
          "2018-03-01",
          "2018-04-01",
          "2018-05-01",
          "2018-06-01",
          "2018-07-01",
          "2018-08-01",
          "2018-09-01",
          "2018-10-01",
          "2018-11-01",
          "2018-12-01",
          "2019-01-01",
          "2019-02-01",
          "2019-03-01",
          "2019-04-01",
          "2019-05-01",
          "2019-06-01",
          "2019-07-01",
          "2019-08-01",
          "2019-09-01",
          "2019-10-01",
          "2019-11-01",
          "2019-12-01",
          "2020-01-01",
          "2020-02-01",
          "2020-03-01",
          "2020-04-01",
          "2020-05-01",
          "2020-06-01",
          "2020-07-01",
          "2020-08-01",
          "2020-09-01",
          "2020-10-01",
          "2020-11-01",
          "2020-12-01",
          "2021-01-01",
          "2021-02-01",
          "2021-03-01",
          "2021-04-01",
          "2021-05-01"
         ],
         "xaxis": "x22",
         "y": [
          -1.1257015878951442,
          -0.8960808659861844,
          0.02240202164965463,
          0.4816434654675742,
          0.9408849092854937,
          -0.6664601440772246,
          -0.20721870025930514,
          1.4001263531034132,
          -1.355322309804104,
          -0.6664601440772246,
          -1.1257015878951442,
          2.0889885188302926,
          -1.1257015878951442,
          -0.8960808659861844,
          0.02240202164965463,
          0.4816434654675742,
          1.1705056311944535,
          -0.6664601440772246,
          -0.20721870025930514,
          1.629747075012373,
          -1.355322309804104,
          1.4001263531034132,
          -0.20721870025930514,
          1.629747075012373,
          1.4001263531034132,
          -0.6664601440772246,
          1.4001263531034132,
          -1.355322309804104,
          -1.355322309804104,
          -0.6664601440772246,
          -0.4368394221682649,
          -0.4368394221682649,
          -0.20721870025930514,
          1.1705056311944535,
          -0.20721870025930514,
          0.711264187376534,
          -0.8960808659861844,
          1.1705056311944535,
          0.711264187376534,
          -0.6664601440772246,
          -0.4368394221682649
         ],
         "yaxis": "y22"
        },
        {
         "hovertemplate": "idArticulo=20697<br>Periodo=%{x}<br>value=%{y}<extra></extra>",
         "legendgroup": "20697",
         "line": {
          "color": "#FF97FF",
          "dash": "solid"
         },
         "marker": {
          "symbol": "circle"
         },
         "mode": "lines",
         "name": "20697",
         "showlegend": true,
         "type": "scattergl",
         "x": [
          "2018-01-01",
          "2018-02-01",
          "2018-03-01",
          "2018-04-01",
          "2018-05-01",
          "2018-06-01",
          "2018-07-01",
          "2018-08-01",
          "2018-09-01",
          "2018-10-01",
          "2018-11-01",
          "2018-12-01",
          "2019-01-01",
          "2019-02-01",
          "2019-03-01",
          "2019-04-01",
          "2019-05-01",
          "2019-06-01",
          "2019-07-01",
          "2019-08-01",
          "2019-09-01",
          "2019-10-01",
          "2019-11-01",
          "2019-12-01",
          "2020-01-01",
          "2020-02-01",
          "2020-03-01",
          "2020-04-01",
          "2020-05-01",
          "2020-06-01",
          "2020-07-01",
          "2020-08-01",
          "2020-09-01",
          "2020-10-01",
          "2020-11-01",
          "2020-12-01",
          "2021-01-01",
          "2021-02-01",
          "2021-03-01",
          "2021-04-01",
          "2021-05-01"
         ],
         "xaxis": "x23",
         "y": [
          -0.00848249957052046,
          -0.00848249957052046,
          -0.00848249957052046,
          0.6870824652121567,
          -0.7040474643531976,
          -0.00848249957052046,
          -0.7040474643531976,
          3.121559841951527,
          -1.0518299467445362,
          -1.0518299467445362,
          -0.7040474643531976,
          -0.356264981961859,
          -0.00848249957052046,
          -0.00848249957052046,
          -0.00848249957052046,
          0.6870824652121567,
          -0.7040474643531976,
          -0.00848249957052046,
          -0.7040474643531976,
          3.121559841951527,
          1.382647429994834,
          -0.356264981961859,
          -0.7040474643531976,
          -0.00848249957052046,
          2.078212394777511,
          -0.356264981961859,
          -0.00848249957052046,
          -1.0518299467445362,
          -0.7040474643531976,
          -0.00848249957052046,
          -0.00848249957052046,
          1.382647429994834,
          -0.00848249957052046,
          -0.7040474643531976,
          -0.7040474643531976,
          1.382647429994834,
          -1.0518299467445362,
          -0.356264981961859,
          -0.356264981961859,
          -0.7040474643531976,
          -0.7040474643531976
         ],
         "yaxis": "y23"
        },
        {
         "hovertemplate": "idArticulo=20769<br>Periodo=%{x}<br>value=%{y}<extra></extra>",
         "legendgroup": "20769",
         "line": {
          "color": "#FECB52",
          "dash": "solid"
         },
         "marker": {
          "symbol": "circle"
         },
         "mode": "lines",
         "name": "20769",
         "showlegend": true,
         "type": "scattergl",
         "x": [
          "2018-01-01",
          "2018-02-01",
          "2018-03-01",
          "2018-04-01",
          "2018-05-01",
          "2018-06-01",
          "2018-07-01",
          "2018-08-01",
          "2018-09-01",
          "2018-10-01",
          "2018-11-01",
          "2018-12-01",
          "2019-01-01",
          "2019-02-01",
          "2019-03-01",
          "2019-04-01",
          "2019-05-01",
          "2019-06-01",
          "2019-07-01",
          "2019-08-01",
          "2019-09-01",
          "2019-10-01",
          "2019-11-01",
          "2019-12-01",
          "2020-01-01",
          "2020-02-01",
          "2020-03-01",
          "2020-04-01",
          "2020-05-01",
          "2020-06-01",
          "2020-07-01",
          "2020-08-01",
          "2020-09-01",
          "2020-10-01",
          "2020-11-01",
          "2020-12-01",
          "2021-01-01",
          "2021-02-01",
          "2021-03-01",
          "2021-04-01",
          "2021-05-01"
         ],
         "xaxis": "x24",
         "y": [
          0.22722444877976813,
          -0.6197030421266405,
          2.4856977578635244,
          -0.337393878491171,
          -0.337393878491171,
          -0.337393878491171,
          -0.6197030421266405,
          -0.6197030421266405,
          -1.1843213693975796,
          1.638770266957116,
          -0.6197030421266405,
          -0.055084714855701426,
          0.22722444877976813,
          -0.6197030421266405,
          2.4856977578635244,
          -0.337393878491171,
          -0.337393878491171,
          -0.337393878491171,
          -0.6197030421266405,
          -0.6197030421266405,
          1.3564611033216463,
          -0.337393878491171,
          0.22722444877976813,
          2.768006921498994,
          0.22722444877976813,
          -0.055084714855701426,
          -0.6197030421266405,
          -1.1843213693975796,
          -0.90201220576211,
          -0.337393878491171,
          -0.055084714855701426,
          0.5095336124152376,
          -0.90201220576211,
          0.22722444877976813,
          -0.90201220576211,
          0.22722444877976813,
          0.22722444877976813,
          -0.90201220576211,
          2.203388594228055,
          -0.337393878491171,
          -0.90201220576211
         ],
         "yaxis": "y24"
        },
        {
         "hovertemplate": "idArticulo=21577<br>Periodo=%{x}<br>value=%{y}<extra></extra>",
         "legendgroup": "21577",
         "line": {
          "color": "#636efa",
          "dash": "solid"
         },
         "marker": {
          "symbol": "circle"
         },
         "mode": "lines",
         "name": "21577",
         "showlegend": true,
         "type": "scattergl",
         "x": [
          "2018-01-01",
          "2018-02-01",
          "2018-03-01",
          "2018-04-01",
          "2018-05-01",
          "2018-06-01",
          "2018-07-01",
          "2018-08-01",
          "2018-09-01",
          "2018-10-01",
          "2018-11-01",
          "2018-12-01",
          "2019-01-01",
          "2019-02-01",
          "2019-03-01",
          "2019-04-01",
          "2019-05-01",
          "2019-06-01",
          "2019-07-01",
          "2019-08-01",
          "2019-09-01",
          "2019-10-01",
          "2019-11-01",
          "2019-12-01",
          "2020-01-01",
          "2020-02-01",
          "2020-03-01",
          "2020-04-01",
          "2020-05-01",
          "2020-06-01",
          "2020-07-01",
          "2020-08-01",
          "2020-09-01",
          "2020-10-01",
          "2020-11-01",
          "2020-12-01",
          "2021-01-01",
          "2021-02-01",
          "2021-03-01",
          "2021-04-01",
          "2021-05-01"
         ],
         "xaxis": "x19",
         "y": [
          -0.7470136060413307,
          -0.8245517271747347,
          -0.28178487924090706,
          2.1994349970280194,
          0.26098196869292056,
          -0.5143992426411189,
          -0.5143992426411189,
          -0.5143992426411189,
          -1.1347042117083506,
          0.41605821095972845,
          -0.35932300037431103,
          -0.35932300037431103,
          -0.8245517271747347,
          -0.8245517271747347,
          -0.35932300037431103,
          2.0443587547612116,
          0.18344384755951662,
          -0.5143992426411189,
          -0.436861121507715,
          -0.5919373637745229,
          1.42405378569398,
          0.6486725743599403,
          -0.049170515840695234,
          -0.5143992426411189,
          1.8892825124944037,
          0.02836760529270872,
          -0.9020898483081387,
          -1.1347042117083506,
          -0.5143992426411189,
          -0.28178487924090706,
          1.8892825124944037,
          -0.12670863697409918,
          1.9668206336278076,
          -0.12670863697409918,
          2.587125602695039,
          -1.0571660905749465,
          -0.5919373637745229,
          -0.28178487924090706,
          -0.12670863697409918,
          -1.1347042117083506,
          0.10590572642611266
         ],
         "yaxis": "y19"
        },
        {
         "hovertemplate": "idArticulo=23900<br>Periodo=%{x}<br>value=%{y}<extra></extra>",
         "legendgroup": "23900",
         "line": {
          "color": "#EF553B",
          "dash": "solid"
         },
         "marker": {
          "symbol": "circle"
         },
         "mode": "lines",
         "name": "23900",
         "showlegend": true,
         "type": "scattergl",
         "x": [
          "2018-01-01",
          "2018-02-01",
          "2018-03-01",
          "2018-04-01",
          "2018-05-01",
          "2018-06-01",
          "2018-07-01",
          "2018-08-01",
          "2018-09-01",
          "2018-10-01",
          "2018-11-01",
          "2018-12-01",
          "2019-01-01",
          "2019-02-01",
          "2019-03-01",
          "2019-04-01",
          "2019-05-01",
          "2019-06-01",
          "2019-07-01",
          "2019-08-01",
          "2019-09-01",
          "2019-10-01",
          "2019-11-01",
          "2019-12-01",
          "2020-01-01",
          "2020-02-01",
          "2020-03-01",
          "2020-04-01",
          "2020-05-01",
          "2020-06-01",
          "2020-07-01",
          "2020-08-01",
          "2020-09-01",
          "2020-10-01",
          "2020-11-01",
          "2020-12-01",
          "2021-01-01",
          "2021-02-01",
          "2021-03-01",
          "2021-04-01",
          "2021-05-01"
         ],
         "xaxis": "x20",
         "y": [
          -0.31904295144159084,
          0.16589020383892605,
          2.6651610810538977,
          -0.6174633546911397,
          -0.8661470240657637,
          -0.1698327498168164,
          -0.07035928206696677,
          -0.49312152000382764,
          -1.3262118124088182,
          0.3151004054637005,
          -0.19470111675427879,
          1.9937151737424128,
          -0.3439113183790532,
          0.12858765343273246,
          2.441345778616736,
          -0.6298975381598708,
          -0.8785812075344949,
          -0.19470111675427879,
          -0.008188364723310766,
          -0.4682531530663652,
          -0.09522764900442918,
          0.09128510302653885,
          0.14102183690146367,
          2.4910825124916607,
          1.3098350829621968,
          -0.6050291712224085,
          -0.940752124878151,
          -1.077528143034194,
          -1.1770016107840438,
          0.4270080566822813,
          -0.6796342720347957,
          -0.5925949877536772,
          0.4021396897448189,
          -0.05792509859823557,
          -0.269306217566666,
          0.3151004054637005,
          1.9066758894612943,
          -1.127264876909119,
          -0.331477134910322,
          -0.4433847861289028,
          -0.8164102901908389
         ],
         "yaxis": "y20"
        },
        {
         "hovertemplate": "idArticulo=26158<br>Periodo=%{x}<br>value=%{y}<extra></extra>",
         "legendgroup": "26158",
         "line": {
          "color": "#00cc96",
          "dash": "solid"
         },
         "marker": {
          "symbol": "circle"
         },
         "mode": "lines",
         "name": "26158",
         "showlegend": true,
         "type": "scattergl",
         "x": [
          "2018-01-01",
          "2018-02-01",
          "2018-03-01",
          "2018-04-01",
          "2018-05-01",
          "2018-06-01",
          "2018-07-01",
          "2018-08-01",
          "2018-09-01",
          "2018-10-01",
          "2018-11-01",
          "2018-12-01",
          "2019-01-01",
          "2019-02-01",
          "2019-03-01",
          "2019-04-01",
          "2019-05-01",
          "2019-06-01",
          "2019-07-01",
          "2019-08-01",
          "2019-09-01",
          "2019-10-01",
          "2019-11-01",
          "2019-12-01",
          "2020-01-01",
          "2020-02-01",
          "2020-03-01",
          "2020-04-01",
          "2020-05-01",
          "2020-06-01",
          "2020-07-01",
          "2020-08-01",
          "2020-09-01",
          "2020-10-01",
          "2020-11-01",
          "2020-12-01",
          "2021-01-01",
          "2021-02-01",
          "2021-03-01",
          "2021-04-01",
          "2021-05-01"
         ],
         "xaxis": "x21",
         "y": [
          0.4213617114855185,
          -0.3408072666426986,
          0.5060471534997648,
          0.6754180375282575,
          1.0141598055852428,
          -0.5948635926854376,
          -0.5101781506711913,
          -0.42549270865694494,
          -1.1876616867851622,
          -1.1876616867851622,
          -0.9336053607424231,
          0.4213617114855185,
          0.4213617114855185,
          -0.3408072666426986,
          0.3366762694712721,
          0.5907325955140111,
          1.0988452475994892,
          -0.5101781506711913,
          -0.5101781506711913,
          -0.42549270865694494,
          1.0141598055852428,
          1.4375870156564745,
          -0.7642344767139303,
          -0.17143638261420593,
          0.5060471534997648,
          -0.7642344767139303,
          -0.3408072666426986,
          -1.1876616867851622,
          -0.3408072666426986,
          -0.8489199187281766,
          0.3366762694712721,
          0.5060471534997648,
          0.5907325955140111,
          -0.5101781506711913,
          -0.0867509405999596,
          4.655633812197836,
          0.16730538544277943,
          -0.7642344767139303,
          -0.679549034699684,
          -0.3408072666426986,
          -0.9336053607424231
         ],
         "yaxis": "y21"
        },
        {
         "hovertemplate": "idArticulo=26170<br>Periodo=%{x}<br>value=%{y}<extra></extra>",
         "legendgroup": "26170",
         "line": {
          "color": "#ab63fa",
          "dash": "solid"
         },
         "marker": {
          "symbol": "circle"
         },
         "mode": "lines",
         "name": "26170",
         "showlegend": true,
         "type": "scattergl",
         "x": [
          "2018-01-01",
          "2018-02-01",
          "2018-03-01",
          "2018-04-01",
          "2018-05-01",
          "2018-06-01",
          "2018-07-01",
          "2018-08-01",
          "2018-09-01",
          "2018-10-01",
          "2018-11-01",
          "2018-12-01",
          "2019-01-01",
          "2019-02-01",
          "2019-03-01",
          "2019-04-01",
          "2019-05-01",
          "2019-06-01",
          "2019-07-01",
          "2019-08-01",
          "2019-09-01",
          "2019-10-01",
          "2019-11-01",
          "2019-12-01",
          "2020-01-01",
          "2020-02-01",
          "2020-03-01",
          "2020-04-01",
          "2020-05-01",
          "2020-06-01",
          "2020-07-01",
          "2020-08-01",
          "2020-09-01",
          "2020-10-01",
          "2020-11-01",
          "2020-12-01",
          "2021-01-01",
          "2021-02-01",
          "2021-03-01",
          "2021-04-01",
          "2021-05-01"
         ],
         "xaxis": "x16",
         "y": [
          1.054000759467409,
          -0.3178732449187425,
          1.168323593166255,
          0.7110322583708711,
          0.5967094246720251,
          -0.20355041121989656,
          1.9685834290581767,
          -0.43219607861758846,
          -1.5754244156060482,
          -1.5754244156060482,
          -1.4611015819072022,
          0.13941808987664134,
          0.8253550920697171,
          -0.43219607861758846,
          1.396969260563947,
          0.7110322583708711,
          0.36806375727433327,
          -0.3178732449187425,
          1.7399377616604847,
          -0.3178732449187425,
          0.025095256177795375,
          2.3115519301547147,
          -0.7751645797141263,
          0.5967094246720251,
          0.025095256177795375,
          0.8253550920697171,
          -1.1181330808106642,
          -1.5754244156060482,
          -1.4611015819072022,
          0.7110322583708711,
          -0.5465189123164345,
          -0.6608417460152805,
          0.36806375727433327,
          0.025095256177795375,
          0.7110322583708711,
          -0.43219607861758846,
          -1.0038102471118182,
          0.4823865909731792,
          0.025095256177795375,
          -1.0038102471118182,
          -1.5754244156060482
         ],
         "yaxis": "y16"
        },
        {
         "hovertemplate": "idArticulo=3745<br>Periodo=%{x}<br>value=%{y}<extra></extra>",
         "legendgroup": "3745",
         "line": {
          "color": "#FFA15A",
          "dash": "solid"
         },
         "marker": {
          "symbol": "circle"
         },
         "mode": "lines",
         "name": "3745",
         "showlegend": true,
         "type": "scattergl",
         "x": [
          "2018-01-01",
          "2018-02-01",
          "2018-03-01",
          "2018-04-01",
          "2018-05-01",
          "2018-06-01",
          "2018-07-01",
          "2018-08-01",
          "2018-09-01",
          "2018-10-01",
          "2018-11-01",
          "2018-12-01",
          "2019-01-01",
          "2019-02-01",
          "2019-03-01",
          "2019-04-01",
          "2019-05-01",
          "2019-06-01",
          "2019-07-01",
          "2019-08-01",
          "2019-09-01",
          "2019-10-01",
          "2019-11-01",
          "2019-12-01",
          "2020-01-01",
          "2020-02-01",
          "2020-03-01",
          "2020-04-01",
          "2020-05-01",
          "2020-06-01",
          "2020-07-01",
          "2020-08-01",
          "2020-09-01",
          "2020-10-01",
          "2020-11-01",
          "2020-12-01",
          "2021-01-01",
          "2021-02-01",
          "2021-03-01",
          "2021-04-01",
          "2021-05-01"
         ],
         "xaxis": "x17",
         "y": [
          0.7214514547390659,
          0.006970545456416102,
          0.435659091026006,
          1.7217247277347756,
          0.5785552728825359,
          -0.7075103638262337,
          0.5785552728825359,
          -0.9933027275392936,
          -1.2790950912523535,
          -1.2790950912523535,
          -0.4217180001131738,
          1.5788285458782456,
          0.7214514547390659,
          0.006970545456416102,
          0.435659091026006,
          1.7217247277347756,
          0.5785552728825359,
          -0.7075103638262337,
          0.5785552728825359,
          -0.9933027275392936,
          -0.9933027275392936,
          2.436205637017425,
          0.14986672731294606,
          -0.4217180001131738,
          -0.13592563640011385,
          1.8646209095913056,
          -1.2790950912523535,
          -1.2790950912523535,
          -0.7075103638262337,
          -0.2788218182566438,
          -0.2788218182566438,
          -1.1361989093958236,
          -1.1361989093958236,
          -0.4217180001131738,
          -0.4217180001131738,
          -0.7075103638262337,
          -0.4217180001131738,
          0.292762909169476,
          0.14986672731294606,
          2.1504132733043653,
          -0.7075103638262337
         ],
         "yaxis": "y17"
        },
        {
         "hovertemplate": "idArticulo=3882<br>Periodo=%{x}<br>value=%{y}<extra></extra>",
         "legendgroup": "3882",
         "line": {
          "color": "#19d3f3",
          "dash": "solid"
         },
         "marker": {
          "symbol": "circle"
         },
         "mode": "lines",
         "name": "3882",
         "showlegend": true,
         "type": "scattergl",
         "x": [
          "2018-01-01",
          "2018-02-01",
          "2018-03-01",
          "2018-04-01",
          "2018-05-01",
          "2018-06-01",
          "2018-07-01",
          "2018-08-01",
          "2018-09-01",
          "2018-10-01",
          "2018-11-01",
          "2018-12-01",
          "2019-01-01",
          "2019-02-01",
          "2019-03-01",
          "2019-04-01",
          "2019-05-01",
          "2019-06-01",
          "2019-07-01",
          "2019-08-01",
          "2019-09-01",
          "2019-10-01",
          "2019-11-01",
          "2019-12-01",
          "2020-01-01",
          "2020-02-01",
          "2020-03-01",
          "2020-04-01",
          "2020-05-01",
          "2020-06-01",
          "2020-07-01",
          "2020-08-01",
          "2020-09-01",
          "2020-10-01",
          "2020-11-01",
          "2020-12-01",
          "2021-01-01",
          "2021-02-01",
          "2021-03-01",
          "2021-04-01",
          "2021-05-01"
         ],
         "xaxis": "x18",
         "y": [
          0.5967191694638828,
          1.6021500988345347,
          0.5967191694638828,
          1.2670064557109841,
          0.5967191694638828,
          -0.0735681167832185,
          0.9318628125874334,
          -0.7438554030303198,
          -1.4141426892774211,
          1.6021500988345347,
          -0.7438554030303198,
          -0.40871175990676917,
          0.5967191694638828,
          1.6021500988345347,
          0.5967191694638828,
          0.9318628125874334,
          0.5967191694638828,
          -0.0735681167832185,
          0.9318628125874334,
          -0.7438554030303198,
          -0.7438554030303198,
          0.26157552634033215,
          3.2778683144522884,
          -0.0735681167832185,
          -0.40871175990676917,
          0.26157552634033215,
          -1.0789990461538705,
          -1.4141426892774211,
          -0.40871175990676917,
          -0.40871175990676917,
          0.5967191694638828,
          -1.0789990461538705,
          -0.7438554030303198,
          -1.0789990461538705,
          -0.7438554030303198,
          -1.0789990461538705,
          -0.40871175990676917,
          -0.40871175990676917,
          -0.7438554030303198,
          -0.40871175990676917,
          -1.4141426892774211
         ],
         "yaxis": "y18"
        },
        {
         "hovertemplate": "idArticulo=3883<br>Periodo=%{x}<br>value=%{y}<extra></extra>",
         "legendgroup": "3883",
         "line": {
          "color": "#FF6692",
          "dash": "solid"
         },
         "marker": {
          "symbol": "circle"
         },
         "mode": "lines",
         "name": "3883",
         "showlegend": true,
         "type": "scattergl",
         "x": [
          "2018-01-01",
          "2018-02-01",
          "2018-03-01",
          "2018-04-01",
          "2018-05-01",
          "2018-06-01",
          "2018-07-01",
          "2018-08-01",
          "2018-09-01",
          "2018-10-01",
          "2018-11-01",
          "2018-12-01",
          "2019-01-01",
          "2019-02-01",
          "2019-03-01",
          "2019-04-01",
          "2019-05-01",
          "2019-06-01",
          "2019-07-01",
          "2019-08-01",
          "2019-09-01",
          "2019-10-01",
          "2019-11-01",
          "2019-12-01",
          "2020-01-01",
          "2020-02-01",
          "2020-03-01",
          "2020-04-01",
          "2020-05-01",
          "2020-06-01",
          "2020-07-01",
          "2020-08-01",
          "2020-09-01",
          "2020-10-01",
          "2020-11-01",
          "2020-12-01",
          "2021-01-01",
          "2021-02-01",
          "2021-03-01",
          "2021-04-01",
          "2021-05-01"
         ],
         "xaxis": "x13",
         "y": [
          0.6000101439596954,
          -1.292329540836267,
          0.6000101439596954,
          0.6000101439596954,
          0.6000101439596954,
          -0.751661059465992,
          1.1406786253299706,
          0.870344384644833,
          -1.5626637815214044,
          0.05934166258942048,
          0.6000101439596954,
          1.1406786253299706,
          0.6000101439596954,
          -1.292329540836267,
          0.6000101439596954,
          0.6000101439596954,
          0.6000101439596954,
          -0.751661059465992,
          1.1406786253299706,
          0.870344384644833,
          1.411012866015108,
          -0.210992578095717,
          0.329675903274558,
          -1.0219953001511295,
          0.329675903274558,
          0.05934166258942048,
          -1.0219953001511295,
          -1.0219953001511295,
          -1.292329540836267,
          -0.4813268187808545,
          3.3033525508110704,
          -0.210992578095717,
          -1.292329540836267,
          -1.0219953001511295,
          0.05934166258942048,
          -0.4813268187808545,
          -0.4813268187808545,
          -0.751661059465992,
          -1.5626637815214044,
          0.870344384644833,
          -0.4813268187808545
         ],
         "yaxis": "y13"
        },
        {
         "hovertemplate": "idArticulo=4070<br>Periodo=%{x}<br>value=%{y}<extra></extra>",
         "legendgroup": "4070",
         "line": {
          "color": "#B6E880",
          "dash": "solid"
         },
         "marker": {
          "symbol": "circle"
         },
         "mode": "lines",
         "name": "4070",
         "showlegend": true,
         "type": "scattergl",
         "x": [
          "2018-01-01",
          "2018-02-01",
          "2018-03-01",
          "2018-04-01",
          "2018-05-01",
          "2018-06-01",
          "2018-07-01",
          "2018-08-01",
          "2018-09-01",
          "2018-10-01",
          "2018-11-01",
          "2018-12-01",
          "2019-01-01",
          "2019-02-01",
          "2019-03-01",
          "2019-04-01",
          "2019-05-01",
          "2019-06-01",
          "2019-07-01",
          "2019-08-01",
          "2019-09-01",
          "2019-10-01",
          "2019-11-01",
          "2019-12-01",
          "2020-01-01",
          "2020-02-01",
          "2020-03-01",
          "2020-04-01",
          "2020-05-01",
          "2020-06-01",
          "2020-07-01",
          "2020-08-01",
          "2020-09-01",
          "2020-10-01",
          "2020-11-01",
          "2020-12-01",
          "2021-01-01",
          "2021-02-01",
          "2021-03-01",
          "2021-04-01",
          "2021-05-01"
         ],
         "xaxis": "x14",
         "y": [
          -0.24383299543359807,
          -0.7842196339621128,
          0.8369402816234314,
          0.8369402816234314,
          -0.24383299543359807,
          -0.7842196339621128,
          -0.24383299543359807,
          -0.5140263146978554,
          -1.0544129532263702,
          -0.7842196339621128,
          0.29655364309491666,
          -0.24383299543359807,
          -0.24383299543359807,
          -0.7842196339621128,
          1.1071336008876886,
          0.8369402816234314,
          -0.24383299543359807,
          -0.7842196339621128,
          -0.24383299543359807,
          -0.5140263146978554,
          2.4581001972089753,
          -0.24383299543359807,
          -0.5140263146978554,
          -0.5140263146978554,
          -0.7842196339621128,
          3.2686801550017477,
          -0.5140263146978554,
          -1.0544129532263702,
          -0.7842196339621128,
          -0.5140263146978554,
          0.29655364309491666,
          -0.5140263146978554,
          -0.5140263146978554,
          0.8369402816234314,
          2.4581001972089753,
          1.377326920151946,
          0.8369402816234314,
          0.29655364309491666,
          0.02636032383065928,
          -1.0544129532263702,
          -1.0544129532263702
         ],
         "yaxis": "y14"
        },
        {
         "hovertemplate": "idArticulo=4827<br>Periodo=%{x}<br>value=%{y}<extra></extra>",
         "legendgroup": "4827",
         "line": {
          "color": "#FF97FF",
          "dash": "solid"
         },
         "marker": {
          "symbol": "circle"
         },
         "mode": "lines",
         "name": "4827",
         "showlegend": true,
         "type": "scattergl",
         "x": [
          "2018-01-01",
          "2018-02-01",
          "2018-03-01",
          "2018-04-01",
          "2018-05-01",
          "2018-06-01",
          "2018-07-01",
          "2018-08-01",
          "2018-09-01",
          "2018-10-01",
          "2018-11-01",
          "2018-12-01",
          "2019-01-01",
          "2019-02-01",
          "2019-03-01",
          "2019-04-01",
          "2019-05-01",
          "2019-06-01",
          "2019-07-01",
          "2019-08-01",
          "2019-09-01",
          "2019-10-01",
          "2019-11-01",
          "2019-12-01",
          "2020-01-01",
          "2020-02-01",
          "2020-03-01",
          "2020-04-01",
          "2020-05-01",
          "2020-06-01",
          "2020-07-01",
          "2020-08-01",
          "2020-09-01",
          "2020-10-01",
          "2020-11-01",
          "2020-12-01",
          "2021-01-01",
          "2021-02-01",
          "2021-03-01",
          "2021-04-01",
          "2021-05-01"
         ],
         "xaxis": "x15",
         "y": [
          -0.9583984266005506,
          0.16429687313152286,
          -0.6777246016675322,
          0.7256445229975595,
          0.7256445229975595,
          0.02395996066501366,
          2.1290136476626516,
          0.02395996066501366,
          -1.3794091640000783,
          -1.3794091640000783,
          1.006318347930578,
          -0.6777246016675322,
          -0.9583984266005506,
          0.02395996066501366,
          -0.6777246016675322,
          0.7256445229975595,
          0.7256445229975595,
          -0.11637695180149553,
          1.9886767351961423,
          0.02395996066501366,
          1.2869921728635965,
          -0.11637695180149553,
          1.006318347930578,
          0.02395996066501366,
          -0.5373876892010231,
          0.5853076105310504,
          -0.8180615141340415,
          -1.239072251533569,
          -0.8180615141340415,
          -0.3970507767345139,
          -0.11637695180149553,
          0.30463378559803206,
          2.8306982099951976,
          -0.3970507767345139,
          -1.0987353390670598,
          -0.3970507767345139,
          1.1466552603970872,
          0.8659814354640688,
          -1.0987353390670598,
          -1.239072251533569,
          -1.239072251533569
         ],
         "yaxis": "y15"
        },
        {
         "hovertemplate": "idArticulo=5389<br>Periodo=%{x}<br>value=%{y}<extra></extra>",
         "legendgroup": "5389",
         "line": {
          "color": "#FECB52",
          "dash": "solid"
         },
         "marker": {
          "symbol": "circle"
         },
         "mode": "lines",
         "name": "5389",
         "showlegend": true,
         "type": "scattergl",
         "x": [
          "2018-01-01",
          "2018-02-01",
          "2018-03-01",
          "2018-04-01",
          "2018-05-01",
          "2018-06-01",
          "2018-07-01",
          "2018-08-01",
          "2018-09-01",
          "2018-10-01",
          "2018-11-01",
          "2018-12-01",
          "2019-01-01",
          "2019-02-01",
          "2019-03-01",
          "2019-04-01",
          "2019-05-01",
          "2019-06-01",
          "2019-07-01",
          "2019-08-01",
          "2019-09-01",
          "2019-10-01",
          "2019-11-01",
          "2019-12-01",
          "2020-01-01",
          "2020-02-01",
          "2020-03-01",
          "2020-04-01",
          "2020-05-01",
          "2020-06-01",
          "2020-07-01",
          "2020-08-01",
          "2020-09-01",
          "2020-10-01",
          "2020-11-01",
          "2020-12-01",
          "2021-01-01",
          "2021-02-01",
          "2021-03-01",
          "2021-04-01",
          "2021-05-01"
         ],
         "xaxis": "x10",
         "y": [
          0.7373429994210162,
          -0.17186190212068794,
          0.5100417740355903,
          -0.17186190212068794,
          2.5557528025044247,
          -0.62646435289154,
          0.2827405486501642,
          -0.399163127506114,
          -1.3083680290478181,
          0.7373429994210162,
          0.7373429994210162,
          -0.17186190212068794,
          0.5100417740355903,
          -0.17186190212068794,
          0.5100417740355903,
          -0.17186190212068794,
          2.1011503517335726,
          -0.62646435289154,
          0.2827405486501642,
          -0.399163127506114,
          -0.399163127506114,
          1.1919454501918683,
          0.05543932326473811,
          -0.399163127506114,
          0.05543932326473811,
          0.7373429994210162,
          -1.081066803662392,
          -1.3083680290478181,
          -1.3083680290478181,
          -1.081066803662392,
          -0.62646435289154,
          0.05543932326473811,
          2.5557528025044247,
          -0.399163127506114,
          -0.399163127506114,
          2.1011503517335726,
          -0.17186190212068794,
          -1.3083680290478181,
          -0.8537655782769661,
          -1.081066803662392,
          -1.081066803662392
         ],
         "yaxis": "y10"
        },
        {
         "hovertemplate": "idArticulo=551<br>Periodo=%{x}<br>value=%{y}<extra></extra>",
         "legendgroup": "551",
         "line": {
          "color": "#636efa",
          "dash": "solid"
         },
         "marker": {
          "symbol": "circle"
         },
         "mode": "lines",
         "name": "551",
         "showlegend": true,
         "type": "scattergl",
         "x": [
          "2018-01-01",
          "2018-02-01",
          "2018-03-01",
          "2018-04-01",
          "2018-05-01",
          "2018-06-01",
          "2018-07-01",
          "2018-08-01",
          "2018-09-01",
          "2018-10-01",
          "2018-11-01",
          "2018-12-01",
          "2019-01-01",
          "2019-02-01",
          "2019-03-01",
          "2019-04-01",
          "2019-05-01",
          "2019-06-01",
          "2019-07-01",
          "2019-08-01",
          "2019-09-01",
          "2019-10-01",
          "2019-11-01",
          "2019-12-01",
          "2020-01-01",
          "2020-02-01",
          "2020-03-01",
          "2020-04-01",
          "2020-05-01",
          "2020-06-01",
          "2020-07-01",
          "2020-08-01",
          "2020-09-01",
          "2020-10-01",
          "2020-11-01",
          "2020-12-01",
          "2021-01-01",
          "2021-02-01",
          "2021-03-01",
          "2021-04-01",
          "2021-05-01"
         ],
         "xaxis": "x11",
         "y": [
          -0.6254850496163781,
          -0.14614136673279854,
          0.9323819197552553,
          0.4530382368716758,
          3.8084440170567326,
          -0.14614136673279854,
          -0.6254850496163781,
          -0.745320970337273,
          -0.9849928117790627,
          0.8125459990343605,
          -0.745320970337273,
          -0.5056491288954832,
          -0.6254850496163781,
          -0.14614136673279854,
          0.8125459990343605,
          0.4530382368716758,
          3.6886080963358374,
          -0.14614136673279854,
          -0.6254850496163781,
          -0.745320970337273,
          0.0935304747089912,
          -0.5056491288954832,
          -0.2659772874536934,
          -0.3858132081745883,
          -0.2659772874536934,
          -0.745320970337273,
          -0.14614136673279854,
          -0.8651568910581678,
          -0.9849928117790627,
          0.0935304747089912,
          0.6927100783134656,
          -0.14614136673279854,
          -0.3858132081745883,
          -0.3858132081745883,
          1.0522178404761502,
          -0.2659772874536934,
          -0.2659772874536934,
          -0.5056491288954832,
          -0.5056491288954832,
          -0.026305446011903672,
          0.5728741575925708
         ],
         "yaxis": "y11"
        },
        {
         "hovertemplate": "idArticulo=5579<br>Periodo=%{x}<br>value=%{y}<extra></extra>",
         "legendgroup": "5579",
         "line": {
          "color": "#EF553B",
          "dash": "solid"
         },
         "marker": {
          "symbol": "circle"
         },
         "mode": "lines",
         "name": "5579",
         "showlegend": true,
         "type": "scattergl",
         "x": [
          "2018-01-01",
          "2018-02-01",
          "2018-03-01",
          "2018-04-01",
          "2018-05-01",
          "2018-06-01",
          "2018-07-01",
          "2018-08-01",
          "2018-09-01",
          "2018-10-01",
          "2018-11-01",
          "2018-12-01",
          "2019-01-01",
          "2019-02-01",
          "2019-03-01",
          "2019-04-01",
          "2019-05-01",
          "2019-06-01",
          "2019-07-01",
          "2019-08-01",
          "2019-09-01",
          "2019-10-01",
          "2019-11-01",
          "2019-12-01",
          "2020-01-01",
          "2020-02-01",
          "2020-03-01",
          "2020-04-01",
          "2020-05-01",
          "2020-06-01",
          "2020-07-01",
          "2020-08-01",
          "2020-09-01",
          "2020-10-01",
          "2020-11-01",
          "2020-12-01",
          "2021-01-01",
          "2021-02-01",
          "2021-03-01",
          "2021-04-01",
          "2021-05-01"
         ],
         "xaxis": "x12",
         "y": [
          0.5993789537442925,
          -0.2827839166383329,
          -0.156760649440815,
          -0.156760649440815,
          3.371890832089687,
          -0.2827839166383329,
          -0.5348304510333687,
          -0.6608537182308867,
          -0.9129002526259224,
          0.5993789537442925,
          -0.5348304510333687,
          -0.4088071838358508,
          0.8514254881393283,
          -0.2827839166383329,
          -0.156760649440815,
          -0.156760649440815,
          3.7499606336822406,
          -0.2827839166383329,
          -0.5348304510333687,
          -0.6608537182308867,
          -0.03073738224329708,
          -0.5348304510333687,
          -0.156760649440815,
          2.2376814273120256,
          -0.2827839166383329,
          -0.7868769854284046,
          -0.7868769854284046,
          -0.9129002526259224,
          -0.9129002526259224,
          -0.03073738224329708,
          -0.2827839166383329,
          -0.156760649440815,
          -0.2827839166383329,
          -0.4088071838358508,
          1.229495289731882,
          -0.156760649440815,
          -0.156760649440815,
          -0.5348304510333687,
          -0.4088071838358508,
          -0.2827839166383329,
          0.47335568654677457
         ],
         "yaxis": "y12"
        },
        {
         "hovertemplate": "idArticulo=594<br>Periodo=%{x}<br>value=%{y}<extra></extra>",
         "legendgroup": "594",
         "line": {
          "color": "#00cc96",
          "dash": "solid"
         },
         "marker": {
          "symbol": "circle"
         },
         "mode": "lines",
         "name": "594",
         "showlegend": true,
         "type": "scattergl",
         "x": [
          "2018-01-01",
          "2018-02-01",
          "2018-03-01",
          "2018-04-01",
          "2018-05-01",
          "2018-06-01",
          "2018-07-01",
          "2018-08-01",
          "2018-09-01",
          "2018-10-01",
          "2018-11-01",
          "2018-12-01",
          "2019-01-01",
          "2019-02-01",
          "2019-03-01",
          "2019-04-01",
          "2019-05-01",
          "2019-06-01",
          "2019-07-01",
          "2019-08-01",
          "2019-09-01",
          "2019-10-01",
          "2019-11-01",
          "2019-12-01",
          "2020-01-01",
          "2020-02-01",
          "2020-03-01",
          "2020-04-01",
          "2020-05-01",
          "2020-06-01",
          "2020-07-01",
          "2020-08-01",
          "2020-09-01",
          "2020-10-01",
          "2020-11-01",
          "2020-12-01",
          "2021-01-01",
          "2021-02-01",
          "2021-03-01",
          "2021-04-01",
          "2021-05-01"
         ],
         "xaxis": "x7",
         "y": [
          -0.1470208508729764,
          0.3553003896096933,
          0.3553003896096933,
          1.3599428705750327,
          -1.1516633318383158,
          0.3553003896096933,
          -0.6493420913556461,
          -0.1470208508729764,
          -1.6539845723209856,
          -1.6539845723209856,
          -0.6493420913556461,
          0.3553003896096933,
          -0.1470208508729764,
          0.3553003896096933,
          0.3553003896096933,
          1.3599428705750327,
          -1.1516633318383158,
          0.3553003896096933,
          -0.6493420913556461,
          -0.1470208508729764,
          -0.6493420913556461,
          -0.6493420913556461,
          0.3553003896096933,
          0.857621630092363,
          0.3553003896096933,
          0.3553003896096933,
          -0.6493420913556461,
          -1.6539845723209856,
          -1.1516633318383158,
          -0.6493420913556461,
          -1.6539845723209856,
          1.3599428705750327,
          0.3553003896096933,
          -1.1516633318383158,
          2.364585351540372,
          0.857621630092363,
          -0.1470208508729764,
          0.3553003896096933,
          1.3599428705750327,
          2.364585351540372,
          0.3553003896096933
         ],
         "yaxis": "y7"
        },
        {
         "hovertemplate": "idArticulo=6833<br>Periodo=%{x}<br>value=%{y}<extra></extra>",
         "legendgroup": "6833",
         "line": {
          "color": "#ab63fa",
          "dash": "solid"
         },
         "marker": {
          "symbol": "circle"
         },
         "mode": "lines",
         "name": "6833",
         "showlegend": true,
         "type": "scattergl",
         "x": [
          "2018-01-01",
          "2018-02-01",
          "2018-03-01",
          "2018-04-01",
          "2018-05-01",
          "2018-06-01",
          "2018-07-01",
          "2018-08-01",
          "2018-09-01",
          "2018-10-01",
          "2018-11-01",
          "2018-12-01",
          "2019-01-01",
          "2019-02-01",
          "2019-03-01",
          "2019-04-01",
          "2019-05-01",
          "2019-06-01",
          "2019-07-01",
          "2019-08-01",
          "2019-09-01",
          "2019-10-01",
          "2019-11-01",
          "2019-12-01",
          "2020-01-01",
          "2020-02-01",
          "2020-03-01",
          "2020-04-01",
          "2020-05-01",
          "2020-06-01",
          "2020-07-01",
          "2020-08-01",
          "2020-09-01",
          "2020-10-01",
          "2020-11-01",
          "2020-12-01",
          "2021-01-01",
          "2021-02-01",
          "2021-03-01",
          "2021-04-01",
          "2021-05-01"
         ],
         "xaxis": "x8",
         "y": [
          -0.44461958674584945,
          0.2182677971297807,
          -0.44461958674584945,
          0.8811551810054108,
          0.2182677971297807,
          2.2069299487566707,
          -0.11317589480803436,
          0.2182677971297807,
          -1.1075069706214795,
          -0.44461958674584945,
          -0.7760632786836644,
          -0.7760632786836644,
          -0.44461958674584945,
          0.2182677971297807,
          -0.44461958674584945,
          0.8811551810054108,
          0.2182677971297807,
          1.875486256818856,
          -0.11317589480803436,
          0.2182677971297807,
          -0.7760632786836644,
          -0.44461958674584945,
          1.875486256818856,
          -0.11317589480803436,
          2.869817332632301,
          -0.11317589480803436,
          2.869817332632301,
          -1.1075069706214795,
          -0.7760632786836644,
          -0.11317589480803436,
          -0.11317589480803436,
          -0.11317589480803436,
          -0.44461958674584945,
          -0.44461958674584945,
          -1.1075069706214795,
          -0.7760632786836644,
          -0.7760632786836644,
          -0.7760632786836644,
          -0.11317589480803436,
          -0.7760632786836644,
          -0.7760632786836644
         ],
         "yaxis": "y8"
        },
        {
         "hovertemplate": "idArticulo=7798<br>Periodo=%{x}<br>value=%{y}<extra></extra>",
         "legendgroup": "7798",
         "line": {
          "color": "#FFA15A",
          "dash": "solid"
         },
         "marker": {
          "symbol": "circle"
         },
         "mode": "lines",
         "name": "7798",
         "showlegend": true,
         "type": "scattergl",
         "x": [
          "2018-01-01",
          "2018-02-01",
          "2018-03-01",
          "2018-04-01",
          "2018-05-01",
          "2018-06-01",
          "2018-07-01",
          "2018-08-01",
          "2018-09-01",
          "2018-10-01",
          "2018-11-01",
          "2018-12-01",
          "2019-01-01",
          "2019-02-01",
          "2019-03-01",
          "2019-04-01",
          "2019-05-01",
          "2019-06-01",
          "2019-07-01",
          "2019-08-01",
          "2019-09-01",
          "2019-10-01",
          "2019-11-01",
          "2019-12-01",
          "2020-01-01",
          "2020-02-01",
          "2020-03-01",
          "2020-04-01",
          "2020-05-01",
          "2020-06-01",
          "2020-07-01",
          "2020-08-01",
          "2020-09-01",
          "2020-10-01",
          "2020-11-01",
          "2020-12-01",
          "2021-01-01",
          "2021-02-01",
          "2021-03-01",
          "2021-04-01",
          "2021-05-01"
         ],
         "xaxis": "x9",
         "y": [
          -0.8221848697197707,
          -0.2508360619484046,
          0.8918615535943275,
          0.03483834193727845,
          -0.5365104658340876,
          -0.2508360619484046,
          -0.5365104658340876,
          -0.2508360619484046,
          -0.8221848697197707,
          -0.5365104658340876,
          -0.2508360619484046,
          0.03483834193727845,
          -0.8221848697197707,
          -0.2508360619484046,
          0.8918615535943275,
          0.03483834193727845,
          -0.5365104658340876,
          -0.2508360619484046,
          -0.5365104658340876,
          -0.2508360619484046,
          -0.5365104658340876,
          -0.5365104658340876,
          5.462652015765256,
          -0.5365104658340876,
          0.8918615535943275,
          -0.2508360619484046,
          -0.5365104658340876,
          -0.8221848697197707,
          -0.5365104658340876,
          0.32051274582296146,
          -0.2508360619484046,
          -0.2508360619484046,
          0.03483834193727845,
          0.6061871497086445,
          0.6061871497086445,
          -0.2508360619484046,
          0.8918615535943275,
          -0.2508360619484046,
          -0.2508360619484046,
          0.6061871497086445,
          0.6061871497086445
         ],
         "yaxis": "y9"
        },
        {
         "hovertemplate": "idArticulo=7799<br>Periodo=%{x}<br>value=%{y}<extra></extra>",
         "legendgroup": "7799",
         "line": {
          "color": "#19d3f3",
          "dash": "solid"
         },
         "marker": {
          "symbol": "circle"
         },
         "mode": "lines",
         "name": "7799",
         "showlegend": true,
         "type": "scattergl",
         "x": [
          "2018-01-01",
          "2018-02-01",
          "2018-03-01",
          "2018-04-01",
          "2018-05-01",
          "2018-06-01",
          "2018-07-01",
          "2018-08-01",
          "2018-09-01",
          "2018-10-01",
          "2018-11-01",
          "2018-12-01",
          "2019-01-01",
          "2019-02-01",
          "2019-03-01",
          "2019-04-01",
          "2019-05-01",
          "2019-06-01",
          "2019-07-01",
          "2019-08-01",
          "2019-09-01",
          "2019-10-01",
          "2019-11-01",
          "2019-12-01",
          "2020-01-01",
          "2020-02-01",
          "2020-03-01",
          "2020-04-01",
          "2020-05-01",
          "2020-06-01",
          "2020-07-01",
          "2020-08-01",
          "2020-09-01",
          "2020-10-01",
          "2020-11-01",
          "2020-12-01",
          "2021-01-01",
          "2021-02-01",
          "2021-03-01",
          "2021-04-01",
          "2021-05-01"
         ],
         "xaxis": "x4",
         "y": [
          -0.10857599033607726,
          -0.99889911109191,
          0.7817471304197554,
          0.18819838324920032,
          -0.99889911109191,
          0.18819838324920032,
          0.4849727568344779,
          -0.7021247375066324,
          -1.2956734846771876,
          2.5623933719314205,
          0.7817471304197554,
          -0.4053503639213548,
          -0.10857599033607726,
          -0.99889911109191,
          0.7817471304197554,
          0.18819838324920032,
          -0.99889911109191,
          0.18819838324920032,
          0.4849727568344779,
          -0.7021247375066324,
          1.9688446247608657,
          -0.7021247375066324,
          -0.7021247375066324,
          -0.4053503639213548,
          -0.4053503639213548,
          0.4849727568344779,
          1.078521504005033,
          -1.2956734846771876,
          -1.2956734846771876,
          2.5623933719314205,
          -0.10857599033607726,
          -0.7021247375066324,
          -0.7021247375066324,
          -0.7021247375066324,
          1.9688446247608657,
          -0.4053503639213548,
          1.3752958775903106,
          -0.99889911109191,
          0.18819838324920032,
          -0.10857599033607726,
          -0.4053503639213548
         ],
         "yaxis": "y4"
        },
        {
         "hovertemplate": "idArticulo=7801<br>Periodo=%{x}<br>value=%{y}<extra></extra>",
         "legendgroup": "7801",
         "line": {
          "color": "#FF6692",
          "dash": "solid"
         },
         "marker": {
          "symbol": "circle"
         },
         "mode": "lines",
         "name": "7801",
         "showlegend": true,
         "type": "scattergl",
         "x": [
          "2018-01-01",
          "2018-02-01",
          "2018-03-01",
          "2018-04-01",
          "2018-05-01",
          "2018-06-01",
          "2018-07-01",
          "2018-08-01",
          "2018-09-01",
          "2018-10-01",
          "2018-11-01",
          "2018-12-01",
          "2019-01-01",
          "2019-02-01",
          "2019-03-01",
          "2019-04-01",
          "2019-05-01",
          "2019-06-01",
          "2019-07-01",
          "2019-08-01",
          "2019-09-01",
          "2019-10-01",
          "2019-11-01",
          "2019-12-01",
          "2020-01-01",
          "2020-02-01",
          "2020-03-01",
          "2020-04-01",
          "2020-05-01",
          "2020-06-01",
          "2020-07-01",
          "2020-08-01",
          "2020-09-01",
          "2020-10-01",
          "2020-11-01",
          "2020-12-01",
          "2021-01-01",
          "2021-02-01",
          "2021-03-01",
          "2021-04-01",
          "2021-05-01"
         ],
         "xaxis": "x5",
         "y": [
          -0.5699164893252384,
          -0.34523787334125017,
          2.8002627504345856,
          -0.7945951053092267,
          0.7781552065786912,
          -0.34523787334125017,
          -0.34523787334125017,
          -0.1205592573572619,
          -1.019273721293215,
          -0.34523787334125017,
          0.32879797461071464,
          0.5534765905947029,
          -0.5699164893252384,
          -0.34523787334125017,
          2.5755841344505974,
          -0.7945951053092267,
          0.7781552065786912,
          -0.34523787334125017,
          -0.34523787334125017,
          -0.1205592573572619,
          -0.1205592573572619,
          -0.5699164893252384,
          3.698977214370539,
          0.32879797461071464,
          -0.34523787334125017,
          -0.34523787334125017,
          -1.019273721293215,
          -1.019273721293215,
          -0.34523787334125017,
          1.452191054530656,
          0.32879797461071464,
          -0.1205592573572619,
          -0.5699164893252384,
          -0.34523787334125017,
          -0.5699164893252384,
          -0.5699164893252384,
          0.10411935862672636,
          0.10411935862672636,
          -0.34523787334125017,
          -0.1205592573572619,
          -1.019273721293215
         ],
         "yaxis": "y5"
        },
        {
         "hovertemplate": "idArticulo=9776<br>Periodo=%{x}<br>value=%{y}<extra></extra>",
         "legendgroup": "9776",
         "line": {
          "color": "#B6E880",
          "dash": "solid"
         },
         "marker": {
          "symbol": "circle"
         },
         "mode": "lines",
         "name": "9776",
         "showlegend": true,
         "type": "scattergl",
         "x": [
          "2018-01-01",
          "2018-02-01",
          "2018-03-01",
          "2018-04-01",
          "2018-05-01",
          "2018-06-01",
          "2018-07-01",
          "2018-08-01",
          "2018-09-01",
          "2018-10-01",
          "2018-11-01",
          "2018-12-01",
          "2019-01-01",
          "2019-02-01",
          "2019-03-01",
          "2019-04-01",
          "2019-05-01",
          "2019-06-01",
          "2019-07-01",
          "2019-08-01",
          "2019-09-01",
          "2019-10-01",
          "2019-11-01",
          "2019-12-01",
          "2020-01-01",
          "2020-02-01",
          "2020-03-01",
          "2020-04-01",
          "2020-05-01",
          "2020-06-01",
          "2020-07-01",
          "2020-08-01",
          "2020-09-01",
          "2020-10-01",
          "2020-11-01",
          "2020-12-01",
          "2021-01-01",
          "2021-02-01",
          "2021-03-01",
          "2021-04-01",
          "2021-05-01"
         ],
         "xaxis": "x6",
         "y": [
          -0.16539412431236125,
          -0.4455452931955641,
          0.8751673601109635,
          -0.44804664291773555,
          -0.13787927736847527,
          -0.09660700695264628,
          -0.2666987880603051,
          -0.7144403883289954,
          -1.338527144010773,
          -1.0383651773501985,
          -0.4380412440290497,
          2.988807875345842,
          -0.16164209972910407,
          -0.46305474125076423,
          0.8001268684458199,
          -0.45054799263990697,
          -0.1816528975064757,
          -0.07409485945310319,
          -0.28045621153224815,
          -0.6756694676353379,
          -1.2759934009564866,
          1.0815287121901085,
          -0.11286578014676073,
          2.0132814836989747,
          2.5698317968821236,
          -0.012811791259902575,
          -0.25044001486619066,
          -1.338527144010773,
          -1.0633786745719132,
          -0.11411645500784645,
          -0.06909216000876028,
          -0.35049400375304884,
          1.719372891343829,
          1.4879980420429697,
          0.6688060080318186,
          -0.38801424958562064,
          0.9627146003869644,
          -0.28796026069876246,
          -0.7382032106896241,
          -0.775723456522196,
          -1.013351680128484
         ],
         "yaxis": "y6"
        },
        {
         "hovertemplate": "idArticulo=9950<br>Periodo=%{x}<br>value=%{y}<extra></extra>",
         "legendgroup": "9950",
         "line": {
          "color": "#FF97FF",
          "dash": "solid"
         },
         "marker": {
          "symbol": "circle"
         },
         "mode": "lines",
         "name": "9950",
         "showlegend": true,
         "type": "scattergl",
         "x": [
          "2018-01-01",
          "2018-02-01",
          "2018-03-01",
          "2018-04-01",
          "2018-05-01",
          "2018-06-01",
          "2018-07-01",
          "2018-08-01",
          "2018-09-01",
          "2018-10-01",
          "2018-11-01",
          "2018-12-01",
          "2019-01-01",
          "2019-02-01",
          "2019-03-01",
          "2019-04-01",
          "2019-05-01",
          "2019-06-01",
          "2019-07-01",
          "2019-08-01",
          "2019-09-01",
          "2019-10-01",
          "2019-11-01",
          "2019-12-01",
          "2020-01-01",
          "2020-02-01",
          "2020-03-01",
          "2020-04-01",
          "2020-05-01",
          "2020-06-01",
          "2020-07-01",
          "2020-08-01",
          "2020-09-01",
          "2020-10-01",
          "2020-11-01",
          "2020-12-01",
          "2021-01-01",
          "2021-02-01",
          "2021-03-01",
          "2021-04-01",
          "2021-05-01"
         ],
         "xaxis": "x",
         "y": [
          0.7213110177228721,
          2.210057703281507,
          -0.6467264771147927,
          1.0432021929787934,
          1.0432021929787934,
          -0.6467264771147927,
          -0.04318052350994053,
          0.9224930022578228,
          -1.3709816214406152,
          0.5201290331879215,
          -0.7674356678357631,
          0.6408382239088919,
          0.6408382239088919,
          2.169821306374517,
          -0.6467264771147927,
          1.002965796071803,
          1.002965796071803,
          -0.6467264771147927,
          -0.08341692041693068,
          0.6006018270019017,
          -1.1697996369056645,
          -0.0029441266029503936,
          2.169821306374517,
          -0.48578088948683207,
          -0.6869628740217828,
          0.03729227030403975,
          -1.1295632399986744,
          -1.330745224533625,
          -1.1295632399986744,
          0.7213110177228721,
          -0.2845989049518814,
          -0.08341692041693068,
          -1.1295632399986744,
          -0.48578088948683207,
          -0.8076720647427532,
          -1.0088540492777038,
          1.6869845434906356,
          -1.0490904461846942,
          -1.0088540492777038,
          -0.6064900802078025,
          0.11776506411802003
         ],
         "yaxis": "y"
        }
       ],
       "layout": {
        "annotations": [
         {
          "font": {},
          "showarrow": false,
          "text": "idArticulo=9950",
          "x": 0.15999999999999998,
          "xanchor": "center",
          "xref": "paper",
          "y": 0.03058823529411765,
          "yanchor": "bottom",
          "yref": "paper"
         },
         {
          "font": {},
          "showarrow": false,
          "text": "idArticulo=7799",
          "x": 0.15999999999999998,
          "xanchor": "center",
          "xref": "paper",
          "y": 0.0911764705882353,
          "yanchor": "bottom",
          "yref": "paper"
         },
         {
          "font": {},
          "showarrow": false,
          "text": "idArticulo=7801",
          "x": 0.49999999999999994,
          "xanchor": "center",
          "xref": "paper",
          "y": 0.0911764705882353,
          "yanchor": "bottom",
          "yref": "paper"
         },
         {
          "font": {},
          "showarrow": false,
          "text": "idArticulo=9776",
          "x": 0.8399999999999999,
          "xanchor": "center",
          "xref": "paper",
          "y": 0.0911764705882353,
          "yanchor": "bottom",
          "yref": "paper"
         },
         {
          "font": {},
          "showarrow": false,
          "text": "idArticulo=594",
          "x": 0.15999999999999998,
          "xanchor": "center",
          "xref": "paper",
          "y": 0.15176470588235294,
          "yanchor": "bottom",
          "yref": "paper"
         },
         {
          "font": {},
          "showarrow": false,
          "text": "idArticulo=6833",
          "x": 0.49999999999999994,
          "xanchor": "center",
          "xref": "paper",
          "y": 0.15176470588235294,
          "yanchor": "bottom",
          "yref": "paper"
         },
         {
          "font": {},
          "showarrow": false,
          "text": "idArticulo=7798",
          "x": 0.8399999999999999,
          "xanchor": "center",
          "xref": "paper",
          "y": 0.15176470588235294,
          "yanchor": "bottom",
          "yref": "paper"
         },
         {
          "font": {},
          "showarrow": false,
          "text": "idArticulo=5389",
          "x": 0.15999999999999998,
          "xanchor": "center",
          "xref": "paper",
          "y": 0.21235294117647058,
          "yanchor": "bottom",
          "yref": "paper"
         },
         {
          "font": {},
          "showarrow": false,
          "text": "idArticulo=551",
          "x": 0.49999999999999994,
          "xanchor": "center",
          "xref": "paper",
          "y": 0.21235294117647058,
          "yanchor": "bottom",
          "yref": "paper"
         },
         {
          "font": {},
          "showarrow": false,
          "text": "idArticulo=5579",
          "x": 0.8399999999999999,
          "xanchor": "center",
          "xref": "paper",
          "y": 0.21235294117647058,
          "yanchor": "bottom",
          "yref": "paper"
         },
         {
          "font": {},
          "showarrow": false,
          "text": "idArticulo=3883",
          "x": 0.15999999999999998,
          "xanchor": "center",
          "xref": "paper",
          "y": 0.27294117647058824,
          "yanchor": "bottom",
          "yref": "paper"
         },
         {
          "font": {},
          "showarrow": false,
          "text": "idArticulo=4070",
          "x": 0.49999999999999994,
          "xanchor": "center",
          "xref": "paper",
          "y": 0.27294117647058824,
          "yanchor": "bottom",
          "yref": "paper"
         },
         {
          "font": {},
          "showarrow": false,
          "text": "idArticulo=4827",
          "x": 0.8399999999999999,
          "xanchor": "center",
          "xref": "paper",
          "y": 0.27294117647058824,
          "yanchor": "bottom",
          "yref": "paper"
         },
         {
          "font": {},
          "showarrow": false,
          "text": "idArticulo=26170",
          "x": 0.15999999999999998,
          "xanchor": "center",
          "xref": "paper",
          "y": 0.3335294117647059,
          "yanchor": "bottom",
          "yref": "paper"
         },
         {
          "font": {},
          "showarrow": false,
          "text": "idArticulo=3745",
          "x": 0.49999999999999994,
          "xanchor": "center",
          "xref": "paper",
          "y": 0.3335294117647059,
          "yanchor": "bottom",
          "yref": "paper"
         },
         {
          "font": {},
          "showarrow": false,
          "text": "idArticulo=3882",
          "x": 0.8399999999999999,
          "xanchor": "center",
          "xref": "paper",
          "y": 0.3335294117647059,
          "yanchor": "bottom",
          "yref": "paper"
         },
         {
          "font": {},
          "showarrow": false,
          "text": "idArticulo=21577",
          "x": 0.15999999999999998,
          "xanchor": "center",
          "xref": "paper",
          "y": 0.3941176470588235,
          "yanchor": "bottom",
          "yref": "paper"
         },
         {
          "font": {},
          "showarrow": false,
          "text": "idArticulo=23900",
          "x": 0.49999999999999994,
          "xanchor": "center",
          "xref": "paper",
          "y": 0.3941176470588235,
          "yanchor": "bottom",
          "yref": "paper"
         },
         {
          "font": {},
          "showarrow": false,
          "text": "idArticulo=26158",
          "x": 0.8399999999999999,
          "xanchor": "center",
          "xref": "paper",
          "y": 0.3941176470588235,
          "yanchor": "bottom",
          "yref": "paper"
         },
         {
          "font": {},
          "showarrow": false,
          "text": "idArticulo=20310",
          "x": 0.15999999999999998,
          "xanchor": "center",
          "xref": "paper",
          "y": 0.4547058823529411,
          "yanchor": "bottom",
          "yref": "paper"
         },
         {
          "font": {},
          "showarrow": false,
          "text": "idArticulo=20697",
          "x": 0.49999999999999994,
          "xanchor": "center",
          "xref": "paper",
          "y": 0.4547058823529411,
          "yanchor": "bottom",
          "yref": "paper"
         },
         {
          "font": {},
          "showarrow": false,
          "text": "idArticulo=20769",
          "x": 0.8399999999999999,
          "xanchor": "center",
          "xref": "paper",
          "y": 0.4547058823529411,
          "yanchor": "bottom",
          "yref": "paper"
         },
         {
          "font": {},
          "showarrow": false,
          "text": "idArticulo=20301",
          "x": 0.15999999999999998,
          "xanchor": "center",
          "xref": "paper",
          "y": 0.5152941176470588,
          "yanchor": "bottom",
          "yref": "paper"
         },
         {
          "font": {},
          "showarrow": false,
          "text": "idArticulo=20305",
          "x": 0.49999999999999994,
          "xanchor": "center",
          "xref": "paper",
          "y": 0.5152941176470588,
          "yanchor": "bottom",
          "yref": "paper"
         },
         {
          "font": {},
          "showarrow": false,
          "text": "idArticulo=20309",
          "x": 0.8399999999999999,
          "xanchor": "center",
          "xref": "paper",
          "y": 0.5152941176470588,
          "yanchor": "bottom",
          "yref": "paper"
         },
         {
          "font": {},
          "showarrow": false,
          "text": "idArticulo=19571",
          "x": 0.15999999999999998,
          "xanchor": "center",
          "xref": "paper",
          "y": 0.5758823529411765,
          "yanchor": "bottom",
          "yref": "paper"
         },
         {
          "font": {},
          "showarrow": false,
          "text": "idArticulo=19574",
          "x": 0.49999999999999994,
          "xanchor": "center",
          "xref": "paper",
          "y": 0.5758823529411765,
          "yanchor": "bottom",
          "yref": "paper"
         },
         {
          "font": {},
          "showarrow": false,
          "text": "idArticulo=20263",
          "x": 0.8399999999999999,
          "xanchor": "center",
          "xref": "paper",
          "y": 0.5758823529411765,
          "yanchor": "bottom",
          "yref": "paper"
         },
         {
          "font": {},
          "showarrow": false,
          "text": "idArticulo=17750",
          "x": 0.15999999999999998,
          "xanchor": "center",
          "xref": "paper",
          "y": 0.6364705882352941,
          "yanchor": "bottom",
          "yref": "paper"
         },
         {
          "font": {},
          "showarrow": false,
          "text": "idArticulo=17779",
          "x": 0.49999999999999994,
          "xanchor": "center",
          "xref": "paper",
          "y": 0.6364705882352941,
          "yanchor": "bottom",
          "yref": "paper"
         },
         {
          "font": {},
          "showarrow": false,
          "text": "idArticulo=17804",
          "x": 0.8399999999999999,
          "xanchor": "center",
          "xref": "paper",
          "y": 0.6364705882352941,
          "yanchor": "bottom",
          "yref": "paper"
         },
         {
          "font": {},
          "showarrow": false,
          "text": "idArticulo=16404",
          "x": 0.15999999999999998,
          "xanchor": "center",
          "xref": "paper",
          "y": 0.6970588235294117,
          "yanchor": "bottom",
          "yref": "paper"
         },
         {
          "font": {},
          "showarrow": false,
          "text": "idArticulo=17413",
          "x": 0.49999999999999994,
          "xanchor": "center",
          "xref": "paper",
          "y": 0.6970588235294117,
          "yanchor": "bottom",
          "yref": "paper"
         },
         {
          "font": {},
          "showarrow": false,
          "text": "idArticulo=17414",
          "x": 0.8399999999999999,
          "xanchor": "center",
          "xref": "paper",
          "y": 0.6970588235294117,
          "yanchor": "bottom",
          "yref": "paper"
         },
         {
          "font": {},
          "showarrow": false,
          "text": "idArticulo=14708",
          "x": 0.15999999999999998,
          "xanchor": "center",
          "xref": "paper",
          "y": 0.7576470588235295,
          "yanchor": "bottom",
          "yref": "paper"
         },
         {
          "font": {},
          "showarrow": false,
          "text": "idArticulo=14709",
          "x": 0.49999999999999994,
          "xanchor": "center",
          "xref": "paper",
          "y": 0.7576470588235295,
          "yanchor": "bottom",
          "yref": "paper"
         },
         {
          "font": {},
          "showarrow": false,
          "text": "idArticulo=1627",
          "x": 0.8399999999999999,
          "xanchor": "center",
          "xref": "paper",
          "y": 0.7576470588235295,
          "yanchor": "bottom",
          "yref": "paper"
         },
         {
          "font": {},
          "showarrow": false,
          "text": "idArticulo=1208",
          "x": 0.15999999999999998,
          "xanchor": "center",
          "xref": "paper",
          "y": 0.8182352941176471,
          "yanchor": "bottom",
          "yref": "paper"
         },
         {
          "font": {},
          "showarrow": false,
          "text": "idArticulo=1224",
          "x": 0.49999999999999994,
          "xanchor": "center",
          "xref": "paper",
          "y": 0.8182352941176471,
          "yanchor": "bottom",
          "yref": "paper"
         },
         {
          "font": {},
          "showarrow": false,
          "text": "idArticulo=14606",
          "x": 0.8399999999999999,
          "xanchor": "center",
          "xref": "paper",
          "y": 0.8182352941176471,
          "yanchor": "bottom",
          "yref": "paper"
         },
         {
          "font": {},
          "showarrow": false,
          "text": "idArticulo=11509",
          "x": 0.15999999999999998,
          "xanchor": "center",
          "xref": "paper",
          "y": 0.8788235294117647,
          "yanchor": "bottom",
          "yref": "paper"
         },
         {
          "font": {},
          "showarrow": false,
          "text": "idArticulo=11523",
          "x": 0.49999999999999994,
          "xanchor": "center",
          "xref": "paper",
          "y": 0.8788235294117647,
          "yanchor": "bottom",
          "yref": "paper"
         },
         {
          "font": {},
          "showarrow": false,
          "text": "idArticulo=11807",
          "x": 0.8399999999999999,
          "xanchor": "center",
          "xref": "paper",
          "y": 0.8788235294117647,
          "yanchor": "bottom",
          "yref": "paper"
         },
         {
          "font": {},
          "showarrow": false,
          "text": "idArticulo=10964",
          "x": 0.15999999999999998,
          "xanchor": "center",
          "xref": "paper",
          "y": 0.9394117647058823,
          "yanchor": "bottom",
          "yref": "paper"
         },
         {
          "font": {},
          "showarrow": false,
          "text": "idArticulo=11395",
          "x": 0.49999999999999994,
          "xanchor": "center",
          "xref": "paper",
          "y": 0.9394117647058823,
          "yanchor": "bottom",
          "yref": "paper"
         },
         {
          "font": {},
          "showarrow": false,
          "text": "idArticulo=11397",
          "x": 0.8399999999999999,
          "xanchor": "center",
          "xref": "paper",
          "y": 0.9394117647058823,
          "yanchor": "bottom",
          "yref": "paper"
         },
         {
          "font": {},
          "showarrow": false,
          "text": "idArticulo=10702",
          "x": 0.15999999999999998,
          "xanchor": "center",
          "xref": "paper",
          "y": 0.9999999999999999,
          "yanchor": "bottom",
          "yref": "paper"
         },
         {
          "font": {},
          "showarrow": false,
          "text": "idArticulo=10927",
          "x": 0.49999999999999994,
          "xanchor": "center",
          "xref": "paper",
          "y": 0.9999999999999999,
          "yanchor": "bottom",
          "yref": "paper"
         },
         {
          "font": {},
          "showarrow": false,
          "text": "idArticulo=10960",
          "x": 0.8399999999999999,
          "xanchor": "center",
          "xref": "paper",
          "y": 0.9999999999999999,
          "yanchor": "bottom",
          "yref": "paper"
         }
        ],
        "height": 2000,
        "legend": {
         "title": {
          "text": "idArticulo"
         },
         "tracegroupgap": 0
        },
        "margin": {
         "t": 60
        },
        "template": {
         "data": {
          "bar": [
           {
            "error_x": {
             "color": "#2a3f5f"
            },
            "error_y": {
             "color": "#2a3f5f"
            },
            "marker": {
             "line": {
              "color": "#E5ECF6",
              "width": 0.5
             },
             "pattern": {
              "fillmode": "overlay",
              "size": 10,
              "solidity": 0.2
             }
            },
            "type": "bar"
           }
          ],
          "barpolar": [
           {
            "marker": {
             "line": {
              "color": "#E5ECF6",
              "width": 0.5
             },
             "pattern": {
              "fillmode": "overlay",
              "size": 10,
              "solidity": 0.2
             }
            },
            "type": "barpolar"
           }
          ],
          "carpet": [
           {
            "aaxis": {
             "endlinecolor": "#2a3f5f",
             "gridcolor": "white",
             "linecolor": "white",
             "minorgridcolor": "white",
             "startlinecolor": "#2a3f5f"
            },
            "baxis": {
             "endlinecolor": "#2a3f5f",
             "gridcolor": "white",
             "linecolor": "white",
             "minorgridcolor": "white",
             "startlinecolor": "#2a3f5f"
            },
            "type": "carpet"
           }
          ],
          "choropleth": [
           {
            "colorbar": {
             "outlinewidth": 0,
             "ticks": ""
            },
            "type": "choropleth"
           }
          ],
          "contour": [
           {
            "colorbar": {
             "outlinewidth": 0,
             "ticks": ""
            },
            "colorscale": [
             [
              0,
              "#0d0887"
             ],
             [
              0.1111111111111111,
              "#46039f"
             ],
             [
              0.2222222222222222,
              "#7201a8"
             ],
             [
              0.3333333333333333,
              "#9c179e"
             ],
             [
              0.4444444444444444,
              "#bd3786"
             ],
             [
              0.5555555555555556,
              "#d8576b"
             ],
             [
              0.6666666666666666,
              "#ed7953"
             ],
             [
              0.7777777777777778,
              "#fb9f3a"
             ],
             [
              0.8888888888888888,
              "#fdca26"
             ],
             [
              1,
              "#f0f921"
             ]
            ],
            "type": "contour"
           }
          ],
          "contourcarpet": [
           {
            "colorbar": {
             "outlinewidth": 0,
             "ticks": ""
            },
            "type": "contourcarpet"
           }
          ],
          "heatmap": [
           {
            "colorbar": {
             "outlinewidth": 0,
             "ticks": ""
            },
            "colorscale": [
             [
              0,
              "#0d0887"
             ],
             [
              0.1111111111111111,
              "#46039f"
             ],
             [
              0.2222222222222222,
              "#7201a8"
             ],
             [
              0.3333333333333333,
              "#9c179e"
             ],
             [
              0.4444444444444444,
              "#bd3786"
             ],
             [
              0.5555555555555556,
              "#d8576b"
             ],
             [
              0.6666666666666666,
              "#ed7953"
             ],
             [
              0.7777777777777778,
              "#fb9f3a"
             ],
             [
              0.8888888888888888,
              "#fdca26"
             ],
             [
              1,
              "#f0f921"
             ]
            ],
            "type": "heatmap"
           }
          ],
          "heatmapgl": [
           {
            "colorbar": {
             "outlinewidth": 0,
             "ticks": ""
            },
            "colorscale": [
             [
              0,
              "#0d0887"
             ],
             [
              0.1111111111111111,
              "#46039f"
             ],
             [
              0.2222222222222222,
              "#7201a8"
             ],
             [
              0.3333333333333333,
              "#9c179e"
             ],
             [
              0.4444444444444444,
              "#bd3786"
             ],
             [
              0.5555555555555556,
              "#d8576b"
             ],
             [
              0.6666666666666666,
              "#ed7953"
             ],
             [
              0.7777777777777778,
              "#fb9f3a"
             ],
             [
              0.8888888888888888,
              "#fdca26"
             ],
             [
              1,
              "#f0f921"
             ]
            ],
            "type": "heatmapgl"
           }
          ],
          "histogram": [
           {
            "marker": {
             "pattern": {
              "fillmode": "overlay",
              "size": 10,
              "solidity": 0.2
             }
            },
            "type": "histogram"
           }
          ],
          "histogram2d": [
           {
            "colorbar": {
             "outlinewidth": 0,
             "ticks": ""
            },
            "colorscale": [
             [
              0,
              "#0d0887"
             ],
             [
              0.1111111111111111,
              "#46039f"
             ],
             [
              0.2222222222222222,
              "#7201a8"
             ],
             [
              0.3333333333333333,
              "#9c179e"
             ],
             [
              0.4444444444444444,
              "#bd3786"
             ],
             [
              0.5555555555555556,
              "#d8576b"
             ],
             [
              0.6666666666666666,
              "#ed7953"
             ],
             [
              0.7777777777777778,
              "#fb9f3a"
             ],
             [
              0.8888888888888888,
              "#fdca26"
             ],
             [
              1,
              "#f0f921"
             ]
            ],
            "type": "histogram2d"
           }
          ],
          "histogram2dcontour": [
           {
            "colorbar": {
             "outlinewidth": 0,
             "ticks": ""
            },
            "colorscale": [
             [
              0,
              "#0d0887"
             ],
             [
              0.1111111111111111,
              "#46039f"
             ],
             [
              0.2222222222222222,
              "#7201a8"
             ],
             [
              0.3333333333333333,
              "#9c179e"
             ],
             [
              0.4444444444444444,
              "#bd3786"
             ],
             [
              0.5555555555555556,
              "#d8576b"
             ],
             [
              0.6666666666666666,
              "#ed7953"
             ],
             [
              0.7777777777777778,
              "#fb9f3a"
             ],
             [
              0.8888888888888888,
              "#fdca26"
             ],
             [
              1,
              "#f0f921"
             ]
            ],
            "type": "histogram2dcontour"
           }
          ],
          "mesh3d": [
           {
            "colorbar": {
             "outlinewidth": 0,
             "ticks": ""
            },
            "type": "mesh3d"
           }
          ],
          "parcoords": [
           {
            "line": {
             "colorbar": {
              "outlinewidth": 0,
              "ticks": ""
             }
            },
            "type": "parcoords"
           }
          ],
          "pie": [
           {
            "automargin": true,
            "type": "pie"
           }
          ],
          "scatter": [
           {
            "marker": {
             "colorbar": {
              "outlinewidth": 0,
              "ticks": ""
             }
            },
            "type": "scatter"
           }
          ],
          "scatter3d": [
           {
            "line": {
             "colorbar": {
              "outlinewidth": 0,
              "ticks": ""
             }
            },
            "marker": {
             "colorbar": {
              "outlinewidth": 0,
              "ticks": ""
             }
            },
            "type": "scatter3d"
           }
          ],
          "scattercarpet": [
           {
            "marker": {
             "colorbar": {
              "outlinewidth": 0,
              "ticks": ""
             }
            },
            "type": "scattercarpet"
           }
          ],
          "scattergeo": [
           {
            "marker": {
             "colorbar": {
              "outlinewidth": 0,
              "ticks": ""
             }
            },
            "type": "scattergeo"
           }
          ],
          "scattergl": [
           {
            "marker": {
             "colorbar": {
              "outlinewidth": 0,
              "ticks": ""
             }
            },
            "type": "scattergl"
           }
          ],
          "scattermapbox": [
           {
            "marker": {
             "colorbar": {
              "outlinewidth": 0,
              "ticks": ""
             }
            },
            "type": "scattermapbox"
           }
          ],
          "scatterpolar": [
           {
            "marker": {
             "colorbar": {
              "outlinewidth": 0,
              "ticks": ""
             }
            },
            "type": "scatterpolar"
           }
          ],
          "scatterpolargl": [
           {
            "marker": {
             "colorbar": {
              "outlinewidth": 0,
              "ticks": ""
             }
            },
            "type": "scatterpolargl"
           }
          ],
          "scatterternary": [
           {
            "marker": {
             "colorbar": {
              "outlinewidth": 0,
              "ticks": ""
             }
            },
            "type": "scatterternary"
           }
          ],
          "surface": [
           {
            "colorbar": {
             "outlinewidth": 0,
             "ticks": ""
            },
            "colorscale": [
             [
              0,
              "#0d0887"
             ],
             [
              0.1111111111111111,
              "#46039f"
             ],
             [
              0.2222222222222222,
              "#7201a8"
             ],
             [
              0.3333333333333333,
              "#9c179e"
             ],
             [
              0.4444444444444444,
              "#bd3786"
             ],
             [
              0.5555555555555556,
              "#d8576b"
             ],
             [
              0.6666666666666666,
              "#ed7953"
             ],
             [
              0.7777777777777778,
              "#fb9f3a"
             ],
             [
              0.8888888888888888,
              "#fdca26"
             ],
             [
              1,
              "#f0f921"
             ]
            ],
            "type": "surface"
           }
          ],
          "table": [
           {
            "cells": {
             "fill": {
              "color": "#EBF0F8"
             },
             "line": {
              "color": "white"
             }
            },
            "header": {
             "fill": {
              "color": "#C8D4E3"
             },
             "line": {
              "color": "white"
             }
            },
            "type": "table"
           }
          ]
         },
         "layout": {
          "annotationdefaults": {
           "arrowcolor": "#2a3f5f",
           "arrowhead": 0,
           "arrowwidth": 1
          },
          "autotypenumbers": "strict",
          "coloraxis": {
           "colorbar": {
            "outlinewidth": 0,
            "ticks": ""
           }
          },
          "colorscale": {
           "diverging": [
            [
             0,
             "#8e0152"
            ],
            [
             0.1,
             "#c51b7d"
            ],
            [
             0.2,
             "#de77ae"
            ],
            [
             0.3,
             "#f1b6da"
            ],
            [
             0.4,
             "#fde0ef"
            ],
            [
             0.5,
             "#f7f7f7"
            ],
            [
             0.6,
             "#e6f5d0"
            ],
            [
             0.7,
             "#b8e186"
            ],
            [
             0.8,
             "#7fbc41"
            ],
            [
             0.9,
             "#4d9221"
            ],
            [
             1,
             "#276419"
            ]
           ],
           "sequential": [
            [
             0,
             "#0d0887"
            ],
            [
             0.1111111111111111,
             "#46039f"
            ],
            [
             0.2222222222222222,
             "#7201a8"
            ],
            [
             0.3333333333333333,
             "#9c179e"
            ],
            [
             0.4444444444444444,
             "#bd3786"
            ],
            [
             0.5555555555555556,
             "#d8576b"
            ],
            [
             0.6666666666666666,
             "#ed7953"
            ],
            [
             0.7777777777777778,
             "#fb9f3a"
            ],
            [
             0.8888888888888888,
             "#fdca26"
            ],
            [
             1,
             "#f0f921"
            ]
           ],
           "sequentialminus": [
            [
             0,
             "#0d0887"
            ],
            [
             0.1111111111111111,
             "#46039f"
            ],
            [
             0.2222222222222222,
             "#7201a8"
            ],
            [
             0.3333333333333333,
             "#9c179e"
            ],
            [
             0.4444444444444444,
             "#bd3786"
            ],
            [
             0.5555555555555556,
             "#d8576b"
            ],
            [
             0.6666666666666666,
             "#ed7953"
            ],
            [
             0.7777777777777778,
             "#fb9f3a"
            ],
            [
             0.8888888888888888,
             "#fdca26"
            ],
            [
             1,
             "#f0f921"
            ]
           ]
          },
          "colorway": [
           "#636efa",
           "#EF553B",
           "#00cc96",
           "#ab63fa",
           "#FFA15A",
           "#19d3f3",
           "#FF6692",
           "#B6E880",
           "#FF97FF",
           "#FECB52"
          ],
          "font": {
           "color": "#2a3f5f"
          },
          "geo": {
           "bgcolor": "white",
           "lakecolor": "white",
           "landcolor": "#E5ECF6",
           "showlakes": true,
           "showland": true,
           "subunitcolor": "white"
          },
          "hoverlabel": {
           "align": "left"
          },
          "hovermode": "closest",
          "mapbox": {
           "style": "light"
          },
          "paper_bgcolor": "white",
          "plot_bgcolor": "#E5ECF6",
          "polar": {
           "angularaxis": {
            "gridcolor": "white",
            "linecolor": "white",
            "ticks": ""
           },
           "bgcolor": "#E5ECF6",
           "radialaxis": {
            "gridcolor": "white",
            "linecolor": "white",
            "ticks": ""
           }
          },
          "scene": {
           "xaxis": {
            "backgroundcolor": "#E5ECF6",
            "gridcolor": "white",
            "gridwidth": 2,
            "linecolor": "white",
            "showbackground": true,
            "ticks": "",
            "zerolinecolor": "white"
           },
           "yaxis": {
            "backgroundcolor": "#E5ECF6",
            "gridcolor": "white",
            "gridwidth": 2,
            "linecolor": "white",
            "showbackground": true,
            "ticks": "",
            "zerolinecolor": "white"
           },
           "zaxis": {
            "backgroundcolor": "#E5ECF6",
            "gridcolor": "white",
            "gridwidth": 2,
            "linecolor": "white",
            "showbackground": true,
            "ticks": "",
            "zerolinecolor": "white"
           }
          },
          "shapedefaults": {
           "line": {
            "color": "#2a3f5f"
           }
          },
          "ternary": {
           "aaxis": {
            "gridcolor": "white",
            "linecolor": "white",
            "ticks": ""
           },
           "baxis": {
            "gridcolor": "white",
            "linecolor": "white",
            "ticks": ""
           },
           "bgcolor": "#E5ECF6",
           "caxis": {
            "gridcolor": "white",
            "linecolor": "white",
            "ticks": ""
           }
          },
          "title": {
           "x": 0.05
          },
          "xaxis": {
           "automargin": true,
           "gridcolor": "white",
           "linecolor": "white",
           "ticks": "",
           "title": {
            "standoff": 15
           },
           "zerolinecolor": "white",
           "zerolinewidth": 2
          },
          "yaxis": {
           "automargin": true,
           "gridcolor": "white",
           "linecolor": "white",
           "ticks": "",
           "title": {
            "standoff": 15
           },
           "zerolinecolor": "white",
           "zerolinewidth": 2
          }
         }
        },
        "xaxis": {
         "anchor": "y",
         "domain": [
          0,
          0.31999999999999995
         ],
         "title": {
          "text": "Periodo"
         }
        },
        "xaxis10": {
         "anchor": "y10",
         "domain": [
          0,
          0.31999999999999995
         ],
         "matches": "x",
         "showticklabels": false
        },
        "xaxis11": {
         "anchor": "y11",
         "domain": [
          0.33999999999999997,
          0.6599999999999999
         ],
         "matches": "x",
         "showticklabels": false
        },
        "xaxis12": {
         "anchor": "y12",
         "domain": [
          0.6799999999999999,
          0.9999999999999999
         ],
         "matches": "x",
         "showticklabels": false
        },
        "xaxis13": {
         "anchor": "y13",
         "domain": [
          0,
          0.31999999999999995
         ],
         "matches": "x",
         "showticklabels": false
        },
        "xaxis14": {
         "anchor": "y14",
         "domain": [
          0.33999999999999997,
          0.6599999999999999
         ],
         "matches": "x",
         "showticklabels": false
        },
        "xaxis15": {
         "anchor": "y15",
         "domain": [
          0.6799999999999999,
          0.9999999999999999
         ],
         "matches": "x",
         "showticklabels": false
        },
        "xaxis16": {
         "anchor": "y16",
         "domain": [
          0,
          0.31999999999999995
         ],
         "matches": "x",
         "showticklabels": false
        },
        "xaxis17": {
         "anchor": "y17",
         "domain": [
          0.33999999999999997,
          0.6599999999999999
         ],
         "matches": "x",
         "showticklabels": false
        },
        "xaxis18": {
         "anchor": "y18",
         "domain": [
          0.6799999999999999,
          0.9999999999999999
         ],
         "matches": "x",
         "showticklabels": false
        },
        "xaxis19": {
         "anchor": "y19",
         "domain": [
          0,
          0.31999999999999995
         ],
         "matches": "x",
         "showticklabels": false
        },
        "xaxis2": {
         "anchor": "y2",
         "domain": [
          0.33999999999999997,
          0.6599999999999999
         ],
         "matches": "x",
         "title": {
          "text": "Periodo"
         }
        },
        "xaxis20": {
         "anchor": "y20",
         "domain": [
          0.33999999999999997,
          0.6599999999999999
         ],
         "matches": "x",
         "showticklabels": false
        },
        "xaxis21": {
         "anchor": "y21",
         "domain": [
          0.6799999999999999,
          0.9999999999999999
         ],
         "matches": "x",
         "showticklabels": false
        },
        "xaxis22": {
         "anchor": "y22",
         "domain": [
          0,
          0.31999999999999995
         ],
         "matches": "x",
         "showticklabels": false
        },
        "xaxis23": {
         "anchor": "y23",
         "domain": [
          0.33999999999999997,
          0.6599999999999999
         ],
         "matches": "x",
         "showticklabels": false
        },
        "xaxis24": {
         "anchor": "y24",
         "domain": [
          0.6799999999999999,
          0.9999999999999999
         ],
         "matches": "x",
         "showticklabels": false
        },
        "xaxis25": {
         "anchor": "y25",
         "domain": [
          0,
          0.31999999999999995
         ],
         "matches": "x",
         "showticklabels": false
        },
        "xaxis26": {
         "anchor": "y26",
         "domain": [
          0.33999999999999997,
          0.6599999999999999
         ],
         "matches": "x",
         "showticklabels": false
        },
        "xaxis27": {
         "anchor": "y27",
         "domain": [
          0.6799999999999999,
          0.9999999999999999
         ],
         "matches": "x",
         "showticklabels": false
        },
        "xaxis28": {
         "anchor": "y28",
         "domain": [
          0,
          0.31999999999999995
         ],
         "matches": "x",
         "showticklabels": false
        },
        "xaxis29": {
         "anchor": "y29",
         "domain": [
          0.33999999999999997,
          0.6599999999999999
         ],
         "matches": "x",
         "showticklabels": false
        },
        "xaxis3": {
         "anchor": "y3",
         "domain": [
          0.6799999999999999,
          0.9999999999999999
         ],
         "matches": "x",
         "title": {
          "text": "Periodo"
         }
        },
        "xaxis30": {
         "anchor": "y30",
         "domain": [
          0.6799999999999999,
          0.9999999999999999
         ],
         "matches": "x",
         "showticklabels": false
        },
        "xaxis31": {
         "anchor": "y31",
         "domain": [
          0,
          0.31999999999999995
         ],
         "matches": "x",
         "showticklabels": false
        },
        "xaxis32": {
         "anchor": "y32",
         "domain": [
          0.33999999999999997,
          0.6599999999999999
         ],
         "matches": "x",
         "showticklabels": false
        },
        "xaxis33": {
         "anchor": "y33",
         "domain": [
          0.6799999999999999,
          0.9999999999999999
         ],
         "matches": "x",
         "showticklabels": false
        },
        "xaxis34": {
         "anchor": "y34",
         "domain": [
          0,
          0.31999999999999995
         ],
         "matches": "x",
         "showticklabels": false
        },
        "xaxis35": {
         "anchor": "y35",
         "domain": [
          0.33999999999999997,
          0.6599999999999999
         ],
         "matches": "x",
         "showticklabels": false
        },
        "xaxis36": {
         "anchor": "y36",
         "domain": [
          0.6799999999999999,
          0.9999999999999999
         ],
         "matches": "x",
         "showticklabels": false
        },
        "xaxis37": {
         "anchor": "y37",
         "domain": [
          0,
          0.31999999999999995
         ],
         "matches": "x",
         "showticklabels": false
        },
        "xaxis38": {
         "anchor": "y38",
         "domain": [
          0.33999999999999997,
          0.6599999999999999
         ],
         "matches": "x",
         "showticklabels": false
        },
        "xaxis39": {
         "anchor": "y39",
         "domain": [
          0.6799999999999999,
          0.9999999999999999
         ],
         "matches": "x",
         "showticklabels": false
        },
        "xaxis4": {
         "anchor": "y4",
         "domain": [
          0,
          0.31999999999999995
         ],
         "matches": "x",
         "showticklabels": false
        },
        "xaxis40": {
         "anchor": "y40",
         "domain": [
          0,
          0.31999999999999995
         ],
         "matches": "x",
         "showticklabels": false
        },
        "xaxis41": {
         "anchor": "y41",
         "domain": [
          0.33999999999999997,
          0.6599999999999999
         ],
         "matches": "x",
         "showticklabels": false
        },
        "xaxis42": {
         "anchor": "y42",
         "domain": [
          0.6799999999999999,
          0.9999999999999999
         ],
         "matches": "x",
         "showticklabels": false
        },
        "xaxis43": {
         "anchor": "y43",
         "domain": [
          0,
          0.31999999999999995
         ],
         "matches": "x",
         "showticklabels": false
        },
        "xaxis44": {
         "anchor": "y44",
         "domain": [
          0.33999999999999997,
          0.6599999999999999
         ],
         "matches": "x",
         "showticklabels": false
        },
        "xaxis45": {
         "anchor": "y45",
         "domain": [
          0.6799999999999999,
          0.9999999999999999
         ],
         "matches": "x",
         "showticklabels": false
        },
        "xaxis46": {
         "anchor": "y46",
         "domain": [
          0,
          0.31999999999999995
         ],
         "matches": "x",
         "showticklabels": false
        },
        "xaxis47": {
         "anchor": "y47",
         "domain": [
          0.33999999999999997,
          0.6599999999999999
         ],
         "matches": "x",
         "showticklabels": false
        },
        "xaxis48": {
         "anchor": "y48",
         "domain": [
          0.6799999999999999,
          0.9999999999999999
         ],
         "matches": "x",
         "showticklabels": false
        },
        "xaxis49": {
         "anchor": "y49",
         "domain": [
          0,
          0.31999999999999995
         ],
         "matches": "x",
         "showticklabels": false
        },
        "xaxis5": {
         "anchor": "y5",
         "domain": [
          0.33999999999999997,
          0.6599999999999999
         ],
         "matches": "x",
         "showticklabels": false
        },
        "xaxis50": {
         "anchor": "y50",
         "domain": [
          0.33999999999999997,
          0.6599999999999999
         ],
         "matches": "x",
         "showticklabels": false
        },
        "xaxis51": {
         "anchor": "y51",
         "domain": [
          0.6799999999999999,
          0.9999999999999999
         ],
         "matches": "x",
         "showticklabels": false
        },
        "xaxis6": {
         "anchor": "y6",
         "domain": [
          0.6799999999999999,
          0.9999999999999999
         ],
         "matches": "x",
         "showticklabels": false
        },
        "xaxis7": {
         "anchor": "y7",
         "domain": [
          0,
          0.31999999999999995
         ],
         "matches": "x",
         "showticklabels": false
        },
        "xaxis8": {
         "anchor": "y8",
         "domain": [
          0.33999999999999997,
          0.6599999999999999
         ],
         "matches": "x",
         "showticklabels": false
        },
        "xaxis9": {
         "anchor": "y9",
         "domain": [
          0.6799999999999999,
          0.9999999999999999
         ],
         "matches": "x",
         "showticklabels": false
        },
        "yaxis": {
         "anchor": "x",
         "domain": [
          0,
          0.03058823529411765
         ],
         "title": {
          "text": "value"
         }
        },
        "yaxis10": {
         "anchor": "x10",
         "domain": [
          0.18176470588235294,
          0.21235294117647058
         ],
         "matches": "y",
         "title": {
          "text": "value"
         }
        },
        "yaxis11": {
         "anchor": "x11",
         "domain": [
          0.18176470588235294,
          0.21235294117647058
         ],
         "matches": "y",
         "showticklabels": false
        },
        "yaxis12": {
         "anchor": "x12",
         "domain": [
          0.18176470588235294,
          0.21235294117647058
         ],
         "matches": "y",
         "showticklabels": false
        },
        "yaxis13": {
         "anchor": "x13",
         "domain": [
          0.2423529411764706,
          0.27294117647058824
         ],
         "matches": "y",
         "title": {
          "text": "value"
         }
        },
        "yaxis14": {
         "anchor": "x14",
         "domain": [
          0.2423529411764706,
          0.27294117647058824
         ],
         "matches": "y",
         "showticklabels": false
        },
        "yaxis15": {
         "anchor": "x15",
         "domain": [
          0.2423529411764706,
          0.27294117647058824
         ],
         "matches": "y",
         "showticklabels": false
        },
        "yaxis16": {
         "anchor": "x16",
         "domain": [
          0.30294117647058827,
          0.3335294117647059
         ],
         "matches": "y",
         "title": {
          "text": "value"
         }
        },
        "yaxis17": {
         "anchor": "x17",
         "domain": [
          0.30294117647058827,
          0.3335294117647059
         ],
         "matches": "y",
         "showticklabels": false
        },
        "yaxis18": {
         "anchor": "x18",
         "domain": [
          0.30294117647058827,
          0.3335294117647059
         ],
         "matches": "y",
         "showticklabels": false
        },
        "yaxis19": {
         "anchor": "x19",
         "domain": [
          0.3635294117647059,
          0.3941176470588235
         ],
         "matches": "y",
         "title": {
          "text": "value"
         }
        },
        "yaxis2": {
         "anchor": "x2",
         "domain": [
          0,
          0.03058823529411765
         ],
         "matches": "y",
         "showticklabels": false
        },
        "yaxis20": {
         "anchor": "x20",
         "domain": [
          0.3635294117647059,
          0.3941176470588235
         ],
         "matches": "y",
         "showticklabels": false
        },
        "yaxis21": {
         "anchor": "x21",
         "domain": [
          0.3635294117647059,
          0.3941176470588235
         ],
         "matches": "y",
         "showticklabels": false
        },
        "yaxis22": {
         "anchor": "x22",
         "domain": [
          0.4241176470588235,
          0.4547058823529411
         ],
         "matches": "y",
         "title": {
          "text": "value"
         }
        },
        "yaxis23": {
         "anchor": "x23",
         "domain": [
          0.4241176470588235,
          0.4547058823529411
         ],
         "matches": "y",
         "showticklabels": false
        },
        "yaxis24": {
         "anchor": "x24",
         "domain": [
          0.4241176470588235,
          0.4547058823529411
         ],
         "matches": "y",
         "showticklabels": false
        },
        "yaxis25": {
         "anchor": "x25",
         "domain": [
          0.48470588235294115,
          0.5152941176470588
         ],
         "matches": "y",
         "title": {
          "text": "value"
         }
        },
        "yaxis26": {
         "anchor": "x26",
         "domain": [
          0.48470588235294115,
          0.5152941176470588
         ],
         "matches": "y",
         "showticklabels": false
        },
        "yaxis27": {
         "anchor": "x27",
         "domain": [
          0.48470588235294115,
          0.5152941176470588
         ],
         "matches": "y",
         "showticklabels": false
        },
        "yaxis28": {
         "anchor": "x28",
         "domain": [
          0.5452941176470588,
          0.5758823529411765
         ],
         "matches": "y",
         "title": {
          "text": "value"
         }
        },
        "yaxis29": {
         "anchor": "x29",
         "domain": [
          0.5452941176470588,
          0.5758823529411765
         ],
         "matches": "y",
         "showticklabels": false
        },
        "yaxis3": {
         "anchor": "x3",
         "domain": [
          0,
          0.03058823529411765
         ],
         "matches": "y",
         "showticklabels": false
        },
        "yaxis30": {
         "anchor": "x30",
         "domain": [
          0.5452941176470588,
          0.5758823529411765
         ],
         "matches": "y",
         "showticklabels": false
        },
        "yaxis31": {
         "anchor": "x31",
         "domain": [
          0.6058823529411764,
          0.6364705882352941
         ],
         "matches": "y",
         "title": {
          "text": "value"
         }
        },
        "yaxis32": {
         "anchor": "x32",
         "domain": [
          0.6058823529411764,
          0.6364705882352941
         ],
         "matches": "y",
         "showticklabels": false
        },
        "yaxis33": {
         "anchor": "x33",
         "domain": [
          0.6058823529411764,
          0.6364705882352941
         ],
         "matches": "y",
         "showticklabels": false
        },
        "yaxis34": {
         "anchor": "x34",
         "domain": [
          0.666470588235294,
          0.6970588235294117
         ],
         "matches": "y",
         "title": {
          "text": "value"
         }
        },
        "yaxis35": {
         "anchor": "x35",
         "domain": [
          0.666470588235294,
          0.6970588235294117
         ],
         "matches": "y",
         "showticklabels": false
        },
        "yaxis36": {
         "anchor": "x36",
         "domain": [
          0.666470588235294,
          0.6970588235294117
         ],
         "matches": "y",
         "showticklabels": false
        },
        "yaxis37": {
         "anchor": "x37",
         "domain": [
          0.7270588235294118,
          0.7576470588235295
         ],
         "matches": "y",
         "title": {
          "text": "value"
         }
        },
        "yaxis38": {
         "anchor": "x38",
         "domain": [
          0.7270588235294118,
          0.7576470588235295
         ],
         "matches": "y",
         "showticklabels": false
        },
        "yaxis39": {
         "anchor": "x39",
         "domain": [
          0.7270588235294118,
          0.7576470588235295
         ],
         "matches": "y",
         "showticklabels": false
        },
        "yaxis4": {
         "anchor": "x4",
         "domain": [
          0.06058823529411765,
          0.0911764705882353
         ],
         "matches": "y",
         "title": {
          "text": "value"
         }
        },
        "yaxis40": {
         "anchor": "x40",
         "domain": [
          0.7876470588235294,
          0.8182352941176471
         ],
         "matches": "y",
         "title": {
          "text": "value"
         }
        },
        "yaxis41": {
         "anchor": "x41",
         "domain": [
          0.7876470588235294,
          0.8182352941176471
         ],
         "matches": "y",
         "showticklabels": false
        },
        "yaxis42": {
         "anchor": "x42",
         "domain": [
          0.7876470588235294,
          0.8182352941176471
         ],
         "matches": "y",
         "showticklabels": false
        },
        "yaxis43": {
         "anchor": "x43",
         "domain": [
          0.848235294117647,
          0.8788235294117647
         ],
         "matches": "y",
         "title": {
          "text": "value"
         }
        },
        "yaxis44": {
         "anchor": "x44",
         "domain": [
          0.848235294117647,
          0.8788235294117647
         ],
         "matches": "y",
         "showticklabels": false
        },
        "yaxis45": {
         "anchor": "x45",
         "domain": [
          0.848235294117647,
          0.8788235294117647
         ],
         "matches": "y",
         "showticklabels": false
        },
        "yaxis46": {
         "anchor": "x46",
         "domain": [
          0.9088235294117646,
          0.9394117647058823
         ],
         "matches": "y",
         "title": {
          "text": "value"
         }
        },
        "yaxis47": {
         "anchor": "x47",
         "domain": [
          0.9088235294117646,
          0.9394117647058823
         ],
         "matches": "y",
         "showticklabels": false
        },
        "yaxis48": {
         "anchor": "x48",
         "domain": [
          0.9088235294117646,
          0.9394117647058823
         ],
         "matches": "y",
         "showticklabels": false
        },
        "yaxis49": {
         "anchor": "x49",
         "domain": [
          0.9694117647058822,
          0.9999999999999999
         ],
         "matches": "y",
         "title": {
          "text": "value"
         }
        },
        "yaxis5": {
         "anchor": "x5",
         "domain": [
          0.06058823529411765,
          0.0911764705882353
         ],
         "matches": "y",
         "showticklabels": false
        },
        "yaxis50": {
         "anchor": "x50",
         "domain": [
          0.9694117647058822,
          0.9999999999999999
         ],
         "matches": "y",
         "showticklabels": false
        },
        "yaxis51": {
         "anchor": "x51",
         "domain": [
          0.9694117647058822,
          0.9999999999999999
         ],
         "matches": "y",
         "showticklabels": false
        },
        "yaxis6": {
         "anchor": "x6",
         "domain": [
          0.06058823529411765,
          0.0911764705882353
         ],
         "matches": "y",
         "showticklabels": false
        },
        "yaxis7": {
         "anchor": "x7",
         "domain": [
          0.1211764705882353,
          0.15176470588235294
         ],
         "matches": "y",
         "title": {
          "text": "value"
         }
        },
        "yaxis8": {
         "anchor": "x8",
         "domain": [
          0.1211764705882353,
          0.15176470588235294
         ],
         "matches": "y",
         "showticklabels": false
        },
        "yaxis9": {
         "anchor": "x9",
         "domain": [
          0.1211764705882353,
          0.15176470588235294
         ],
         "matches": "y",
         "showticklabels": false
        }
       }
      }
     },
     "metadata": {},
     "output_type": "display_data"
    }
   ],
   "source": [
    "scaler = StandardScaler().fit(df_time)\n",
    "df_time_scaled = scaler.transform(df_time)\n",
    "df_time_scaled = pd.DataFrame(df_time_scaled, columns=df_time.columns, index=df_time.index)\n",
    "df_time_scaled.head()\n",
    "print_linea_de_tiempo_producto(df_time_scaled , 'idArticulo', height=2000)"
   ]
  },
  {
   "cell_type": "code",
   "execution_count": null,
   "metadata": {},
   "outputs": [],
   "source": []
  }
 ],
 "metadata": {
  "interpreter": {
   "hash": "916dbcbb3f70747c44a77c7bcd40155683ae19c65e1c03b4aa3499c5328201f1"
  },
  "kernelspec": {
   "display_name": "Python 3.8.10 64-bit",
   "name": "python3"
  },
  "language_info": {
   "codemirror_mode": {
    "name": "ipython",
    "version": 3
   },
   "file_extension": ".py",
   "mimetype": "text/x-python",
   "name": "python",
   "nbconvert_exporter": "python",
   "pygments_lexer": "ipython3",
   "version": "3.8.10"
  },
  "orig_nbformat": 4
 },
 "nbformat": 4,
 "nbformat_minor": 2
}
